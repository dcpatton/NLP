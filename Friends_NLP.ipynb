{
  "nbformat": 4,
  "nbformat_minor": 0,
  "metadata": {
    "colab": {
      "name": "Friends_NLP.ipynb",
      "provenance": [],
      "authorship_tag": "ABX9TyNJahtPqCk4APcVqdS5TQjc",
      "include_colab_link": true
    },
    "kernelspec": {
      "name": "python3",
      "display_name": "Python 3"
    },
    "accelerator": "GPU"
  },
  "cells": [
    {
      "cell_type": "markdown",
      "metadata": {
        "id": "view-in-github",
        "colab_type": "text"
      },
      "source": [
        "<a href=\"https://colab.research.google.com/github/dcpatton/NLP/blob/master/Friends_NLP.ipynb\" target=\"_parent\"><img src=\"https://colab.research.google.com/assets/colab-badge.svg\" alt=\"Open In Colab\"/></a>"
      ]
    },
    {
      "cell_type": "code",
      "metadata": {
        "id": "D34X6YmIyMuP",
        "colab_type": "code",
        "colab": {}
      },
      "source": [
        "import random\n",
        "seed = 51\n",
        "random.seed(seed)"
      ],
      "execution_count": 1,
      "outputs": []
    },
    {
      "cell_type": "markdown",
      "metadata": {
        "id": "dSketUgHDToa",
        "colab_type": "text"
      },
      "source": [
        "# Data Loading and Prep"
      ]
    },
    {
      "cell_type": "code",
      "metadata": {
        "id": "FpbMubWQk_QM",
        "colab_type": "code",
        "colab": {
          "resources": {
            "http://localhost:8080/nbextensions/google.colab/files.js": {
              "data": "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",
              "ok": true,
              "headers": [
                [
                  "content-type",
                  "application/javascript"
                ]
              ],
              "status": 200,
              "status_text": ""
            }
          },
          "base_uri": "https://localhost:8080/",
          "height": 140
        },
        "outputId": "d2e83682-9509-45f0-e68e-2b06c9d46f44"
      },
      "source": [
        "from google.colab import files\n",
        "uploaded = files.upload()"
      ],
      "execution_count": 2,
      "outputs": [
        {
          "output_type": "display_data",
          "data": {
            "text/html": [
              "\n",
              "     <input type=\"file\" id=\"files-0ed83e58-9a45-487a-b23c-95e3514f9b58\" name=\"files[]\" multiple disabled\n",
              "        style=\"border:none\" />\n",
              "     <output id=\"result-0ed83e58-9a45-487a-b23c-95e3514f9b58\">\n",
              "      Upload widget is only available when the cell has been executed in the\n",
              "      current browser session. Please rerun this cell to enable.\n",
              "      </output>\n",
              "      <script src=\"/nbextensions/google.colab/files.js\"></script> "
            ],
            "text/plain": [
              "<IPython.core.display.HTML object>"
            ]
          },
          "metadata": {
            "tags": []
          }
        },
        {
          "output_type": "stream",
          "text": [
            "Saving friends_test.json to friends_test.json\n",
            "Saving friends_dev.json to friends_dev.json\n",
            "Saving friends_train.json to friends_train.json\n"
          ],
          "name": "stdout"
        }
      ]
    },
    {
      "cell_type": "code",
      "metadata": {
        "id": "R9VTjHEdkyZj",
        "colab_type": "code",
        "colab": {
          "base_uri": "https://localhost:8080/",
          "height": 564
        },
        "outputId": "ac5cb0fc-2991-462b-c28d-7de413dbde25"
      },
      "source": [
        "import pandas as pd\n",
        "\n",
        "df = pd.read_json('friends_train.json')\n",
        "df.head()"
      ],
      "execution_count": 3,
      "outputs": [
        {
          "output_type": "execute_result",
          "data": {
            "text/html": [
              "<div>\n",
              "<style scoped>\n",
              "    .dataframe tbody tr th:only-of-type {\n",
              "        vertical-align: middle;\n",
              "    }\n",
              "\n",
              "    .dataframe tbody tr th {\n",
              "        vertical-align: top;\n",
              "    }\n",
              "\n",
              "    .dataframe thead th {\n",
              "        text-align: right;\n",
              "    }\n",
              "</style>\n",
              "<table border=\"1\" class=\"dataframe\">\n",
              "  <thead>\n",
              "    <tr style=\"text-align: right;\">\n",
              "      <th></th>\n",
              "      <th>0</th>\n",
              "      <th>1</th>\n",
              "      <th>2</th>\n",
              "      <th>3</th>\n",
              "      <th>4</th>\n",
              "      <th>5</th>\n",
              "      <th>6</th>\n",
              "      <th>7</th>\n",
              "      <th>8</th>\n",
              "      <th>9</th>\n",
              "      <th>10</th>\n",
              "      <th>11</th>\n",
              "      <th>12</th>\n",
              "      <th>13</th>\n",
              "      <th>14</th>\n",
              "      <th>15</th>\n",
              "      <th>16</th>\n",
              "      <th>17</th>\n",
              "      <th>18</th>\n",
              "      <th>19</th>\n",
              "      <th>20</th>\n",
              "      <th>21</th>\n",
              "      <th>22</th>\n",
              "      <th>23</th>\n",
              "    </tr>\n",
              "  </thead>\n",
              "  <tbody>\n",
              "    <tr>\n",
              "      <th>0</th>\n",
              "      <td>{'speaker': 'Chandler', 'utterance': 'also I w...</td>\n",
              "      <td>{'speaker': 'The Interviewer', 'utterance': 'Y...</td>\n",
              "      <td>{'speaker': 'Chandler', 'utterance': 'That I d...</td>\n",
              "      <td>{'speaker': 'The Interviewer', 'utterance': 'S...</td>\n",
              "      <td>{'speaker': 'Chandler', 'utterance': 'My dutie...</td>\n",
              "      <td>{'speaker': 'The Interviewer', 'utterance': 'N...</td>\n",
              "      <td>{'speaker': 'Chandler', 'utterance': 'I see.',...</td>\n",
              "      <td>{'speaker': 'The Interviewer', 'utterance': 'B...</td>\n",
              "      <td>{'speaker': 'Chandler', 'utterance': 'Good to ...</td>\n",
              "      <td>{'speaker': 'The Interviewer', 'utterance': 'W...</td>\n",
              "      <td>{'speaker': 'Chandler', 'utterance': 'No dont...</td>\n",
              "      <td>{'speaker': 'The Interviewer', 'utterance': 'A...</td>\n",
              "      <td>{'speaker': 'Chandler', 'utterance': 'Really?!...</td>\n",
              "      <td>{'speaker': 'The Interviewer', 'utterance': 'A...</td>\n",
              "      <td>{'speaker': 'Joey', 'utterance': 'But then who...</td>\n",
              "      <td>{'speaker': 'Rachel', 'utterance': 'You know? ...</td>\n",
              "      <td>{'speaker': 'Joey', 'utterance': 'No-no-no-no,...</td>\n",
              "      <td>{'speaker': 'Rachel', 'utterance': 'No, I-I-I-...</td>\n",
              "      <td>{'speaker': 'Joey', 'utterance': 'Ok!', 'emoti...</td>\n",
              "      <td>{'speaker': 'Joey', 'utterance': 'All right, w...</td>\n",
              "      <td>{'speaker': 'Joey', 'utterance': 'I'm gonna se...</td>\n",
              "      <td>{'speaker': 'Joey', 'utterance': 'I'll see you...</td>\n",
              "      <td>{'speaker': 'Rachel', 'utterance': 'Yeah, sure...</td>\n",
              "      <td>None</td>\n",
              "    </tr>\n",
              "    <tr>\n",
              "      <th>1</th>\n",
              "      <td>{'speaker': 'Chandler', 'utterance': 'Hey, Mon...</td>\n",
              "      <td>{'speaker': 'Monica', 'utterance': 'Hey-hey-he...</td>\n",
              "      <td>{'speaker': 'Chandler', 'utterance': 'Do I eve...</td>\n",
              "      <td>{'speaker': 'Monica', 'utterance': 'Chris says...</td>\n",
              "      <td>{'speaker': 'Chandler', 'utterance': 'No way!'...</td>\n",
              "      <td>{'speaker': 'Monica', 'utterance': 'Yeah, appa...</td>\n",
              "      <td>{'speaker': 'Chandler', 'utterance': 'Just cof...</td>\n",
              "      <td>{'speaker': 'Monica', 'utterance': 'Got me.', ...</td>\n",
              "      <td>{'speaker': 'Chandler', 'utterance': 'Can I ge...</td>\n",
              "      <td>{'speaker': 'Monica', 'utterance': 'Hey, did y...</td>\n",
              "      <td>{'speaker': 'Chandler', 'utterance': 'You betc...</td>\n",
              "      <td>{'speaker': 'Monica', 'utterance': 'Is it the ...</td>\n",
              "      <td>{'speaker': 'Chandler', 'utterance': 'Um-mm, y...</td>\n",
              "      <td>{'speaker': 'Phoebe', 'utterance': 'Oh my God,...</td>\n",
              "      <td>{'speaker': 'Chandler', 'utterance': 'What, wh...</td>\n",
              "      <td>{'speaker': 'Phoebe', 'utterance': 'What?!', '...</td>\n",
              "      <td>{'speaker': 'Phoebe', 'utterance': 'He was wit...</td>\n",
              "      <td>{'speaker': 'Phoebe', 'utterance': 'Look,  'My...</td>\n",
              "      <td>{'speaker': 'Phoebe', 'utterance': 'Now that I...</td>\n",
              "      <td>{'speaker': 'Phoebe', 'utterance': 'He thinks ...</td>\n",
              "      <td>{'speaker': 'Chandler', 'utterance': 'You real...</td>\n",
              "      <td>{'speaker': 'Phoebe', 'utterance': 'Oh, totall...</td>\n",
              "      <td>{'speaker': 'Joey', 'utterance': 'Done.', 'emo...</td>\n",
              "      <td>None</td>\n",
              "    </tr>\n",
              "    <tr>\n",
              "      <th>2</th>\n",
              "      <td>{'speaker': 'Rachel', 'utterance': 'Hey!', 'em...</td>\n",
              "      <td>{'speaker': 'Ross', 'utterance': 'Hi!', 'emoti...</td>\n",
              "      <td>{'speaker': 'Rachel', 'utterance': 'What are y...</td>\n",
              "      <td>{'speaker': 'Ross', 'utterance': 'Ah y'know, t...</td>\n",
              "      <td>{'speaker': 'Rachel', 'utterance': 'Oh.', 'emo...</td>\n",
              "      <td>{'speaker': 'Ross', 'utterance': 'Hi.', 'emoti...</td>\n",
              "      <td>{'speaker': 'Rachel', 'utterance': 'Hi.', 'emo...</td>\n",
              "      <td>{'speaker': 'Ross', 'utterance': 'Howd did it...</td>\n",
              "      <td>{'speaker': 'Rachel', 'utterance': 'Oh well, t...</td>\n",
              "      <td>{'speaker': 'Ross', 'utterance': 'Im so proud...</td>\n",
              "      <td>{'speaker': 'Rachel', 'utterance': 'Me too!', ...</td>\n",
              "      <td>{'speaker': 'Ross', 'utterance': 'Listen, Im ...</td>\n",
              "      <td>{'speaker': 'Rachel', 'utterance': 'I know.', ...</td>\n",
              "      <td>{'speaker': 'Ross', 'utterance': 'Yeah.', 'emo...</td>\n",
              "      <td>{'speaker': 'Rachel', 'utterance': 'Yeah.', 'e...</td>\n",
              "      <td>{'speaker': 'Phoebe', 'utterance': 'Ameri-can....</td>\n",
              "      <td>{'speaker': 'Sergei', 'utterance': 'Ameri-ccan...</td>\n",
              "      <td>{'speaker': 'Phoebe', 'utterance': 'Ameri-can....</td>\n",
              "      <td>{'speaker': 'Sergei', 'utterance': 'Everybody!...</td>\n",
              "      <td>None</td>\n",
              "      <td>None</td>\n",
              "      <td>None</td>\n",
              "      <td>None</td>\n",
              "      <td>None</td>\n",
              "    </tr>\n",
              "    <tr>\n",
              "      <th>3</th>\n",
              "      <td>{'speaker': 'Chandler', 'utterance': 'Good job...</td>\n",
              "      <td>{'speaker': 'Joey', 'utterance': 'You liked it...</td>\n",
              "      <td>{'speaker': 'Chandler', 'utterance': 'Oh-ho-ho...</td>\n",
              "      <td>{'speaker': 'Joey', 'utterance': 'Which part e...</td>\n",
              "      <td>{'speaker': 'Chandler', 'utterance': 'The whol...</td>\n",
              "      <td>{'speaker': 'Joey', 'utterance': 'Oh no-no-no,...</td>\n",
              "      <td>{'speaker': 'Chandler', 'utterance': 'I love t...</td>\n",
              "      <td>{'speaker': 'Joey', 'utterance': 'Hey, what ab...</td>\n",
              "      <td>{'speaker': 'Chandler', 'utterance': 'I was su...</td>\n",
              "      <td>{'speaker': 'Joey', 'utterance': 'You fell asl...</td>\n",
              "      <td>{'speaker': 'Joey', 'utterance': 'There was no...</td>\n",
              "      <td>{'speaker': 'Joey', 'utterance': 'They didnt ...</td>\n",
              "      <td>{'speaker': 'Joey', 'utterance': 'Thats for c...</td>\n",
              "      <td>{'speaker': 'Joey', 'utterance': 'Ill see you...</td>\n",
              "      <td>{'speaker': 'Chandler', 'utterance': 'Dont go...</td>\n",
              "      <td>{'speaker': 'Chandler', 'utterance': 'Im sorr...</td>\n",
              "      <td>{'speaker': 'Chandler', 'utterance': 'Im so s...</td>\n",
              "      <td>{'speaker': 'Chandler', 'utterance': 'Look!', ...</td>\n",
              "      <td>{'speaker': 'Chandler', 'utterance': 'This guy...</td>\n",
              "      <td>{'speaker': 'Chandler', 'utterance': 'He fell ...</td>\n",
              "      <td>{'speaker': 'Chandler', 'utterance': 'Be mad a...</td>\n",
              "      <td>{'speaker': 'Chandler', 'utterance': 'Or, call...</td>\n",
              "      <td>None</td>\n",
              "      <td>None</td>\n",
              "    </tr>\n",
              "    <tr>\n",
              "      <th>4</th>\n",
              "      <td>{'speaker': 'Joey', 'utterance': 'Okay, look, ...</td>\n",
              "      <td>{'speaker': 'Ross', 'utterance': 'What?! What ...</td>\n",
              "      <td>{'speaker': 'Phoebe', 'utterance': 'Yes, and i...</td>\n",
              "      <td>{'speaker': 'Phoebe', 'utterance': 'See, if I...</td>\n",
              "      <td>{'speaker': 'Chandler', 'utterance': 'Okay, th...</td>\n",
              "      <td>{'speaker': 'Customer', 'utterance': 'I dont ...</td>\n",
              "      <td>{'speaker': 'Chandler', 'utterance': 'Great! O...</td>\n",
              "      <td>{'speaker': 'Customer', 'utterance': 'All righ...</td>\n",
              "      <td>{'speaker': 'Chandler', 'utterance': 'Thank yo...</td>\n",
              "      <td>None</td>\n",
              "      <td>None</td>\n",
              "      <td>None</td>\n",
              "      <td>None</td>\n",
              "      <td>None</td>\n",
              "      <td>None</td>\n",
              "      <td>None</td>\n",
              "      <td>None</td>\n",
              "      <td>None</td>\n",
              "      <td>None</td>\n",
              "      <td>None</td>\n",
              "      <td>None</td>\n",
              "      <td>None</td>\n",
              "      <td>None</td>\n",
              "      <td>None</td>\n",
              "    </tr>\n",
              "  </tbody>\n",
              "</table>\n",
              "</div>"
            ],
            "text/plain": [
              "                                                   0  ...    23\n",
              "0  {'speaker': 'Chandler', 'utterance': 'also I w...  ...  None\n",
              "1  {'speaker': 'Chandler', 'utterance': 'Hey, Mon...  ...  None\n",
              "2  {'speaker': 'Rachel', 'utterance': 'Hey!', 'em...  ...  None\n",
              "3  {'speaker': 'Chandler', 'utterance': 'Good job...  ...  None\n",
              "4  {'speaker': 'Joey', 'utterance': 'Okay, look, ...  ...  None\n",
              "\n",
              "[5 rows x 24 columns]"
            ]
          },
          "metadata": {
            "tags": []
          },
          "execution_count": 3
        }
      ]
    },
    {
      "cell_type": "code",
      "metadata": {
        "id": "NSRYezSUsqHF",
        "colab_type": "code",
        "colab": {
          "base_uri": "https://localhost:8080/",
          "height": 168
        },
        "outputId": "38830da5-cc62-4244-db56-ee8ebae959e3"
      },
      "source": [
        "df.head(1)"
      ],
      "execution_count": 4,
      "outputs": [
        {
          "output_type": "execute_result",
          "data": {
            "text/html": [
              "<div>\n",
              "<style scoped>\n",
              "    .dataframe tbody tr th:only-of-type {\n",
              "        vertical-align: middle;\n",
              "    }\n",
              "\n",
              "    .dataframe tbody tr th {\n",
              "        vertical-align: top;\n",
              "    }\n",
              "\n",
              "    .dataframe thead th {\n",
              "        text-align: right;\n",
              "    }\n",
              "</style>\n",
              "<table border=\"1\" class=\"dataframe\">\n",
              "  <thead>\n",
              "    <tr style=\"text-align: right;\">\n",
              "      <th></th>\n",
              "      <th>0</th>\n",
              "      <th>1</th>\n",
              "      <th>2</th>\n",
              "      <th>3</th>\n",
              "      <th>4</th>\n",
              "      <th>5</th>\n",
              "      <th>6</th>\n",
              "      <th>7</th>\n",
              "      <th>8</th>\n",
              "      <th>9</th>\n",
              "      <th>10</th>\n",
              "      <th>11</th>\n",
              "      <th>12</th>\n",
              "      <th>13</th>\n",
              "      <th>14</th>\n",
              "      <th>15</th>\n",
              "      <th>16</th>\n",
              "      <th>17</th>\n",
              "      <th>18</th>\n",
              "      <th>19</th>\n",
              "      <th>20</th>\n",
              "      <th>21</th>\n",
              "      <th>22</th>\n",
              "      <th>23</th>\n",
              "    </tr>\n",
              "  </thead>\n",
              "  <tbody>\n",
              "    <tr>\n",
              "      <th>0</th>\n",
              "      <td>{'speaker': 'Chandler', 'utterance': 'also I w...</td>\n",
              "      <td>{'speaker': 'The Interviewer', 'utterance': 'Y...</td>\n",
              "      <td>{'speaker': 'Chandler', 'utterance': 'That I d...</td>\n",
              "      <td>{'speaker': 'The Interviewer', 'utterance': 'S...</td>\n",
              "      <td>{'speaker': 'Chandler', 'utterance': 'My dutie...</td>\n",
              "      <td>{'speaker': 'The Interviewer', 'utterance': 'N...</td>\n",
              "      <td>{'speaker': 'Chandler', 'utterance': 'I see.',...</td>\n",
              "      <td>{'speaker': 'The Interviewer', 'utterance': 'B...</td>\n",
              "      <td>{'speaker': 'Chandler', 'utterance': 'Good to ...</td>\n",
              "      <td>{'speaker': 'The Interviewer', 'utterance': 'W...</td>\n",
              "      <td>{'speaker': 'Chandler', 'utterance': 'No dont...</td>\n",
              "      <td>{'speaker': 'The Interviewer', 'utterance': 'A...</td>\n",
              "      <td>{'speaker': 'Chandler', 'utterance': 'Really?!...</td>\n",
              "      <td>{'speaker': 'The Interviewer', 'utterance': 'A...</td>\n",
              "      <td>{'speaker': 'Joey', 'utterance': 'But then who...</td>\n",
              "      <td>{'speaker': 'Rachel', 'utterance': 'You know? ...</td>\n",
              "      <td>{'speaker': 'Joey', 'utterance': 'No-no-no-no,...</td>\n",
              "      <td>{'speaker': 'Rachel', 'utterance': 'No, I-I-I-...</td>\n",
              "      <td>{'speaker': 'Joey', 'utterance': 'Ok!', 'emoti...</td>\n",
              "      <td>{'speaker': 'Joey', 'utterance': 'All right, w...</td>\n",
              "      <td>{'speaker': 'Joey', 'utterance': 'I'm gonna se...</td>\n",
              "      <td>{'speaker': 'Joey', 'utterance': 'I'll see you...</td>\n",
              "      <td>{'speaker': 'Rachel', 'utterance': 'Yeah, sure...</td>\n",
              "      <td>None</td>\n",
              "    </tr>\n",
              "  </tbody>\n",
              "</table>\n",
              "</div>"
            ],
            "text/plain": [
              "                                                   0  ...    23\n",
              "0  {'speaker': 'Chandler', 'utterance': 'also I w...  ...  None\n",
              "\n",
              "[1 rows x 24 columns]"
            ]
          },
          "metadata": {
            "tags": []
          },
          "execution_count": 4
        }
      ]
    },
    {
      "cell_type": "code",
      "metadata": {
        "id": "9SO24rmzuTZU",
        "colab_type": "code",
        "colab": {}
      },
      "source": [
        "line = df.head(1)[0]"
      ],
      "execution_count": 5,
      "outputs": []
    },
    {
      "cell_type": "code",
      "metadata": {
        "id": "o3MZUcjtuczc",
        "colab_type": "code",
        "colab": {}
      },
      "source": [
        "line_json = line.to_list()[0]"
      ],
      "execution_count": 6,
      "outputs": []
    },
    {
      "cell_type": "code",
      "metadata": {
        "id": "xq6YBdpQvvAc",
        "colab_type": "code",
        "colab": {
          "base_uri": "https://localhost:8080/",
          "height": 85
        },
        "outputId": "b3884b25-01f0-4f21-f822-6a298f6f17b9"
      },
      "source": [
        "line_dict = dict(line_json)\n",
        "line_dict"
      ],
      "execution_count": 7,
      "outputs": [
        {
          "output_type": "execute_result",
          "data": {
            "text/plain": [
              "{'annotation': '4100000',\n",
              " 'emotion': 'neutral',\n",
              " 'speaker': 'Chandler',\n",
              " 'utterance': 'also I was the point person on my company\\x92s transition from the KL-5 to GR-6 system.'}"
            ]
          },
          "metadata": {
            "tags": []
          },
          "execution_count": 7
        }
      ]
    },
    {
      "cell_type": "code",
      "metadata": {
        "id": "0CCTn1V6xXlw",
        "colab_type": "code",
        "colab": {
          "base_uri": "https://localhost:8080/",
          "height": 35
        },
        "outputId": "d549ddf3-e09d-4b78-d34d-edcef6277d73"
      },
      "source": [
        "line_dict['emotion']"
      ],
      "execution_count": 8,
      "outputs": [
        {
          "output_type": "execute_result",
          "data": {
            "application/vnd.google.colaboratory.intrinsic+json": {
              "type": "string"
            },
            "text/plain": [
              "'neutral'"
            ]
          },
          "metadata": {
            "tags": []
          },
          "execution_count": 8
        }
      ]
    },
    {
      "cell_type": "code",
      "metadata": {
        "id": "SRmTNgd2xgih",
        "colab_type": "code",
        "colab": {
          "base_uri": "https://localhost:8080/",
          "height": 204
        },
        "outputId": "f556d625-bd0d-426d-f5c4-0ccbf1b96448"
      },
      "source": [
        "utterances = []\n",
        "emotions = []\n",
        "\n",
        "for _, row in df.iterrows():\n",
        "  for i in range(len(df.columns)):\n",
        "    if row[i] is not None:\n",
        "      speaker = row[i]['speaker']\n",
        "      utterance = row[i]['utterance'].replace('\\x92', '`')\n",
        "      utterances.append(speaker + ' says: ' + utterance)\n",
        "      emotions.append(row[i]['emotion'])\n",
        "\n",
        "train_df = pd.DataFrame(list(zip(utterances, emotions)), \n",
        "               columns =['utterance', 'emotion']) \n",
        "train_df.sample(5)"
      ],
      "execution_count": 9,
      "outputs": [
        {
          "output_type": "execute_result",
          "data": {
            "text/html": [
              "<div>\n",
              "<style scoped>\n",
              "    .dataframe tbody tr th:only-of-type {\n",
              "        vertical-align: middle;\n",
              "    }\n",
              "\n",
              "    .dataframe tbody tr th {\n",
              "        vertical-align: top;\n",
              "    }\n",
              "\n",
              "    .dataframe thead th {\n",
              "        text-align: right;\n",
              "    }\n",
              "</style>\n",
              "<table border=\"1\" class=\"dataframe\">\n",
              "  <thead>\n",
              "    <tr style=\"text-align: right;\">\n",
              "      <th></th>\n",
              "      <th>utterance</th>\n",
              "      <th>emotion</th>\n",
              "    </tr>\n",
              "  </thead>\n",
              "  <tbody>\n",
              "    <tr>\n",
              "      <th>5792</th>\n",
              "      <td>Chandler says: Oh, the duck seems to think tha...</td>\n",
              "      <td>non-neutral</td>\n",
              "    </tr>\n",
              "    <tr>\n",
              "      <th>7122</th>\n",
              "      <td>Rachel says: Oh b-b-but it is!</td>\n",
              "      <td>non-neutral</td>\n",
              "    </tr>\n",
              "    <tr>\n",
              "      <th>9034</th>\n",
              "      <td>Ross says: Okay, y'know what, I have to go hav...</td>\n",
              "      <td>neutral</td>\n",
              "    </tr>\n",
              "    <tr>\n",
              "      <th>1030</th>\n",
              "      <td>Ross says: It`s from FranceIn EuropeWestern ...</td>\n",
              "      <td>neutral</td>\n",
              "    </tr>\n",
              "    <tr>\n",
              "      <th>4769</th>\n",
              "      <td>Ross says: He is so weird.</td>\n",
              "      <td>non-neutral</td>\n",
              "    </tr>\n",
              "  </tbody>\n",
              "</table>\n",
              "</div>"
            ],
            "text/plain": [
              "                                              utterance      emotion\n",
              "5792  Chandler says: Oh, the duck seems to think tha...  non-neutral\n",
              "7122                     Rachel says: Oh b-b-but it is!  non-neutral\n",
              "9034  Ross says: Okay, y'know what, I have to go hav...      neutral\n",
              "1030  Ross says: It`s from France\n",
              "In Europe\n",
              "Western ...      neutral\n",
              "4769                         Ross says: He is so weird.  non-neutral"
            ]
          },
          "metadata": {
            "tags": []
          },
          "execution_count": 9
        }
      ]
    },
    {
      "cell_type": "code",
      "metadata": {
        "id": "CjHMtsbHPuvK",
        "colab_type": "code",
        "colab": {
          "base_uri": "https://localhost:8080/",
          "height": 34
        },
        "outputId": "91d70dc7-0165-49af-e05a-357de11b888c"
      },
      "source": [
        "train_df = train_df.sample(frac=1).reset_index(False)\n",
        "train_df.shape"
      ],
      "execution_count": 10,
      "outputs": [
        {
          "output_type": "execute_result",
          "data": {
            "text/plain": [
              "(10561, 3)"
            ]
          },
          "metadata": {
            "tags": []
          },
          "execution_count": 10
        }
      ]
    },
    {
      "cell_type": "code",
      "metadata": {
        "id": "L6-tgQvrxlUT",
        "colab_type": "code",
        "colab": {
          "base_uri": "https://localhost:8080/",
          "height": 204
        },
        "outputId": "9d0c1bd9-bbf0-4fa0-c74f-4f228e674471"
      },
      "source": [
        "df = pd.read_json('friends_dev.json')\n",
        "\n",
        "utterances = []\n",
        "emotions = []\n",
        "\n",
        "for _, row in df.iterrows():\n",
        "  for i in range(len(df.columns)):\n",
        "    if row[i] is not None:\n",
        "      speaker = row[i]['speaker']\n",
        "      utterance = row[i]['utterance'].replace('\\x92', '`')\n",
        "      utterances.append(speaker + ' says: ' + utterance)\n",
        "      emotions.append(row[i]['emotion'])\n",
        "\n",
        "val_df = pd.DataFrame(list(zip(utterances, emotions)), \n",
        "               columns =['utterance', 'emotion']) \n",
        "val_df.sample(5)"
      ],
      "execution_count": 11,
      "outputs": [
        {
          "output_type": "execute_result",
          "data": {
            "text/html": [
              "<div>\n",
              "<style scoped>\n",
              "    .dataframe tbody tr th:only-of-type {\n",
              "        vertical-align: middle;\n",
              "    }\n",
              "\n",
              "    .dataframe tbody tr th {\n",
              "        vertical-align: top;\n",
              "    }\n",
              "\n",
              "    .dataframe thead th {\n",
              "        text-align: right;\n",
              "    }\n",
              "</style>\n",
              "<table border=\"1\" class=\"dataframe\">\n",
              "  <thead>\n",
              "    <tr style=\"text-align: right;\">\n",
              "      <th></th>\n",
              "      <th>utterance</th>\n",
              "      <th>emotion</th>\n",
              "    </tr>\n",
              "  </thead>\n",
              "  <tbody>\n",
              "    <tr>\n",
              "      <th>1072</th>\n",
              "      <td>Monica says: I mean  Oh, hi Emma.</td>\n",
              "      <td>neutral</td>\n",
              "    </tr>\n",
              "    <tr>\n",
              "      <th>1086</th>\n",
              "      <td>Monica says: I bet this will work!</td>\n",
              "      <td>joy</td>\n",
              "    </tr>\n",
              "    <tr>\n",
              "      <th>312</th>\n",
              "      <td>Monica says: I never meant for you to find out!</td>\n",
              "      <td>sadness</td>\n",
              "    </tr>\n",
              "    <tr>\n",
              "      <th>324</th>\n",
              "      <td>Rachel says: Oh my God, who is it?!</td>\n",
              "      <td>surprise</td>\n",
              "    </tr>\n",
              "    <tr>\n",
              "      <th>897</th>\n",
              "      <td>Chandler says: I`m not saying it has to be rig...</td>\n",
              "      <td>neutral</td>\n",
              "    </tr>\n",
              "  </tbody>\n",
              "</table>\n",
              "</div>"
            ],
            "text/plain": [
              "                                              utterance   emotion\n",
              "1072                 Monica says: I mean\n",
              "  Oh, hi Emma.   neutral\n",
              "1086                 Monica says: I bet this will work!       joy\n",
              "312     Monica says: I never meant for you to find out!   sadness\n",
              "324                 Rachel says: Oh my God, who is it?!  surprise\n",
              "897   Chandler says: I`m not saying it has to be rig...   neutral"
            ]
          },
          "metadata": {
            "tags": []
          },
          "execution_count": 11
        }
      ]
    },
    {
      "cell_type": "code",
      "metadata": {
        "id": "qc9UOvkgzpDX",
        "colab_type": "code",
        "colab": {
          "base_uri": "https://localhost:8080/",
          "height": 204
        },
        "outputId": "583b8c8d-a518-4ad7-aa49-86ffaeb1843f"
      },
      "source": [
        "df = pd.read_json('friends_test.json')\n",
        "\n",
        "utterances = []\n",
        "emotions = []\n",
        "\n",
        "for _, row in df.iterrows():\n",
        "  for i in range(len(df.columns)):\n",
        "    if row[i] is not None:\n",
        "      speaker = row[i]['speaker']\n",
        "      utterance = row[i]['utterance'].replace('\\x92', '`')\n",
        "      utterances.append(speaker + ' says: ' + utterance)\n",
        "      emotions.append(row[i]['emotion'])\n",
        "\n",
        "test_df = pd.DataFrame(list(zip(utterances, emotions)), \n",
        "               columns =['utterance', 'emotion']) \n",
        "test_df.sample(5)"
      ],
      "execution_count": 12,
      "outputs": [
        {
          "output_type": "execute_result",
          "data": {
            "text/html": [
              "<div>\n",
              "<style scoped>\n",
              "    .dataframe tbody tr th:only-of-type {\n",
              "        vertical-align: middle;\n",
              "    }\n",
              "\n",
              "    .dataframe tbody tr th {\n",
              "        vertical-align: top;\n",
              "    }\n",
              "\n",
              "    .dataframe thead th {\n",
              "        text-align: right;\n",
              "    }\n",
              "</style>\n",
              "<table border=\"1\" class=\"dataframe\">\n",
              "  <thead>\n",
              "    <tr style=\"text-align: right;\">\n",
              "      <th></th>\n",
              "      <th>utterance</th>\n",
              "      <th>emotion</th>\n",
              "    </tr>\n",
              "  </thead>\n",
              "  <tbody>\n",
              "    <tr>\n",
              "      <th>339</th>\n",
              "      <td>Phoebe says: Yeah, no kidding, this just prove...</td>\n",
              "      <td>non-neutral</td>\n",
              "    </tr>\n",
              "    <tr>\n",
              "      <th>248</th>\n",
              "      <td>Rachel says: Hi!</td>\n",
              "      <td>joy</td>\n",
              "    </tr>\n",
              "    <tr>\n",
              "      <th>32</th>\n",
              "      <td>Ross says: Straight up over your head!</td>\n",
              "      <td>non-neutral</td>\n",
              "    </tr>\n",
              "    <tr>\n",
              "      <th>1499</th>\n",
              "      <td>Mona says: Yeah, y`know. Happy holidays from M...</td>\n",
              "      <td>joy</td>\n",
              "    </tr>\n",
              "    <tr>\n",
              "      <th>842</th>\n",
              "      <td>Chandler says: Laundry. Huh. Is that my new ni...</td>\n",
              "      <td>non-neutral</td>\n",
              "    </tr>\n",
              "  </tbody>\n",
              "</table>\n",
              "</div>"
            ],
            "text/plain": [
              "                                              utterance      emotion\n",
              "339   Phoebe says: Yeah, no kidding, this just prove...  non-neutral\n",
              "248                                    Rachel says: Hi!          joy\n",
              "32               Ross says: Straight up over your head!  non-neutral\n",
              "1499  Mona says: Yeah, y`know. Happy holidays from M...          joy\n",
              "842   Chandler says: Laundry. Huh. Is that my new ni...  non-neutral"
            ]
          },
          "metadata": {
            "tags": []
          },
          "execution_count": 12
        }
      ]
    },
    {
      "cell_type": "markdown",
      "metadata": {
        "id": "Wh-Iof71K74x",
        "colab_type": "text"
      },
      "source": [
        "How imbalanced are the classes?"
      ]
    },
    {
      "cell_type": "code",
      "metadata": {
        "id": "OG-oR59v0e9a",
        "colab_type": "code",
        "colab": {
          "base_uri": "https://localhost:8080/",
          "height": 575
        },
        "outputId": "66af6c06-9099-432f-c13c-bae8218c036c"
      },
      "source": [
        "import matplotlib.pyplot as plt\n",
        "from numpy import unique\n",
        "\n",
        "labels, frequencies = unique(test_df.emotion.values, return_counts = True)\n",
        "\n",
        "plt.figure(figsize = (10,10))\n",
        "plt.pie(frequencies,labels = labels, autopct = '%1.1f%%')\n",
        "plt.show()"
      ],
      "execution_count": 15,
      "outputs": [
        {
          "output_type": "display_data",
          "data": {
            "image/png": "[encoded data removed]",
            "text/plain": [
              "<Figure size 720x720 with 1 Axes>"
            ]
          },
          "metadata": {
            "tags": []
          }
        }
      ]
    },
    {
      "cell_type": "code",
      "metadata": {
        "id": "UBCKX16IvbUW",
        "colab_type": "code",
        "colab": {}
      },
      "source": [
        "# from sklearn.model_selection import train_test_split\n",
        "# # lets combine + shuffle train and val and then split again.\n",
        "# combined_df = pd.concat([train_df, val_df])\n",
        "# train_df, val_df = train_test_split(combined_df, test_size=0.2, shuffle=True, \n",
        "#                                     stratify=combined_df['emotion'], random_state=seed)"
      ],
      "execution_count": null,
      "outputs": []
    },
    {
      "cell_type": "code",
      "metadata": {
        "id": "7krL_hCRDFN1",
        "colab_type": "code",
        "colab": {
          "base_uri": "https://localhost:8080/",
          "height": 51
        },
        "outputId": "fc24a3d7-08d1-44cc-b339-a06987004f7c"
      },
      "source": [
        "# create the labels as integers\n",
        "from sklearn.preprocessing import LabelEncoder\n",
        "labelEncoder = LabelEncoder()\n",
        "train_df['label'] = labelEncoder.fit_transform(train_df['emotion'].values)\n",
        "train_df.drop(['emotion'], axis='columns', inplace=True)\n",
        "\n",
        "val_df['label'] = labelEncoder.transform(val_df['emotion'].values)\n",
        "val_df.drop(['emotion'], axis='columns', inplace=True)\n",
        "\n",
        "test_df['label'] = labelEncoder.transform(test_df['emotion'].values)\n",
        "test_df.drop(['emotion'], axis='columns', inplace=True)\n",
        "\n",
        "num_classes=len(labelEncoder.classes_)\n",
        "labelEncoder.classes_"
      ],
      "execution_count": null,
      "outputs": [
        {
          "output_type": "execute_result",
          "data": {
            "text/plain": [
              "array(['anger', 'disgust', 'fear', 'joy', 'neutral', 'non-neutral',\n",
              "       'sadness', 'surprise'], dtype=object)"
            ]
          },
          "metadata": {
            "tags": []
          },
          "execution_count": 15
        }
      ]
    },
    {
      "cell_type": "code",
      "metadata": {
        "id": "vb6TGzfQMKsX",
        "colab_type": "code",
        "colab": {
          "base_uri": "https://localhost:8080/",
          "height": 51
        },
        "outputId": "9d2a2c2f-c8e1-462c-9367-2ab5fde3cae8"
      },
      "source": [
        "# you can figure out the mapping like this:\n",
        "example_label = 3\n",
        "print(\"Label:\", labelEncoder.classes_[example_label])\n",
        "example_label = 6\n",
        "print(\"Label:\", labelEncoder.classes_[example_label])"
      ],
      "execution_count": null,
      "outputs": [
        {
          "output_type": "stream",
          "text": [
            "Label: joy\n",
            "Label: sadness\n"
          ],
          "name": "stdout"
        }
      ]
    },
    {
      "cell_type": "code",
      "metadata": {
        "id": "q3jNFm4qE7Xq",
        "colab_type": "code",
        "colab": {
          "base_uri": "https://localhost:8080/",
          "height": 204
        },
        "outputId": "2d602db2-aafb-4f51-d4a3-82e67f334cd9"
      },
      "source": [
        "train_df.sample(5)"
      ],
      "execution_count": null,
      "outputs": [
        {
          "output_type": "execute_result",
          "data": {
            "text/html": [
              "<div>\n",
              "<style scoped>\n",
              "    .dataframe tbody tr th:only-of-type {\n",
              "        vertical-align: middle;\n",
              "    }\n",
              "\n",
              "    .dataframe tbody tr th {\n",
              "        vertical-align: top;\n",
              "    }\n",
              "\n",
              "    .dataframe thead th {\n",
              "        text-align: right;\n",
              "    }\n",
              "</style>\n",
              "<table border=\"1\" class=\"dataframe\">\n",
              "  <thead>\n",
              "    <tr style=\"text-align: right;\">\n",
              "      <th></th>\n",
              "      <th>index</th>\n",
              "      <th>utterance</th>\n",
              "      <th>label</th>\n",
              "    </tr>\n",
              "  </thead>\n",
              "  <tbody>\n",
              "    <tr>\n",
              "      <th>265</th>\n",
              "      <td>10495</td>\n",
              "      <td>Monica says: Is that all?</td>\n",
              "      <td>4</td>\n",
              "    </tr>\n",
              "    <tr>\n",
              "      <th>8996</th>\n",
              "      <td>3357</td>\n",
              "      <td>Ross says: Oh, thank you.</td>\n",
              "      <td>4</td>\n",
              "    </tr>\n",
              "    <tr>\n",
              "      <th>1251</th>\n",
              "      <td>3880</td>\n",
              "      <td>Joey says: Look at that, every inch of this st...</td>\n",
              "      <td>7</td>\n",
              "    </tr>\n",
              "    <tr>\n",
              "      <th>6142</th>\n",
              "      <td>2111</td>\n",
              "      <td>Susan says: See what you did.</td>\n",
              "      <td>5</td>\n",
              "    </tr>\n",
              "    <tr>\n",
              "      <th>5797</th>\n",
              "      <td>4131</td>\n",
              "      <td>Cliff says: Are all the questions this personal?</td>\n",
              "      <td>7</td>\n",
              "    </tr>\n",
              "  </tbody>\n",
              "</table>\n",
              "</div>"
            ],
            "text/plain": [
              "      index                                          utterance  label\n",
              "265   10495                          Monica says: Is that all?      4\n",
              "8996   3357                          Ross says: Oh, thank you.      4\n",
              "1251   3880  Joey says: Look at that, every inch of this st...      7\n",
              "6142   2111                      Susan says: See what you did.      5\n",
              "5797   4131   Cliff says: Are all the questions this personal?      7"
            ]
          },
          "metadata": {
            "tags": []
          },
          "execution_count": 17
        }
      ]
    },
    {
      "cell_type": "code",
      "metadata": {
        "id": "GocqE-Rk0pzH",
        "colab_type": "code",
        "colab": {
          "base_uri": "https://localhost:8080/",
          "height": 34
        },
        "outputId": "1b27597f-993a-42f0-9006-848bda61092c"
      },
      "source": [
        "max_len = -1\n",
        "for _,row in train_df.iterrows():\n",
        "  length = len(row.utterance)\n",
        "  if length > max_len:\n",
        "    max_len = length\n",
        "\n",
        "max_len"
      ],
      "execution_count": null,
      "outputs": [
        {
          "output_type": "execute_result",
          "data": {
            "text/plain": [
              "340"
            ]
          },
          "metadata": {
            "tags": []
          },
          "execution_count": 18
        }
      ]
    },
    {
      "cell_type": "markdown",
      "metadata": {
        "id": "Ais_77clLHtD",
        "colab_type": "text"
      },
      "source": [
        "\n",
        "\n",
        "> If you prefer using tf.data.Datasets, then you can convert with the code below\n",
        "\n"
      ]
    },
    {
      "cell_type": "code",
      "metadata": {
        "id": "zZRELdwA7GPp",
        "colab_type": "code",
        "colab": {
          "base_uri": "https://localhost:8080/",
          "height": 34
        },
        "outputId": "24028c7c-e057-4f99-96c0-140e0c559b91"
      },
      "source": [
        "import tensorflow as tf\n",
        "from numpy import array\n",
        "print(tf.__version__)\n",
        "tf.random.set_seed(seed)\n",
        "\n",
        "# train_ds = tf.data.Dataset.from_tensor_slices(\n",
        "#         (\n",
        "#             tf.cast(train_df['utterance'].values, tf.string),\n",
        "#             tf.cast(train_df['label'].values, tf.int16)\n",
        "#         )\n",
        "#      )\n",
        "\n",
        "# val_ds = tf.data.Dataset.from_tensor_slices(\n",
        "#         (\n",
        "#             tf.cast(val_df['utterance'].values, tf.string),\n",
        "#             tf.cast(val_df['label'].values, tf.int16)\n",
        "#         )\n",
        "#      )\n",
        "\n",
        "# test_ds = tf.data.Dataset.from_tensor_slices(\n",
        "#         (\n",
        "#             tf.cast(test_df['utterance'].values, tf.string),\n",
        "#             tf.cast(test_df['label'].values, tf.int16)\n",
        "#         )\n",
        "#      )\n",
        "\n",
        "def prep_data(df):\n",
        "    \n",
        "    texts = []\n",
        "    labels = []\n",
        "\n",
        "    for _,row in df.iterrows():\n",
        "      texts.append(row.utterance)\n",
        "      labels.append(row.label)\n",
        "\n",
        "    return array(texts), array(labels)"
      ],
      "execution_count": null,
      "outputs": [
        {
          "output_type": "stream",
          "text": [
            "2.3.0\n"
          ],
          "name": "stdout"
        }
      ]
    },
    {
      "cell_type": "code",
      "metadata": {
        "id": "1oBkJGpQYecv",
        "colab_type": "code",
        "colab": {}
      },
      "source": [
        "x_train, y_train = prep_data(train_df)\n",
        "x_val, y_val = prep_data(val_df)\n",
        "x_test, y_test = prep_data(test_df)\n",
        "\n",
        "y_true = y_test\n",
        "\n",
        "y_train = tf.keras.utils.to_categorical(y_train, num_classes=num_classes)\n",
        "y_val = tf.keras.utils.to_categorical(y_val, num_classes=num_classes)\n",
        "y_test = tf.keras.utils.to_categorical(y_test, num_classes=num_classes)"
      ],
      "execution_count": null,
      "outputs": []
    },
    {
      "cell_type": "markdown",
      "metadata": {
        "id": "X2AFoSC8DNUV",
        "colab_type": "text"
      },
      "source": [
        "# Embedding"
      ]
    },
    {
      "cell_type": "code",
      "metadata": {
        "id": "8Qbo_ATBaPMo",
        "colab_type": "code",
        "colab": {
          "base_uri": "https://localhost:8080/",
          "height": 35
        },
        "outputId": "5a5beead-3dfa-4e65-c749-fe12315a9780"
      },
      "source": [
        "import tensorflow_hub as hub\n",
        "hub.__version__"
      ],
      "execution_count": null,
      "outputs": [
        {
          "output_type": "execute_result",
          "data": {
            "application/vnd.google.colaboratory.intrinsic+json": {
              "type": "string"
            },
            "text/plain": [
              "'0.8.0'"
            ]
          },
          "metadata": {
            "tags": []
          },
          "execution_count": 21
        }
      ]
    },
    {
      "cell_type": "code",
      "metadata": {
        "id": "XGpSaE3wZJqD",
        "colab_type": "code",
        "colab": {
          "base_uri": "https://localhost:8080/",
          "height": 255
        },
        "outputId": "d8f146d7-1cc0-4bc4-8e6b-d6e374aa89c9"
      },
      "source": [
        "# embedding = \"https://tfhub.dev/google/nnlm-en-dim50/2\"\n",
        "embedding = \"https://tfhub.dev/google/nnlm-en-dim128/2\"\n",
        "# embedding = \"https://tfhub.dev/google/nnlm-en-dim128-with-normalization/2\"\n",
        "# embedding = \"https://tfhub.dev/google/Wiki-words-500/2\"\n",
        "hub_layer = hub.KerasLayer(embedding, input_shape=[], \n",
        "                           dtype=tf.string, trainable=False)\n",
        "\n",
        "model = tf.keras.Sequential()\n",
        "model.add(hub_layer)\n",
        "model.add(tf.keras.layers.Dense(16, activation='relu'))\n",
        "model.add(tf.keras.layers.Dense(num_classes, activation='softmax'))\n",
        "\n",
        "model.summary()"
      ],
      "execution_count": null,
      "outputs": [
        {
          "output_type": "stream",
          "text": [
            "Model: \"sequential\"\n",
            "_________________________________________________________________\n",
            "Layer (type)                 Output Shape              Param #   \n",
            "=================================================================\n",
            "keras_layer (KerasLayer)     (None, 128)               124642688 \n",
            "_________________________________________________________________\n",
            "dense (Dense)                (None, 16)                2064      \n",
            "_________________________________________________________________\n",
            "dense_1 (Dense)              (None, 8)                 136       \n",
            "=================================================================\n",
            "Total params: 124,644,888\n",
            "Trainable params: 2,200\n",
            "Non-trainable params: 124,642,688\n",
            "_________________________________________________________________\n"
          ],
          "name": "stdout"
        }
      ]
    },
    {
      "cell_type": "code",
      "metadata": {
        "id": "AeYv3SIznJ36",
        "colab_type": "code",
        "colab": {}
      },
      "source": [
        "import tensorflow_addons as tfa"
      ],
      "execution_count": null,
      "outputs": []
    },
    {
      "cell_type": "code",
      "metadata": {
        "id": "cd9TTzNmZKOV",
        "colab_type": "code",
        "colab": {}
      },
      "source": [
        "f1_score = tfa.metrics.F1Score(num_classes, average='micro', name='f1')   # this is the competition metric\n",
        "\n",
        "model.compile(optimizer=tf.keras.optimizers.Adam(learning_rate=0.001),    # default learning rate\n",
        "              loss=tfa.losses.SigmoidFocalCrossEntropy(), \n",
        "              metrics=[f1_score])"
      ],
      "execution_count": null,
      "outputs": []
    },
    {
      "cell_type": "code",
      "metadata": {
        "id": "h3ilUYzRauhq",
        "colab_type": "code",
        "colab": {
          "base_uri": "https://localhost:8080/",
          "height": 1000
        },
        "outputId": "09a0dae3-fa0f-44ec-9f83-208709c5a3c0"
      },
      "source": [
        "filepath = 'model.h5'\n",
        "mc = tf.keras.callbacks.ModelCheckpoint(\n",
        "    filepath, monitor='val_loss', verbose=0, save_best_only=True,\n",
        "    save_weights_only=True, mode='auto')\n",
        "es = tf.keras.callbacks.EarlyStopping(\n",
        "    monitor='val_loss', min_delta=0, patience=20, verbose=1, mode='auto', restore_best_weights=False)\n",
        "\n",
        "history = model.fit(x_train, y_train, epochs=100, verbose=1, \n",
        "                    validation_data=(x_val, y_val), callbacks=[mc, es])"
      ],
      "execution_count": null,
      "outputs": [
        {
          "output_type": "stream",
          "text": [
            "Epoch 1/100\n",
            "331/331 [==============================] - 4s 12ms/step - loss: 0.3251 - f1: 0.4127 - val_loss: 0.3209 - val_f1: 0.4160\n",
            "Epoch 2/100\n",
            "331/331 [==============================] - 4s 12ms/step - loss: 0.2965 - f1: 0.4491 - val_loss: 0.3155 - val_f1: 0.4194\n",
            "Epoch 3/100\n",
            "331/331 [==============================] - 4s 11ms/step - loss: 0.2912 - f1: 0.4522 - val_loss: 0.3123 - val_f1: 0.4185\n",
            "Epoch 4/100\n",
            "331/331 [==============================] - 4s 11ms/step - loss: 0.2861 - f1: 0.4565 - val_loss: 0.3091 - val_f1: 0.4270\n",
            "Epoch 5/100\n",
            "331/331 [==============================] - 5s 16ms/step - loss: 0.2821 - f1: 0.4638 - val_loss: 0.3064 - val_f1: 0.4270\n",
            "Epoch 6/100\n",
            "331/331 [==============================] - 6s 19ms/step - loss: 0.2788 - f1: 0.4672 - val_loss: 0.3037 - val_f1: 0.4338\n",
            "Epoch 7/100\n",
            "331/331 [==============================] - 7s 22ms/step - loss: 0.2762 - f1: 0.4764 - val_loss: 0.3024 - val_f1: 0.4304\n",
            "Epoch 8/100\n",
            "331/331 [==============================] - 6s 18ms/step - loss: 0.2739 - f1: 0.4810 - val_loss: 0.3009 - val_f1: 0.4414\n",
            "Epoch 9/100\n",
            "331/331 [==============================] - 2s 6ms/step - loss: 0.2719 - f1: 0.4846 - val_loss: 0.3013 - val_f1: 0.4355\n",
            "Epoch 10/100\n",
            "331/331 [==============================] - 5s 14ms/step - loss: 0.2703 - f1: 0.4860 - val_loss: 0.3001 - val_f1: 0.4414\n",
            "Epoch 11/100\n",
            "331/331 [==============================] - 7s 21ms/step - loss: 0.2687 - f1: 0.4864 - val_loss: 0.2999 - val_f1: 0.4414\n",
            "Epoch 12/100\n",
            "331/331 [==============================] - 2s 7ms/step - loss: 0.2673 - f1: 0.4910 - val_loss: 0.3000 - val_f1: 0.4380\n",
            "Epoch 13/100\n",
            "331/331 [==============================] - 2s 6ms/step - loss: 0.2661 - f1: 0.4928 - val_loss: 0.3002 - val_f1: 0.4389\n",
            "Epoch 14/100\n",
            "331/331 [==============================] - 2s 6ms/step - loss: 0.2650 - f1: 0.4934 - val_loss: 0.3006 - val_f1: 0.4414\n",
            "Epoch 15/100\n",
            "331/331 [==============================] - 3s 11ms/step - loss: 0.2637 - f1: 0.4963 - val_loss: 0.2985 - val_f1: 0.4363\n",
            "Epoch 16/100\n",
            "331/331 [==============================] - 2s 7ms/step - loss: 0.2629 - f1: 0.4988 - val_loss: 0.2987 - val_f1: 0.4406\n",
            "Epoch 17/100\n",
            "331/331 [==============================] - 3s 10ms/step - loss: 0.2621 - f1: 0.5000 - val_loss: 0.2981 - val_f1: 0.4355\n",
            "Epoch 18/100\n",
            "331/331 [==============================] - 2s 7ms/step - loss: 0.2613 - f1: 0.5008 - val_loss: 0.2984 - val_f1: 0.4431\n",
            "Epoch 19/100\n",
            "331/331 [==============================] - 2s 6ms/step - loss: 0.2603 - f1: 0.5017 - val_loss: 0.2997 - val_f1: 0.4448\n",
            "Epoch 20/100\n",
            "331/331 [==============================] - 2s 7ms/step - loss: 0.2596 - f1: 0.5022 - val_loss: 0.2985 - val_f1: 0.4372\n",
            "Epoch 21/100\n",
            "331/331 [==============================] - 2s 6ms/step - loss: 0.2589 - f1: 0.5066 - val_loss: 0.3012 - val_f1: 0.4397\n",
            "Epoch 22/100\n",
            "331/331 [==============================] - 2s 6ms/step - loss: 0.2582 - f1: 0.5058 - val_loss: 0.2996 - val_f1: 0.4414\n",
            "Epoch 23/100\n",
            "331/331 [==============================] - 2s 6ms/step - loss: 0.2576 - f1: 0.5046 - val_loss: 0.3001 - val_f1: 0.4338\n",
            "Epoch 24/100\n",
            "331/331 [==============================] - 2s 6ms/step - loss: 0.2570 - f1: 0.5083 - val_loss: 0.2999 - val_f1: 0.4363\n",
            "Epoch 25/100\n",
            "331/331 [==============================] - 2s 6ms/step - loss: 0.2566 - f1: 0.5077 - val_loss: 0.3004 - val_f1: 0.4372\n",
            "Epoch 26/100\n",
            "331/331 [==============================] - 2s 6ms/step - loss: 0.2560 - f1: 0.5113 - val_loss: 0.2986 - val_f1: 0.4406\n",
            "Epoch 27/100\n",
            "331/331 [==============================] - 2s 6ms/step - loss: 0.2555 - f1: 0.5108 - val_loss: 0.2999 - val_f1: 0.4414\n",
            "Epoch 28/100\n",
            "331/331 [==============================] - 2s 7ms/step - loss: 0.2551 - f1: 0.5107 - val_loss: 0.3005 - val_f1: 0.4389\n",
            "Epoch 29/100\n",
            "331/331 [==============================] - 2s 6ms/step - loss: 0.2545 - f1: 0.5130 - val_loss: 0.3004 - val_f1: 0.4312\n",
            "Epoch 30/100\n",
            "331/331 [==============================] - 2s 6ms/step - loss: 0.2540 - f1: 0.5125 - val_loss: 0.3013 - val_f1: 0.4389\n",
            "Epoch 31/100\n",
            "331/331 [==============================] - 2s 6ms/step - loss: 0.2537 - f1: 0.5123 - val_loss: 0.3021 - val_f1: 0.4363\n",
            "Epoch 32/100\n",
            "331/331 [==============================] - 2s 6ms/step - loss: 0.2532 - f1: 0.5125 - val_loss: 0.3021 - val_f1: 0.4355\n",
            "Epoch 33/100\n",
            "331/331 [==============================] - 2s 6ms/step - loss: 0.2529 - f1: 0.5145 - val_loss: 0.3012 - val_f1: 0.4304\n",
            "Epoch 34/100\n",
            "331/331 [==============================] - 2s 6ms/step - loss: 0.2525 - f1: 0.5148 - val_loss: 0.3027 - val_f1: 0.4440\n",
            "Epoch 35/100\n",
            "331/331 [==============================] - 2s 6ms/step - loss: 0.2521 - f1: 0.5156 - val_loss: 0.3034 - val_f1: 0.4414\n",
            "Epoch 36/100\n",
            "331/331 [==============================] - 2s 6ms/step - loss: 0.2517 - f1: 0.5162 - val_loss: 0.3042 - val_f1: 0.4414\n",
            "Epoch 37/100\n",
            "331/331 [==============================] - 2s 6ms/step - loss: 0.2514 - f1: 0.5142 - val_loss: 0.3029 - val_f1: 0.4406\n",
            "Epoch 00037: early stopping\n"
          ],
          "name": "stdout"
        }
      ]
    },
    {
      "cell_type": "code",
      "metadata": {
        "id": "wpl2YXx5ditd",
        "colab_type": "code",
        "colab": {
          "base_uri": "https://localhost:8080/",
          "height": 893
        },
        "outputId": "18ded853-e29b-4e71-a8ed-d9441704d02f"
      },
      "source": [
        "import matplotlib.pyplot as plt\n",
        "import seaborn as sns\n",
        "\n",
        "history = history.history\n",
        "\n",
        "fig, (ax1, ax2) = plt.subplots(2, 1, sharex='col', figsize=(20, 14))\n",
        "\n",
        "ax1.plot(history['loss'], label='Training')\n",
        "ax1.plot(history['val_loss'], label='Validation')\n",
        "ax1.legend(loc='best')\n",
        "ax1.set_title('Loss')\n",
        "\n",
        "ax2.plot(history['f1'], label='Training')\n",
        "ax2.plot(history['val_f1'], label='Validation')\n",
        "ax2.legend(loc='best')\n",
        "ax2.set_title('F1 Score')\n",
        "\n",
        "plt.xlabel('Epochs')\n",
        "sns.despine()\n",
        "plt.show()"
      ],
      "execution_count": null,
      "outputs": [
        {
          "output_type": "stream",
          "text": [
            "/usr/local/lib/python3.6/dist-packages/statsmodels/tools/_testing.py:19: FutureWarning: pandas.util.testing is deprecated. Use the functions in the public API at pandas.testing instead.\n",
            "  import pandas.util.testing as tm\n"
          ],
          "name": "stderr"
        },
        {
          "output_type": "display_data",
          "data": {
            "image/png": "[encoded data removed]",
            "text/plain": [
              "<Figure size 1440x1008 with 2 Axes>"
            ]
          },
          "metadata": {
            "tags": [],
            "needs_background": "light"
          }
        }
      ]
    },
    {
      "cell_type": "markdown",
      "metadata": {
        "id": "aYw1TCiZLoqY",
        "colab_type": "text"
      },
      "source": [
        "Now lets Fine tune the model."
      ]
    },
    {
      "cell_type": "code",
      "metadata": {
        "id": "TZxslKsl_6Ty",
        "colab_type": "code",
        "colab": {
          "base_uri": "https://localhost:8080/",
          "height": 255
        },
        "outputId": "39a018e7-f83f-4bda-e179-28b82adbaa64"
      },
      "source": [
        "model.load_weights(filepath)\n",
        "model.get_layer(name='keras_layer').trainable = True\n",
        "model.summary()"
      ],
      "execution_count": null,
      "outputs": [
        {
          "output_type": "stream",
          "text": [
            "Model: \"sequential\"\n",
            "_________________________________________________________________\n",
            "Layer (type)                 Output Shape              Param #   \n",
            "=================================================================\n",
            "keras_layer (KerasLayer)     (None, 128)               124642688 \n",
            "_________________________________________________________________\n",
            "dense (Dense)                (None, 16)                2064      \n",
            "_________________________________________________________________\n",
            "dense_1 (Dense)              (None, 8)                 136       \n",
            "=================================================================\n",
            "Total params: 124,644,888\n",
            "Trainable params: 124,644,888\n",
            "Non-trainable params: 0\n",
            "_________________________________________________________________\n"
          ],
          "name": "stdout"
        }
      ]
    },
    {
      "cell_type": "code",
      "metadata": {
        "id": "Cc2l65dgAMeJ",
        "colab_type": "code",
        "colab": {}
      },
      "source": [
        "model.compile(optimizer=tf.keras.optimizers.Adam(learning_rate=1e-5),  # note the reduced learning_rate\n",
        "              loss=tfa.losses.SigmoidFocalCrossEntropy(), \n",
        "              metrics=[f1_score])"
      ],
      "execution_count": null,
      "outputs": []
    },
    {
      "cell_type": "code",
      "metadata": {
        "id": "KMBLs-TMASa-",
        "colab_type": "code",
        "colab": {
          "base_uri": "https://localhost:8080/",
          "height": 1000
        },
        "outputId": "787385e7-719d-4a3b-beca-675203f8ce84"
      },
      "source": [
        "history = model.fit(x_train, y_train, epochs=500, verbose=1, \n",
        "                    validation_data=(x_val, y_val), callbacks=[mc, es],\n",
        "                    )"
      ],
      "execution_count": null,
      "outputs": [
        {
          "output_type": "stream",
          "text": [
            "Epoch 1/500\n",
            "331/331 [==============================] - 13s 40ms/step - loss: 0.2597 - f1: 0.4970 - val_loss: 0.2975 - val_f1: 0.4406\n",
            "Epoch 2/500\n",
            "331/331 [==============================] - 13s 40ms/step - loss: 0.2580 - f1: 0.5079 - val_loss: 0.2969 - val_f1: 0.4423\n",
            "Epoch 3/500\n",
            "331/331 [==============================] - 13s 40ms/step - loss: 0.2563 - f1: 0.5103 - val_loss: 0.2964 - val_f1: 0.4440\n",
            "Epoch 4/500\n",
            "331/331 [==============================] - 13s 40ms/step - loss: 0.2547 - f1: 0.5133 - val_loss: 0.2959 - val_f1: 0.4440\n",
            "Epoch 5/500\n",
            "331/331 [==============================] - 13s 40ms/step - loss: 0.2532 - f1: 0.5161 - val_loss: 0.2954 - val_f1: 0.4448\n",
            "Epoch 6/500\n",
            "331/331 [==============================] - 13s 40ms/step - loss: 0.2516 - f1: 0.5186 - val_loss: 0.2949 - val_f1: 0.4465\n",
            "Epoch 7/500\n",
            "331/331 [==============================] - 13s 40ms/step - loss: 0.2501 - f1: 0.5217 - val_loss: 0.2944 - val_f1: 0.4482\n",
            "Epoch 8/500\n",
            "331/331 [==============================] - 13s 40ms/step - loss: 0.2486 - f1: 0.5237 - val_loss: 0.2939 - val_f1: 0.4491\n",
            "Epoch 9/500\n",
            "331/331 [==============================] - 13s 41ms/step - loss: 0.2472 - f1: 0.5269 - val_loss: 0.2935 - val_f1: 0.4499\n",
            "Epoch 10/500\n",
            "331/331 [==============================] - 13s 40ms/step - loss: 0.2457 - f1: 0.5301 - val_loss: 0.2931 - val_f1: 0.4516\n",
            "Epoch 11/500\n",
            "331/331 [==============================] - 13s 40ms/step - loss: 0.2443 - f1: 0.5339 - val_loss: 0.2926 - val_f1: 0.4516\n",
            "Epoch 12/500\n",
            "331/331 [==============================] - 13s 41ms/step - loss: 0.2429 - f1: 0.5374 - val_loss: 0.2922 - val_f1: 0.4525\n",
            "Epoch 13/500\n",
            "331/331 [==============================] - 13s 40ms/step - loss: 0.2415 - f1: 0.5409 - val_loss: 0.2919 - val_f1: 0.4516\n",
            "Epoch 14/500\n",
            "331/331 [==============================] - 13s 41ms/step - loss: 0.2401 - f1: 0.5429 - val_loss: 0.2915 - val_f1: 0.4525\n",
            "Epoch 15/500\n",
            "331/331 [==============================] - 13s 39ms/step - loss: 0.2387 - f1: 0.5460 - val_loss: 0.2911 - val_f1: 0.4525\n",
            "Epoch 16/500\n",
            "331/331 [==============================] - 13s 40ms/step - loss: 0.2374 - f1: 0.5484 - val_loss: 0.2907 - val_f1: 0.4516\n",
            "Epoch 17/500\n",
            "331/331 [==============================] - 13s 40ms/step - loss: 0.2361 - f1: 0.5507 - val_loss: 0.2904 - val_f1: 0.4516\n",
            "Epoch 18/500\n",
            "331/331 [==============================] - 13s 40ms/step - loss: 0.2348 - f1: 0.5536 - val_loss: 0.2901 - val_f1: 0.4525\n",
            "Epoch 19/500\n",
            "331/331 [==============================] - 13s 40ms/step - loss: 0.2335 - f1: 0.5555 - val_loss: 0.2898 - val_f1: 0.4533\n",
            "Epoch 20/500\n",
            "331/331 [==============================] - 13s 41ms/step - loss: 0.2323 - f1: 0.5588 - val_loss: 0.2895 - val_f1: 0.4533\n",
            "Epoch 21/500\n",
            "331/331 [==============================] - 13s 41ms/step - loss: 0.2310 - f1: 0.5615 - val_loss: 0.2892 - val_f1: 0.4559\n",
            "Epoch 22/500\n",
            "331/331 [==============================] - 13s 41ms/step - loss: 0.2298 - f1: 0.5635 - val_loss: 0.2889 - val_f1: 0.4576\n",
            "Epoch 23/500\n",
            "331/331 [==============================] - 13s 40ms/step - loss: 0.2285 - f1: 0.5642 - val_loss: 0.2886 - val_f1: 0.4610\n",
            "Epoch 24/500\n",
            "331/331 [==============================] - 13s 41ms/step - loss: 0.2273 - f1: 0.5671 - val_loss: 0.2884 - val_f1: 0.4601\n",
            "Epoch 25/500\n",
            "331/331 [==============================] - 13s 40ms/step - loss: 0.2261 - f1: 0.5703 - val_loss: 0.2881 - val_f1: 0.4610\n",
            "Epoch 26/500\n",
            "331/331 [==============================] - 13s 40ms/step - loss: 0.2249 - f1: 0.5735 - val_loss: 0.2879 - val_f1: 0.4618\n",
            "Epoch 27/500\n",
            "331/331 [==============================] - 13s 40ms/step - loss: 0.2237 - f1: 0.5756 - val_loss: 0.2876 - val_f1: 0.4626\n",
            "Epoch 28/500\n",
            "331/331 [==============================] - 13s 40ms/step - loss: 0.2225 - f1: 0.5781 - val_loss: 0.2874 - val_f1: 0.4618\n",
            "Epoch 29/500\n",
            "331/331 [==============================] - 13s 40ms/step - loss: 0.2213 - f1: 0.5798 - val_loss: 0.2872 - val_f1: 0.4635\n",
            "Epoch 30/500\n",
            "331/331 [==============================] - 13s 40ms/step - loss: 0.2201 - f1: 0.5820 - val_loss: 0.2870 - val_f1: 0.4635\n",
            "Epoch 31/500\n",
            "331/331 [==============================] - 13s 40ms/step - loss: 0.2190 - f1: 0.5836 - val_loss: 0.2869 - val_f1: 0.4643\n",
            "Epoch 32/500\n",
            "331/331 [==============================] - 13s 40ms/step - loss: 0.2178 - f1: 0.5864 - val_loss: 0.2867 - val_f1: 0.4635\n",
            "Epoch 33/500\n",
            "331/331 [==============================] - 13s 40ms/step - loss: 0.2167 - f1: 0.5892 - val_loss: 0.2865 - val_f1: 0.4643\n",
            "Epoch 34/500\n",
            "331/331 [==============================] - 13s 40ms/step - loss: 0.2156 - f1: 0.5914 - val_loss: 0.2864 - val_f1: 0.4660\n",
            "Epoch 35/500\n",
            "331/331 [==============================] - 13s 40ms/step - loss: 0.2144 - f1: 0.5932 - val_loss: 0.2863 - val_f1: 0.4660\n",
            "Epoch 36/500\n",
            "331/331 [==============================] - 13s 40ms/step - loss: 0.2133 - f1: 0.5959 - val_loss: 0.2861 - val_f1: 0.4652\n",
            "Epoch 37/500\n",
            "331/331 [==============================] - 13s 40ms/step - loss: 0.2122 - f1: 0.5977 - val_loss: 0.2859 - val_f1: 0.4686\n",
            "Epoch 38/500\n",
            "331/331 [==============================] - 13s 40ms/step - loss: 0.2111 - f1: 0.5992 - val_loss: 0.2858 - val_f1: 0.4669\n",
            "Epoch 39/500\n",
            "331/331 [==============================] - 13s 40ms/step - loss: 0.2100 - f1: 0.6022 - val_loss: 0.2857 - val_f1: 0.4686\n",
            "Epoch 40/500\n",
            "331/331 [==============================] - 13s 40ms/step - loss: 0.2089 - f1: 0.6041 - val_loss: 0.2856 - val_f1: 0.4711\n",
            "Epoch 41/500\n",
            "331/331 [==============================] - 13s 41ms/step - loss: 0.2078 - f1: 0.6058 - val_loss: 0.2855 - val_f1: 0.4711\n",
            "Epoch 42/500\n",
            "331/331 [==============================] - 13s 40ms/step - loss: 0.2068 - f1: 0.6073 - val_loss: 0.2854 - val_f1: 0.4694\n",
            "Epoch 43/500\n",
            "331/331 [==============================] - 13s 40ms/step - loss: 0.2057 - f1: 0.6088 - val_loss: 0.2854 - val_f1: 0.4694\n",
            "Epoch 44/500\n",
            "331/331 [==============================] - 13s 40ms/step - loss: 0.2046 - f1: 0.6113 - val_loss: 0.2852 - val_f1: 0.4694\n",
            "Epoch 45/500\n",
            "331/331 [==============================] - 13s 40ms/step - loss: 0.2036 - f1: 0.6138 - val_loss: 0.2852 - val_f1: 0.4728\n",
            "Epoch 46/500\n",
            "331/331 [==============================] - 13s 40ms/step - loss: 0.2026 - f1: 0.6157 - val_loss: 0.2852 - val_f1: 0.4711\n",
            "Epoch 47/500\n",
            "331/331 [==============================] - 13s 40ms/step - loss: 0.2015 - f1: 0.6180 - val_loss: 0.2851 - val_f1: 0.4720\n",
            "Epoch 48/500\n",
            "331/331 [==============================] - 13s 40ms/step - loss: 0.2005 - f1: 0.6204 - val_loss: 0.2851 - val_f1: 0.4720\n",
            "Epoch 49/500\n",
            "331/331 [==============================] - 13s 40ms/step - loss: 0.1995 - f1: 0.6231 - val_loss: 0.2851 - val_f1: 0.4703\n",
            "Epoch 50/500\n",
            "331/331 [==============================] - 13s 40ms/step - loss: 0.1985 - f1: 0.6258 - val_loss: 0.2850 - val_f1: 0.4720\n",
            "Epoch 51/500\n",
            "331/331 [==============================] - 12s 36ms/step - loss: 0.1974 - f1: 0.6293 - val_loss: 0.2851 - val_f1: 0.4720\n",
            "Epoch 52/500\n",
            "331/331 [==============================] - 13s 40ms/step - loss: 0.1965 - f1: 0.6313 - val_loss: 0.2850 - val_f1: 0.4711\n",
            "Epoch 53/500\n",
            "331/331 [==============================] - 12s 35ms/step - loss: 0.1954 - f1: 0.6326 - val_loss: 0.2850 - val_f1: 0.4711\n",
            "Epoch 54/500\n",
            "331/331 [==============================] - 12s 35ms/step - loss: 0.1945 - f1: 0.6348 - val_loss: 0.2850 - val_f1: 0.4745\n",
            "Epoch 55/500\n",
            "331/331 [==============================] - 12s 35ms/step - loss: 0.1935 - f1: 0.6372 - val_loss: 0.2850 - val_f1: 0.4745\n",
            "Epoch 56/500\n",
            "331/331 [==============================] - 12s 36ms/step - loss: 0.1925 - f1: 0.6395 - val_loss: 0.2851 - val_f1: 0.4728\n",
            "Epoch 57/500\n",
            "331/331 [==============================] - 12s 35ms/step - loss: 0.1915 - f1: 0.6411 - val_loss: 0.2851 - val_f1: 0.4737\n",
            "Epoch 58/500\n",
            "331/331 [==============================] - 12s 35ms/step - loss: 0.1905 - f1: 0.6428 - val_loss: 0.2851 - val_f1: 0.4737\n",
            "Epoch 59/500\n",
            "331/331 [==============================] - 12s 35ms/step - loss: 0.1896 - f1: 0.6449 - val_loss: 0.2852 - val_f1: 0.4728\n",
            "Epoch 60/500\n",
            "331/331 [==============================] - 12s 35ms/step - loss: 0.1886 - f1: 0.6466 - val_loss: 0.2853 - val_f1: 0.4728\n",
            "Epoch 61/500\n",
            "331/331 [==============================] - 12s 35ms/step - loss: 0.1877 - f1: 0.6484 - val_loss: 0.2854 - val_f1: 0.4754\n",
            "Epoch 62/500\n",
            "331/331 [==============================] - 12s 35ms/step - loss: 0.1867 - f1: 0.6519 - val_loss: 0.2854 - val_f1: 0.4745\n",
            "Epoch 63/500\n",
            "331/331 [==============================] - 12s 35ms/step - loss: 0.1858 - f1: 0.6544 - val_loss: 0.2855 - val_f1: 0.4754\n",
            "Epoch 64/500\n",
            "331/331 [==============================] - 12s 35ms/step - loss: 0.1848 - f1: 0.6559 - val_loss: 0.2856 - val_f1: 0.4737\n",
            "Epoch 65/500\n",
            "331/331 [==============================] - 12s 35ms/step - loss: 0.1839 - f1: 0.6572 - val_loss: 0.2857 - val_f1: 0.4745\n",
            "Epoch 66/500\n",
            "331/331 [==============================] - 12s 35ms/step - loss: 0.1829 - f1: 0.6597 - val_loss: 0.2858 - val_f1: 0.4754\n",
            "Epoch 67/500\n",
            "331/331 [==============================] - 12s 35ms/step - loss: 0.1820 - f1: 0.6615 - val_loss: 0.2859 - val_f1: 0.4745\n",
            "Epoch 68/500\n",
            "331/331 [==============================] - 12s 35ms/step - loss: 0.1811 - f1: 0.6634 - val_loss: 0.2860 - val_f1: 0.4720\n",
            "Epoch 69/500\n",
            "331/331 [==============================] - 12s 36ms/step - loss: 0.1802 - f1: 0.6657 - val_loss: 0.2861 - val_f1: 0.4720\n",
            "Epoch 70/500\n",
            "331/331 [==============================] - 12s 35ms/step - loss: 0.1793 - f1: 0.6681 - val_loss: 0.2863 - val_f1: 0.4720\n",
            "Epoch 71/500\n",
            "331/331 [==============================] - 12s 35ms/step - loss: 0.1783 - f1: 0.6700 - val_loss: 0.2864 - val_f1: 0.4745\n",
            "Epoch 72/500\n",
            "331/331 [==============================] - 12s 35ms/step - loss: 0.1774 - f1: 0.6719 - val_loss: 0.2865 - val_f1: 0.4745\n",
            "Epoch 00072: early stopping\n"
          ],
          "name": "stdout"
        }
      ]
    },
    {
      "cell_type": "code",
      "metadata": {
        "id": "8pMqmr-3Ajqs",
        "colab_type": "code",
        "colab": {
          "base_uri": "https://localhost:8080/",
          "height": 839
        },
        "outputId": "3b24d430-b906-4e0b-96f5-f8c47c4a05a9"
      },
      "source": [
        "history = history.history\n",
        "\n",
        "fig, (ax1, ax2) = plt.subplots(2, 1, sharex='col', figsize=(20, 14))\n",
        "\n",
        "ax1.plot(history['loss'], label='Training')\n",
        "ax1.plot(history['val_loss'], label='Validation')\n",
        "ax1.legend(loc='best')\n",
        "ax1.set_title('Loss')\n",
        "\n",
        "ax2.plot(history['f1'], label='Training')\n",
        "ax2.plot(history['val_f1'], label='Validation')\n",
        "ax2.legend(loc='best')\n",
        "ax2.set_title('F1 Score')\n",
        "\n",
        "plt.xlabel('Epochs')\n",
        "sns.despine()\n",
        "plt.show()"
      ],
      "execution_count": null,
      "outputs": [
        {
          "output_type": "display_data",
          "data": {
            "image/png": "[encoded data removed]",
            "text/plain": [
              "<Figure size 1440x1008 with 2 Axes>"
            ]
          },
          "metadata": {
            "tags": [],
            "needs_background": "light"
          }
        }
      ]
    },
    {
      "cell_type": "code",
      "metadata": {
        "id": "GrNn310VT1I-",
        "colab_type": "code",
        "colab": {
          "base_uri": "https://localhost:8080/",
          "height": 51
        },
        "outputId": "cd6b9e9e-ed39-495c-e80b-02e9760d9569"
      },
      "source": [
        "model.load_weights(filepath)\n",
        "model.evaluate(x_test, y_test, verbose=1)"
      ],
      "execution_count": null,
      "outputs": [
        {
          "output_type": "stream",
          "text": [
            "87/87 [==============================] - 0s 4ms/step - loss: 0.2549 - f1: 0.5246\n"
          ],
          "name": "stdout"
        },
        {
          "output_type": "execute_result",
          "data": {
            "text/plain": [
              "[0.2548649311065674, 0.5246020555496216]"
            ]
          },
          "metadata": {
            "tags": []
          },
          "execution_count": 31
        }
      ]
    },
    {
      "cell_type": "code",
      "metadata": {
        "id": "GQKBj-5ZAxYP",
        "colab_type": "code",
        "colab": {}
      },
      "source": [
        "y_pred = model.predict(x_test)\n",
        "y_pred = y_pred.argmax(axis=1)"
      ],
      "execution_count": null,
      "outputs": []
    },
    {
      "cell_type": "markdown",
      "metadata": {
        "id": "hdzSOQdTL68-",
        "colab_type": "text"
      },
      "source": [
        "Let's look at how we did on each class."
      ]
    },
    {
      "cell_type": "code",
      "metadata": {
        "id": "zwN6RbzlAyGn",
        "colab_type": "code",
        "colab": {
          "base_uri": "https://localhost:8080/",
          "height": 326
        },
        "outputId": "dae30c1a-be0e-41e1-d52f-bb3604caf05b"
      },
      "source": [
        "from sklearn.metrics import classification_report\n",
        "print(classification_report(y_true, y_pred, target_names=labelEncoder.classes_))"
      ],
      "execution_count": null,
      "outputs": [
        {
          "output_type": "stream",
          "text": [
            "              precision    recall  f1-score   support\n",
            "\n",
            "       anger       0.20      0.01      0.01       161\n",
            "     disgust       0.00      0.00      0.00        68\n",
            "        fear       0.00      0.00      0.00        32\n",
            "         joy       0.49      0.43      0.46       304\n",
            "     neutral       0.57      0.86      0.68      1287\n",
            " non-neutral       0.31      0.18      0.23       541\n",
            "     sadness       0.40      0.05      0.08        85\n",
            "    surprise       0.49      0.38      0.43       286\n",
            "\n",
            "    accuracy                           0.52      2764\n",
            "   macro avg       0.31      0.24      0.24      2764\n",
            "weighted avg       0.45      0.52      0.46      2764\n",
            "\n"
          ],
          "name": "stdout"
        },
        {
          "output_type": "stream",
          "text": [
            "/usr/local/lib/python3.6/dist-packages/sklearn/metrics/_classification.py:1272: UndefinedMetricWarning: Precision and F-score are ill-defined and being set to 0.0 in labels with no predicted samples. Use `zero_division` parameter to control this behavior.\n",
            "  _warn_prf(average, modifier, msg_start, len(result))\n"
          ],
          "name": "stderr"
        }
      ]
    },
    {
      "cell_type": "markdown",
      "metadata": {
        "id": "05qojCE3i9CN",
        "colab_type": "text"
      },
      "source": [
        "# Competition prediction task\n",
        "\n",
        "\n",
        "\n",
        "> In the competition they only predict samples with joy, sadness, anger, and neutral. All others are discarded. \n",
        "\n"
      ]
    },
    {
      "cell_type": "code",
      "metadata": {
        "id": "YrTJ4ncRi65x",
        "colab_type": "code",
        "colab": {}
      },
      "source": [
        "allowed_emotions = ['joy', 'sadness', 'anger', 'neutral']\n",
        "\n",
        "df = pd.read_json('friends_train.json')\n",
        "utterances = []\n",
        "emotions = []\n",
        "for _, row in df.iterrows():\n",
        "  for i in range(len(df.columns)):\n",
        "    if row[i] is not None and row[i]['emotion'] in allowed_emotions:\n",
        "      speaker = row[i]['speaker']\n",
        "      utterance = row[i]['utterance'].replace('\\x92', '`')\n",
        "      utterances.append(speaker + ' says: ' + utterance)\n",
        "      emotions.append(row[i]['emotion'])\n",
        "\n",
        "train_df = pd.DataFrame(list(zip(utterances, emotions)), \n",
        "               columns =['utterance', 'emotion']) \n",
        "\n",
        "df = pd.read_json('friends_dev.json')\n",
        "utterances = []\n",
        "emotions = []\n",
        "for _, row in df.iterrows():\n",
        "  for i in range(len(df.columns)):\n",
        "    if row[i] is not None and row[i]['emotion'] in allowed_emotions:\n",
        "      speaker = row[i]['speaker']\n",
        "      utterance = row[i]['utterance'].replace('\\x92', '`')\n",
        "      utterances.append(speaker + ' says: ' + utterance)\n",
        "      emotions.append(row[i]['emotion'])\n",
        "\n",
        "val_df = pd.DataFrame(list(zip(utterances, emotions)), \n",
        "               columns =['utterance', 'emotion'])\n",
        "\n",
        "df = pd.read_json('friends_test.json')\n",
        "utterances = []\n",
        "emotions = []\n",
        "for _, row in df.iterrows():\n",
        "  for i in range(len(df.columns)):\n",
        "    if row[i] is not None and row[i]['emotion'] in allowed_emotions:\n",
        "      speaker = row[i]['speaker']\n",
        "      utterance = row[i]['utterance'].replace('\\x92', '`')\n",
        "      utterances.append(speaker + ' says: ' + utterance)\n",
        "      emotions.append(row[i]['emotion'])\n",
        "\n",
        "test_df = pd.DataFrame(list(zip(utterances, emotions)), \n",
        "               columns =['utterance', 'emotion'])"
      ],
      "execution_count": null,
      "outputs": []
    },
    {
      "cell_type": "code",
      "metadata": {
        "id": "nMc7TJqZk9Yo",
        "colab_type": "code",
        "colab": {
          "base_uri": "https://localhost:8080/",
          "height": 102
        },
        "outputId": "1418282e-1bff-4a3d-a65a-de4f6ee20177"
      },
      "source": [
        "train_df['emotion'].value_counts()"
      ],
      "execution_count": null,
      "outputs": [
        {
          "output_type": "execute_result",
          "data": {
            "text/plain": [
              "neutral    4752\n",
              "joy        1283\n",
              "anger       513\n",
              "sadness     351\n",
              "Name: emotion, dtype: int64"
            ]
          },
          "metadata": {
            "tags": []
          },
          "execution_count": 35
        }
      ]
    },
    {
      "cell_type": "code",
      "metadata": {
        "id": "JTyVb4MnlHTh",
        "colab_type": "code",
        "colab": {}
      },
      "source": [
        "# from sklearn.model_selection import train_test_split\n",
        "# # lets combine + shuffle train and val and then split again.\n",
        "# combined_df = pd.concat([train_df, val_df])\n",
        "# train_df, val_df = train_test_split(combined_df, test_size=0.2, shuffle=True, \n",
        "#                                     stratify=combined_df['emotion'], random_state=seed)"
      ],
      "execution_count": null,
      "outputs": []
    },
    {
      "cell_type": "code",
      "metadata": {
        "id": "lFjG0G85lPsl",
        "colab_type": "code",
        "colab": {
          "base_uri": "https://localhost:8080/",
          "height": 34
        },
        "outputId": "6d3475bb-3eb6-460c-bb40-73a1623a35d4"
      },
      "source": [
        "# create the labels as integers\n",
        "from sklearn.preprocessing import LabelEncoder\n",
        "labelEncoder = LabelEncoder()\n",
        "train_df['label'] = labelEncoder.fit_transform(train_df['emotion'].values)\n",
        "train_df.drop(['emotion'], axis='columns', inplace=True)\n",
        "\n",
        "val_df['label'] = labelEncoder.transform(val_df['emotion'].values)\n",
        "val_df.drop(['emotion'], axis='columns', inplace=True)\n",
        "\n",
        "test_df['label'] = labelEncoder.transform(test_df['emotion'].values)\n",
        "test_df.drop(['emotion'], axis='columns', inplace=True)\n",
        "\n",
        "num_classes=len(labelEncoder.classes_)\n",
        "labelEncoder.classes_"
      ],
      "execution_count": null,
      "outputs": [
        {
          "output_type": "execute_result",
          "data": {
            "text/plain": [
              "array(['anger', 'joy', 'neutral', 'sadness'], dtype=object)"
            ]
          },
          "metadata": {
            "tags": []
          },
          "execution_count": 37
        }
      ]
    },
    {
      "cell_type": "code",
      "metadata": {
        "id": "xEeWNn6Zlo_F",
        "colab_type": "code",
        "colab": {
          "base_uri": "https://localhost:8080/",
          "height": 34
        },
        "outputId": "4ce394b9-2718-4161-8d90-e1ea27c6ea92"
      },
      "source": [
        "max_len = -1\n",
        "for _,row in train_df.iterrows():\n",
        "  length = len(row.utterance)\n",
        "  if length > max_len:\n",
        "    max_len = length\n",
        "\n",
        "max_len"
      ],
      "execution_count": null,
      "outputs": [
        {
          "output_type": "execute_result",
          "data": {
            "text/plain": [
              "256"
            ]
          },
          "metadata": {
            "tags": []
          },
          "execution_count": 38
        }
      ]
    },
    {
      "cell_type": "code",
      "metadata": {
        "id": "lDZOL-SjlwPA",
        "colab_type": "code",
        "colab": {}
      },
      "source": [
        "import tensorflow as tf\n",
        "tf.random.set_seed(seed)"
      ],
      "execution_count": null,
      "outputs": []
    },
    {
      "cell_type": "code",
      "metadata": {
        "id": "9NFrjLENl1JC",
        "colab_type": "code",
        "colab": {}
      },
      "source": [
        "x_train, y_train = prep_data(train_df)\n",
        "x_val, y_val = prep_data(val_df)\n",
        "x_test, y_test = prep_data(test_df)\n",
        "\n",
        "y_true = y_test\n",
        "\n",
        "y_train = tf.keras.utils.to_categorical(y_train, num_classes=num_classes)\n",
        "y_val = tf.keras.utils.to_categorical(y_val, num_classes=num_classes)\n",
        "y_test = tf.keras.utils.to_categorical(y_test, num_classes=num_classes)"
      ],
      "execution_count": null,
      "outputs": []
    },
    {
      "cell_type": "code",
      "metadata": {
        "id": "6QUoPEU-l_DE",
        "colab_type": "code",
        "colab": {
          "base_uri": "https://localhost:8080/",
          "height": 255
        },
        "outputId": "20d131a7-c126-4126-e9b4-1301bfb252ce"
      },
      "source": [
        "import tensorflow_hub as hub\n",
        "\n",
        "embedding = \"https://tfhub.dev/google/nnlm-en-dim128/2\"\n",
        "hub_layer = hub.KerasLayer(embedding, input_shape=[], \n",
        "                           dtype=tf.string, trainable=False)\n",
        "\n",
        "model = tf.keras.Sequential()\n",
        "model.add(hub_layer)\n",
        "model.add(tf.keras.layers.Dense(16, activation='relu'))\n",
        "model.add(tf.keras.layers.Dense(num_classes, activation='softmax'))\n",
        "\n",
        "model.summary()"
      ],
      "execution_count": null,
      "outputs": [
        {
          "output_type": "stream",
          "text": [
            "Model: \"sequential_1\"\n",
            "_________________________________________________________________\n",
            "Layer (type)                 Output Shape              Param #   \n",
            "=================================================================\n",
            "keras_layer_1 (KerasLayer)   (None, 128)               124642688 \n",
            "_________________________________________________________________\n",
            "dense_2 (Dense)              (None, 16)                2064      \n",
            "_________________________________________________________________\n",
            "dense_3 (Dense)              (None, 4)                 68        \n",
            "=================================================================\n",
            "Total params: 124,644,820\n",
            "Trainable params: 2,132\n",
            "Non-trainable params: 124,642,688\n",
            "_________________________________________________________________\n"
          ],
          "name": "stdout"
        }
      ]
    },
    {
      "cell_type": "code",
      "metadata": {
        "id": "RP0e2PCXmPRB",
        "colab_type": "code",
        "colab": {}
      },
      "source": [
        "import tensorflow_addons as tfa"
      ],
      "execution_count": null,
      "outputs": []
    },
    {
      "cell_type": "code",
      "metadata": {
        "id": "7qzrv-cwmV2Q",
        "colab_type": "code",
        "colab": {}
      },
      "source": [
        "f1_score = tfa.metrics.F1Score(num_classes, average='micro', name='f1')\n",
        "\n",
        "model.compile(optimizer=tf.keras.optimizers.Adam(learning_rate=0.001), \n",
        "              loss=tfa.losses.SigmoidFocalCrossEntropy(), \n",
        "              metrics=[f1_score])"
      ],
      "execution_count": null,
      "outputs": []
    },
    {
      "cell_type": "code",
      "metadata": {
        "id": "2v-qTSgLmaPO",
        "colab_type": "code",
        "colab": {
          "base_uri": "https://localhost:8080/",
          "height": 1000
        },
        "outputId": "d08f26a7-348e-4783-d432-c0613a14bd5b"
      },
      "source": [
        "filepath = 'model.h5'\n",
        "mc = tf.keras.callbacks.ModelCheckpoint(\n",
        "    filepath, monitor='val_loss', verbose=0, save_best_only=True,\n",
        "    save_weights_only=True, mode='auto')\n",
        "es = tf.keras.callbacks.EarlyStopping(\n",
        "    monitor='val_loss', min_delta=0, patience=20, verbose=1, mode='auto', restore_best_weights=False)\n",
        "\n",
        "history = model.fit(x_train, y_train, epochs=100, verbose=1, \n",
        "                    validation_data=(x_val, y_val), callbacks=[mc, es])"
      ],
      "execution_count": null,
      "outputs": [
        {
          "output_type": "stream",
          "text": [
            "Epoch 1/100\n",
            "216/216 [==============================] - 3s 15ms/step - loss: 0.1770 - f1: 0.6669 - val_loss: 0.1809 - val_f1: 0.6452\n",
            "Epoch 2/100\n",
            "216/216 [==============================] - 3s 13ms/step - loss: 0.1598 - f1: 0.6907 - val_loss: 0.1776 - val_f1: 0.6452\n",
            "Epoch 3/100\n",
            "216/216 [==============================] - 3s 14ms/step - loss: 0.1558 - f1: 0.6949 - val_loss: 0.1744 - val_f1: 0.6544\n",
            "Epoch 4/100\n",
            "216/216 [==============================] - 3s 15ms/step - loss: 0.1527 - f1: 0.6969 - val_loss: 0.1728 - val_f1: 0.6597\n",
            "Epoch 5/100\n",
            "216/216 [==============================] - 4s 18ms/step - loss: 0.1503 - f1: 0.7021 - val_loss: 0.1714 - val_f1: 0.6610\n",
            "Epoch 6/100\n",
            "216/216 [==============================] - 6s 29ms/step - loss: 0.1484 - f1: 0.7072 - val_loss: 0.1710 - val_f1: 0.6702\n",
            "Epoch 7/100\n",
            "216/216 [==============================] - 1s 7ms/step - loss: 0.1467 - f1: 0.7066 - val_loss: 0.1712 - val_f1: 0.6610\n",
            "Epoch 8/100\n",
            "216/216 [==============================] - 5s 23ms/step - loss: 0.1452 - f1: 0.7110 - val_loss: 0.1691 - val_f1: 0.6597\n",
            "Epoch 9/100\n",
            "216/216 [==============================] - 6s 28ms/step - loss: 0.1439 - f1: 0.7139 - val_loss: 0.1674 - val_f1: 0.6689\n",
            "Epoch 10/100\n",
            "216/216 [==============================] - 2s 7ms/step - loss: 0.1429 - f1: 0.7147 - val_loss: 0.1686 - val_f1: 0.6715\n",
            "Epoch 11/100\n",
            "216/216 [==============================] - 1s 7ms/step - loss: 0.1416 - f1: 0.7197 - val_loss: 0.1689 - val_f1: 0.6728\n",
            "Epoch 12/100\n",
            "216/216 [==============================] - 4s 18ms/step - loss: 0.1405 - f1: 0.7175 - val_loss: 0.1673 - val_f1: 0.6702\n",
            "Epoch 13/100\n",
            "216/216 [==============================] - 1s 6ms/step - loss: 0.1397 - f1: 0.7240 - val_loss: 0.1675 - val_f1: 0.6781\n",
            "Epoch 14/100\n",
            "216/216 [==============================] - 1s 6ms/step - loss: 0.1385 - f1: 0.7247 - val_loss: 0.1674 - val_f1: 0.6741\n",
            "Epoch 15/100\n",
            "216/216 [==============================] - 1s 6ms/step - loss: 0.1379 - f1: 0.7255 - val_loss: 0.1698 - val_f1: 0.6767\n",
            "Epoch 16/100\n",
            "216/216 [==============================] - 3s 13ms/step - loss: 0.1370 - f1: 0.7255 - val_loss: 0.1671 - val_f1: 0.6715\n",
            "Epoch 17/100\n",
            "216/216 [==============================] - 7s 31ms/step - loss: 0.1363 - f1: 0.7304 - val_loss: 0.1667 - val_f1: 0.6702\n",
            "Epoch 18/100\n",
            "216/216 [==============================] - 1s 7ms/step - loss: 0.1354 - f1: 0.7297 - val_loss: 0.1678 - val_f1: 0.6689\n",
            "Epoch 19/100\n",
            "216/216 [==============================] - 1s 6ms/step - loss: 0.1348 - f1: 0.7310 - val_loss: 0.1682 - val_f1: 0.6754\n",
            "Epoch 20/100\n",
            "216/216 [==============================] - 1s 6ms/step - loss: 0.1341 - f1: 0.7333 - val_loss: 0.1692 - val_f1: 0.6767\n",
            "Epoch 21/100\n",
            "216/216 [==============================] - 1s 6ms/step - loss: 0.1333 - f1: 0.7333 - val_loss: 0.1679 - val_f1: 0.6675\n",
            "Epoch 22/100\n",
            "216/216 [==============================] - 1s 6ms/step - loss: 0.1326 - f1: 0.7340 - val_loss: 0.1704 - val_f1: 0.6807\n",
            "Epoch 23/100\n",
            "216/216 [==============================] - 1s 6ms/step - loss: 0.1321 - f1: 0.7346 - val_loss: 0.1681 - val_f1: 0.6794\n",
            "Epoch 24/100\n",
            "216/216 [==============================] - 1s 6ms/step - loss: 0.1314 - f1: 0.7353 - val_loss: 0.1692 - val_f1: 0.6781\n",
            "Epoch 25/100\n",
            "216/216 [==============================] - 1s 5ms/step - loss: 0.1312 - f1: 0.7355 - val_loss: 0.1693 - val_f1: 0.6820\n",
            "Epoch 26/100\n",
            "216/216 [==============================] - 1s 7ms/step - loss: 0.1301 - f1: 0.7382 - val_loss: 0.1696 - val_f1: 0.6754\n",
            "Epoch 27/100\n",
            "216/216 [==============================] - 1s 6ms/step - loss: 0.1300 - f1: 0.7379 - val_loss: 0.1703 - val_f1: 0.6807\n",
            "Epoch 28/100\n",
            "216/216 [==============================] - 1s 6ms/step - loss: 0.1293 - f1: 0.7359 - val_loss: 0.1686 - val_f1: 0.6741\n",
            "Epoch 29/100\n",
            "216/216 [==============================] - 1s 6ms/step - loss: 0.1287 - f1: 0.7394 - val_loss: 0.1684 - val_f1: 0.6741\n",
            "Epoch 30/100\n",
            "216/216 [==============================] - 1s 7ms/step - loss: 0.1284 - f1: 0.7417 - val_loss: 0.1724 - val_f1: 0.6754\n",
            "Epoch 31/100\n",
            "216/216 [==============================] - 1s 7ms/step - loss: 0.1280 - f1: 0.7404 - val_loss: 0.1704 - val_f1: 0.6820\n",
            "Epoch 32/100\n",
            "216/216 [==============================] - 1s 6ms/step - loss: 0.1272 - f1: 0.7434 - val_loss: 0.1698 - val_f1: 0.6702\n",
            "Epoch 33/100\n",
            "216/216 [==============================] - 1s 6ms/step - loss: 0.1268 - f1: 0.7413 - val_loss: 0.1716 - val_f1: 0.6807\n",
            "Epoch 34/100\n",
            "216/216 [==============================] - 1s 6ms/step - loss: 0.1263 - f1: 0.7458 - val_loss: 0.1722 - val_f1: 0.6794\n",
            "Epoch 35/100\n",
            "216/216 [==============================] - 1s 6ms/step - loss: 0.1261 - f1: 0.7443 - val_loss: 0.1693 - val_f1: 0.6689\n",
            "Epoch 36/100\n",
            "216/216 [==============================] - 1s 6ms/step - loss: 0.1254 - f1: 0.7455 - val_loss: 0.1707 - val_f1: 0.6702\n",
            "Epoch 37/100\n",
            "216/216 [==============================] - 1s 7ms/step - loss: 0.1250 - f1: 0.7446 - val_loss: 0.1742 - val_f1: 0.6715\n",
            "Epoch 00037: early stopping\n"
          ],
          "name": "stdout"
        }
      ]
    },
    {
      "cell_type": "code",
      "metadata": {
        "id": "EKfI83IMmkeI",
        "colab_type": "code",
        "colab": {
          "base_uri": "https://localhost:8080/",
          "height": 839
        },
        "outputId": "b243c169-7a11-4a7b-95ae-9584027bf5bd"
      },
      "source": [
        "import matplotlib.pyplot as plt\n",
        "import seaborn as sns\n",
        "\n",
        "history = history.history\n",
        "\n",
        "fig, (ax1, ax2) = plt.subplots(2, 1, sharex='col', figsize=(20, 14))\n",
        "\n",
        "ax1.plot(history['loss'], label='Training')\n",
        "ax1.plot(history['val_loss'], label='Validation')\n",
        "ax1.legend(loc='best')\n",
        "ax1.set_title('Loss')\n",
        "\n",
        "ax2.plot(history['f1'], label='Training')\n",
        "ax2.plot(history['val_f1'], label='Validation')\n",
        "ax2.legend(loc='best')\n",
        "ax2.set_title('F1 Score')\n",
        "\n",
        "plt.xlabel('Epochs')\n",
        "sns.despine()\n",
        "plt.show()"
      ],
      "execution_count": null,
      "outputs": [
        {
          "output_type": "display_data",
          "data": {
            "image/png": "[encoded data removed]",
            "text/plain": [
              "<Figure size 1440x1008 with 2 Axes>"
            ]
          },
          "metadata": {
            "tags": [],
            "needs_background": "light"
          }
        }
      ]
    },
    {
      "cell_type": "code",
      "metadata": {
        "id": "5HAZOEKxmqkh",
        "colab_type": "code",
        "colab": {
          "base_uri": "https://localhost:8080/",
          "height": 255
        },
        "outputId": "61574408-df2a-4c45-9391-e785118285bc"
      },
      "source": [
        "model.load_weights(filepath)\n",
        "model.get_layer(index=0).trainable = True\n",
        "model.summary()"
      ],
      "execution_count": null,
      "outputs": [
        {
          "output_type": "stream",
          "text": [
            "Model: \"sequential_1\"\n",
            "_________________________________________________________________\n",
            "Layer (type)                 Output Shape              Param #   \n",
            "=================================================================\n",
            "keras_layer_1 (KerasLayer)   (None, 128)               124642688 \n",
            "_________________________________________________________________\n",
            "dense_2 (Dense)              (None, 16)                2064      \n",
            "_________________________________________________________________\n",
            "dense_3 (Dense)              (None, 4)                 68        \n",
            "=================================================================\n",
            "Total params: 124,644,820\n",
            "Trainable params: 124,644,820\n",
            "Non-trainable params: 0\n",
            "_________________________________________________________________\n"
          ],
          "name": "stdout"
        }
      ]
    },
    {
      "cell_type": "code",
      "metadata": {
        "id": "KBUPHN16IbPJ",
        "colab_type": "code",
        "colab": {}
      },
      "source": [
        "model.compile(optimizer=tf.keras.optimizers.Adam(learning_rate=1e-6), \n",
        "              loss=tfa.losses.SigmoidFocalCrossEntropy(), \n",
        "              metrics=[f1_score])"
      ],
      "execution_count": null,
      "outputs": []
    },
    {
      "cell_type": "code",
      "metadata": {
        "id": "p9J8KxT5IhZr",
        "colab_type": "code",
        "colab": {
          "base_uri": "https://localhost:8080/",
          "height": 1000
        },
        "outputId": "68164172-5807-4b8a-e713-1b11fd335717"
      },
      "source": [
        "history = model.fit(x_train, y_train, epochs=500, verbose=1, \n",
        "                    validation_data=(x_val, y_val), callbacks=[mc, es],\n",
        "                    )"
      ],
      "execution_count": null,
      "outputs": [
        {
          "output_type": "stream",
          "text": [
            "Epoch 1/500\n",
            "216/216 [==============================] - 8s 36ms/step - loss: 0.1342 - f1: 0.7258 - val_loss: 0.1668 - val_f1: 0.6702\n",
            "Epoch 2/500\n",
            "216/216 [==============================] - 8s 36ms/step - loss: 0.1341 - f1: 0.7317 - val_loss: 0.1667 - val_f1: 0.6715\n",
            "Epoch 3/500\n",
            "216/216 [==============================] - 8s 36ms/step - loss: 0.1339 - f1: 0.7317 - val_loss: 0.1667 - val_f1: 0.6715\n",
            "Epoch 4/500\n",
            "216/216 [==============================] - 9s 42ms/step - loss: 0.1337 - f1: 0.7318 - val_loss: 0.1667 - val_f1: 0.6728\n",
            "Epoch 5/500\n",
            "216/216 [==============================] - 9s 42ms/step - loss: 0.1337 - f1: 0.7324 - val_loss: 0.1667 - val_f1: 0.6728\n",
            "Epoch 6/500\n",
            "216/216 [==============================] - 9s 42ms/step - loss: 0.1335 - f1: 0.7327 - val_loss: 0.1667 - val_f1: 0.6728\n",
            "Epoch 7/500\n",
            "216/216 [==============================] - 9s 42ms/step - loss: 0.1333 - f1: 0.7329 - val_loss: 0.1667 - val_f1: 0.6728\n",
            "Epoch 8/500\n",
            "216/216 [==============================] - 9s 42ms/step - loss: 0.1332 - f1: 0.7334 - val_loss: 0.1667 - val_f1: 0.6728\n",
            "Epoch 9/500\n",
            "216/216 [==============================] - 9s 42ms/step - loss: 0.1330 - f1: 0.7333 - val_loss: 0.1667 - val_f1: 0.6741\n",
            "Epoch 10/500\n",
            "216/216 [==============================] - 9s 42ms/step - loss: 0.1329 - f1: 0.7333 - val_loss: 0.1667 - val_f1: 0.6741\n",
            "Epoch 11/500\n",
            "216/216 [==============================] - 9s 43ms/step - loss: 0.1328 - f1: 0.7334 - val_loss: 0.1667 - val_f1: 0.6754\n",
            "Epoch 12/500\n",
            "216/216 [==============================] - 9s 42ms/step - loss: 0.1326 - f1: 0.7336 - val_loss: 0.1667 - val_f1: 0.6741\n",
            "Epoch 13/500\n",
            "216/216 [==============================] - 9s 42ms/step - loss: 0.1326 - f1: 0.7340 - val_loss: 0.1666 - val_f1: 0.6741\n",
            "Epoch 14/500\n",
            "216/216 [==============================] - 9s 43ms/step - loss: 0.1323 - f1: 0.7346 - val_loss: 0.1666 - val_f1: 0.6741\n",
            "Epoch 15/500\n",
            "216/216 [==============================] - 9s 42ms/step - loss: 0.1323 - f1: 0.7350 - val_loss: 0.1666 - val_f1: 0.6754\n",
            "Epoch 16/500\n",
            "216/216 [==============================] - 9s 43ms/step - loss: 0.1321 - f1: 0.7352 - val_loss: 0.1666 - val_f1: 0.6754\n",
            "Epoch 17/500\n",
            "216/216 [==============================] - 9s 43ms/step - loss: 0.1320 - f1: 0.7356 - val_loss: 0.1666 - val_f1: 0.6767\n",
            "Epoch 18/500\n",
            "216/216 [==============================] - 9s 42ms/step - loss: 0.1318 - f1: 0.7359 - val_loss: 0.1666 - val_f1: 0.6767\n",
            "Epoch 19/500\n",
            "216/216 [==============================] - 9s 42ms/step - loss: 0.1317 - f1: 0.7363 - val_loss: 0.1666 - val_f1: 0.6767\n",
            "Epoch 20/500\n",
            "216/216 [==============================] - 9s 43ms/step - loss: 0.1316 - f1: 0.7368 - val_loss: 0.1665 - val_f1: 0.6767\n",
            "Epoch 21/500\n",
            "216/216 [==============================] - 9s 43ms/step - loss: 0.1314 - f1: 0.7368 - val_loss: 0.1665 - val_f1: 0.6767\n",
            "Epoch 22/500\n",
            "216/216 [==============================] - 9s 42ms/step - loss: 0.1313 - f1: 0.7372 - val_loss: 0.1665 - val_f1: 0.6767\n",
            "Epoch 23/500\n",
            "216/216 [==============================] - 9s 43ms/step - loss: 0.1312 - f1: 0.7375 - val_loss: 0.1665 - val_f1: 0.6781\n",
            "Epoch 24/500\n",
            "216/216 [==============================] - 9s 42ms/step - loss: 0.1311 - f1: 0.7381 - val_loss: 0.1665 - val_f1: 0.6781\n",
            "Epoch 25/500\n",
            "216/216 [==============================] - 9s 42ms/step - loss: 0.1309 - f1: 0.7384 - val_loss: 0.1664 - val_f1: 0.6781\n",
            "Epoch 26/500\n",
            "216/216 [==============================] - 9s 43ms/step - loss: 0.1308 - f1: 0.7387 - val_loss: 0.1664 - val_f1: 0.6767\n",
            "Epoch 27/500\n",
            "216/216 [==============================] - 9s 42ms/step - loss: 0.1307 - f1: 0.7387 - val_loss: 0.1664 - val_f1: 0.6767\n",
            "Epoch 28/500\n",
            "216/216 [==============================] - 9s 42ms/step - loss: 0.1305 - f1: 0.7388 - val_loss: 0.1664 - val_f1: 0.6767\n",
            "Epoch 29/500\n",
            "216/216 [==============================] - 9s 42ms/step - loss: 0.1304 - f1: 0.7389 - val_loss: 0.1664 - val_f1: 0.6767\n",
            "Epoch 30/500\n",
            "216/216 [==============================] - 9s 43ms/step - loss: 0.1303 - f1: 0.7388 - val_loss: 0.1663 - val_f1: 0.6767\n",
            "Epoch 31/500\n",
            "216/216 [==============================] - 9s 42ms/step - loss: 0.1302 - f1: 0.7391 - val_loss: 0.1663 - val_f1: 0.6767\n",
            "Epoch 32/500\n",
            "216/216 [==============================] - 9s 42ms/step - loss: 0.1300 - f1: 0.7391 - val_loss: 0.1663 - val_f1: 0.6781\n",
            "Epoch 33/500\n",
            "216/216 [==============================] - 9s 42ms/step - loss: 0.1299 - f1: 0.7395 - val_loss: 0.1663 - val_f1: 0.6781\n",
            "Epoch 34/500\n",
            "216/216 [==============================] - 9s 42ms/step - loss: 0.1298 - f1: 0.7398 - val_loss: 0.1663 - val_f1: 0.6781\n",
            "Epoch 35/500\n",
            "216/216 [==============================] - 9s 42ms/step - loss: 0.1297 - f1: 0.7401 - val_loss: 0.1662 - val_f1: 0.6781\n",
            "Epoch 36/500\n",
            "216/216 [==============================] - 9s 42ms/step - loss: 0.1295 - f1: 0.7401 - val_loss: 0.1662 - val_f1: 0.6781\n",
            "Epoch 37/500\n",
            "216/216 [==============================] - 9s 43ms/step - loss: 0.1294 - f1: 0.7411 - val_loss: 0.1662 - val_f1: 0.6767\n",
            "Epoch 38/500\n",
            "216/216 [==============================] - 9s 43ms/step - loss: 0.1293 - f1: 0.7417 - val_loss: 0.1662 - val_f1: 0.6767\n",
            "Epoch 39/500\n",
            "216/216 [==============================] - 9s 41ms/step - loss: 0.1292 - f1: 0.7418 - val_loss: 0.1661 - val_f1: 0.6767\n",
            "Epoch 40/500\n",
            "216/216 [==============================] - 9s 43ms/step - loss: 0.1291 - f1: 0.7424 - val_loss: 0.1661 - val_f1: 0.6767\n",
            "Epoch 41/500\n",
            "216/216 [==============================] - 9s 42ms/step - loss: 0.1289 - f1: 0.7423 - val_loss: 0.1661 - val_f1: 0.6767\n",
            "Epoch 42/500\n",
            "216/216 [==============================] - 9s 42ms/step - loss: 0.1288 - f1: 0.7426 - val_loss: 0.1661 - val_f1: 0.6767\n",
            "Epoch 43/500\n",
            "216/216 [==============================] - 9s 42ms/step - loss: 0.1287 - f1: 0.7426 - val_loss: 0.1661 - val_f1: 0.6767\n",
            "Epoch 44/500\n",
            "216/216 [==============================] - 9s 42ms/step - loss: 0.1286 - f1: 0.7426 - val_loss: 0.1660 - val_f1: 0.6767\n",
            "Epoch 45/500\n",
            "216/216 [==============================] - 9s 42ms/step - loss: 0.1284 - f1: 0.7429 - val_loss: 0.1660 - val_f1: 0.6767\n",
            "Epoch 46/500\n",
            "216/216 [==============================] - 9s 42ms/step - loss: 0.1284 - f1: 0.7430 - val_loss: 0.1660 - val_f1: 0.6781\n",
            "Epoch 47/500\n",
            "216/216 [==============================] - 9s 42ms/step - loss: 0.1282 - f1: 0.7430 - val_loss: 0.1660 - val_f1: 0.6781\n",
            "Epoch 48/500\n",
            "216/216 [==============================] - 9s 42ms/step - loss: 0.1280 - f1: 0.7433 - val_loss: 0.1660 - val_f1: 0.6781\n",
            "Epoch 49/500\n",
            "216/216 [==============================] - 9s 42ms/step - loss: 0.1279 - f1: 0.7433 - val_loss: 0.1659 - val_f1: 0.6781\n",
            "Epoch 50/500\n",
            "216/216 [==============================] - 9s 42ms/step - loss: 0.1278 - f1: 0.7432 - val_loss: 0.1659 - val_f1: 0.6781\n",
            "Epoch 51/500\n",
            "216/216 [==============================] - 9s 42ms/step - loss: 0.1277 - f1: 0.7430 - val_loss: 0.1659 - val_f1: 0.6781\n",
            "Epoch 52/500\n",
            "216/216 [==============================] - 9s 42ms/step - loss: 0.1275 - f1: 0.7433 - val_loss: 0.1659 - val_f1: 0.6781\n",
            "Epoch 53/500\n",
            "216/216 [==============================] - 9s 42ms/step - loss: 0.1274 - f1: 0.7436 - val_loss: 0.1659 - val_f1: 0.6781\n",
            "Epoch 54/500\n",
            "216/216 [==============================] - 9s 43ms/step - loss: 0.1273 - f1: 0.7439 - val_loss: 0.1658 - val_f1: 0.6781\n",
            "Epoch 55/500\n",
            "216/216 [==============================] - 9s 43ms/step - loss: 0.1272 - f1: 0.7443 - val_loss: 0.1658 - val_f1: 0.6781\n",
            "Epoch 56/500\n",
            "216/216 [==============================] - 9s 42ms/step - loss: 0.1271 - f1: 0.7445 - val_loss: 0.1658 - val_f1: 0.6781\n",
            "Epoch 57/500\n",
            "216/216 [==============================] - 9s 43ms/step - loss: 0.1269 - f1: 0.7446 - val_loss: 0.1658 - val_f1: 0.6781\n",
            "Epoch 58/500\n",
            "216/216 [==============================] - 9s 41ms/step - loss: 0.1268 - f1: 0.7446 - val_loss: 0.1658 - val_f1: 0.6781\n",
            "Epoch 59/500\n",
            "216/216 [==============================] - 9s 43ms/step - loss: 0.1267 - f1: 0.7446 - val_loss: 0.1657 - val_f1: 0.6781\n",
            "Epoch 60/500\n",
            "216/216 [==============================] - 9s 42ms/step - loss: 0.1266 - f1: 0.7449 - val_loss: 0.1657 - val_f1: 0.6781\n",
            "Epoch 61/500\n",
            "216/216 [==============================] - 9s 43ms/step - loss: 0.1264 - f1: 0.7452 - val_loss: 0.1657 - val_f1: 0.6781\n",
            "Epoch 62/500\n",
            "216/216 [==============================] - 9s 42ms/step - loss: 0.1264 - f1: 0.7452 - val_loss: 0.1657 - val_f1: 0.6781\n",
            "Epoch 63/500\n",
            "216/216 [==============================] - 9s 43ms/step - loss: 0.1263 - f1: 0.7453 - val_loss: 0.1656 - val_f1: 0.6781\n",
            "Epoch 64/500\n",
            "216/216 [==============================] - 9s 42ms/step - loss: 0.1261 - f1: 0.7456 - val_loss: 0.1656 - val_f1: 0.6781\n",
            "Epoch 65/500\n",
            "216/216 [==============================] - 9s 42ms/step - loss: 0.1260 - f1: 0.7458 - val_loss: 0.1656 - val_f1: 0.6781\n",
            "Epoch 66/500\n",
            "216/216 [==============================] - 9s 42ms/step - loss: 0.1259 - f1: 0.7458 - val_loss: 0.1656 - val_f1: 0.6781\n",
            "Epoch 67/500\n",
            "216/216 [==============================] - 9s 42ms/step - loss: 0.1257 - f1: 0.7459 - val_loss: 0.1656 - val_f1: 0.6781\n",
            "Epoch 68/500\n",
            "216/216 [==============================] - 9s 42ms/step - loss: 0.1256 - f1: 0.7459 - val_loss: 0.1656 - val_f1: 0.6781\n",
            "Epoch 69/500\n",
            "216/216 [==============================] - 9s 42ms/step - loss: 0.1255 - f1: 0.7462 - val_loss: 0.1655 - val_f1: 0.6781\n",
            "Epoch 70/500\n",
            "216/216 [==============================] - 9s 42ms/step - loss: 0.1254 - f1: 0.7465 - val_loss: 0.1655 - val_f1: 0.6781\n",
            "Epoch 71/500\n",
            "216/216 [==============================] - 9s 42ms/step - loss: 0.1253 - f1: 0.7469 - val_loss: 0.1655 - val_f1: 0.6781\n",
            "Epoch 72/500\n",
            "216/216 [==============================] - 9s 42ms/step - loss: 0.1252 - f1: 0.7476 - val_loss: 0.1655 - val_f1: 0.6781\n",
            "Epoch 73/500\n",
            "216/216 [==============================] - 9s 42ms/step - loss: 0.1250 - f1: 0.7484 - val_loss: 0.1655 - val_f1: 0.6781\n",
            "Epoch 74/500\n",
            "216/216 [==============================] - 9s 43ms/step - loss: 0.1249 - f1: 0.7481 - val_loss: 0.1654 - val_f1: 0.6781\n",
            "Epoch 75/500\n",
            "216/216 [==============================] - 9s 42ms/step - loss: 0.1248 - f1: 0.7484 - val_loss: 0.1654 - val_f1: 0.6781\n",
            "Epoch 76/500\n",
            "216/216 [==============================] - 9s 42ms/step - loss: 0.1247 - f1: 0.7485 - val_loss: 0.1654 - val_f1: 0.6781\n",
            "Epoch 77/500\n",
            "216/216 [==============================] - 9s 42ms/step - loss: 0.1245 - f1: 0.7488 - val_loss: 0.1654 - val_f1: 0.6781\n",
            "Epoch 78/500\n",
            "216/216 [==============================] - 9s 43ms/step - loss: 0.1245 - f1: 0.7489 - val_loss: 0.1654 - val_f1: 0.6767\n",
            "Epoch 79/500\n",
            "216/216 [==============================] - 9s 41ms/step - loss: 0.1244 - f1: 0.7495 - val_loss: 0.1653 - val_f1: 0.6767\n",
            "Epoch 80/500\n",
            "216/216 [==============================] - 9s 43ms/step - loss: 0.1242 - f1: 0.7495 - val_loss: 0.1653 - val_f1: 0.6767\n",
            "Epoch 81/500\n",
            "216/216 [==============================] - 9s 43ms/step - loss: 0.1242 - f1: 0.7497 - val_loss: 0.1653 - val_f1: 0.6781\n",
            "Epoch 82/500\n",
            "216/216 [==============================] - 9s 43ms/step - loss: 0.1240 - f1: 0.7497 - val_loss: 0.1653 - val_f1: 0.6781\n",
            "Epoch 83/500\n",
            "216/216 [==============================] - 9s 42ms/step - loss: 0.1239 - f1: 0.7500 - val_loss: 0.1653 - val_f1: 0.6781\n",
            "Epoch 84/500\n",
            "216/216 [==============================] - 9s 42ms/step - loss: 0.1238 - f1: 0.7498 - val_loss: 0.1653 - val_f1: 0.6781\n",
            "Epoch 85/500\n",
            "216/216 [==============================] - 9s 42ms/step - loss: 0.1237 - f1: 0.7505 - val_loss: 0.1652 - val_f1: 0.6781\n",
            "Epoch 86/500\n",
            "216/216 [==============================] - 9s 42ms/step - loss: 0.1235 - f1: 0.7510 - val_loss: 0.1652 - val_f1: 0.6781\n",
            "Epoch 87/500\n",
            "216/216 [==============================] - 9s 42ms/step - loss: 0.1235 - f1: 0.7511 - val_loss: 0.1652 - val_f1: 0.6781\n",
            "Epoch 88/500\n",
            "216/216 [==============================] - 9s 43ms/step - loss: 0.1233 - f1: 0.7514 - val_loss: 0.1652 - val_f1: 0.6781\n",
            "Epoch 89/500\n",
            "216/216 [==============================] - 9s 42ms/step - loss: 0.1232 - f1: 0.7517 - val_loss: 0.1652 - val_f1: 0.6794\n",
            "Epoch 90/500\n",
            "216/216 [==============================] - 9s 42ms/step - loss: 0.1232 - f1: 0.7518 - val_loss: 0.1652 - val_f1: 0.6807\n",
            "Epoch 91/500\n",
            "216/216 [==============================] - 9s 43ms/step - loss: 0.1230 - f1: 0.7520 - val_loss: 0.1651 - val_f1: 0.6807\n",
            "Epoch 92/500\n",
            "216/216 [==============================] - 9s 42ms/step - loss: 0.1229 - f1: 0.7524 - val_loss: 0.1651 - val_f1: 0.6807\n",
            "Epoch 93/500\n",
            "216/216 [==============================] - 9s 42ms/step - loss: 0.1228 - f1: 0.7526 - val_loss: 0.1651 - val_f1: 0.6807\n",
            "Epoch 94/500\n",
            "216/216 [==============================] - 9s 42ms/step - loss: 0.1227 - f1: 0.7532 - val_loss: 0.1651 - val_f1: 0.6807\n",
            "Epoch 95/500\n",
            "216/216 [==============================] - 9s 43ms/step - loss: 0.1225 - f1: 0.7533 - val_loss: 0.1651 - val_f1: 0.6807\n",
            "Epoch 96/500\n",
            "216/216 [==============================] - 9s 42ms/step - loss: 0.1224 - f1: 0.7540 - val_loss: 0.1651 - val_f1: 0.6807\n",
            "Epoch 97/500\n",
            "216/216 [==============================] - 9s 43ms/step - loss: 0.1223 - f1: 0.7542 - val_loss: 0.1651 - val_f1: 0.6807\n",
            "Epoch 98/500\n",
            "216/216 [==============================] - 9s 42ms/step - loss: 0.1222 - f1: 0.7545 - val_loss: 0.1650 - val_f1: 0.6807\n",
            "Epoch 99/500\n",
            "216/216 [==============================] - 9s 42ms/step - loss: 0.1221 - f1: 0.7546 - val_loss: 0.1650 - val_f1: 0.6807\n",
            "Epoch 100/500\n",
            "216/216 [==============================] - 9s 42ms/step - loss: 0.1220 - f1: 0.7547 - val_loss: 0.1650 - val_f1: 0.6807\n",
            "Epoch 101/500\n",
            "216/216 [==============================] - 9s 43ms/step - loss: 0.1219 - f1: 0.7552 - val_loss: 0.1650 - val_f1: 0.6807\n",
            "Epoch 102/500\n",
            "216/216 [==============================] - 9s 43ms/step - loss: 0.1217 - f1: 0.7556 - val_loss: 0.1650 - val_f1: 0.6807\n",
            "Epoch 103/500\n",
            "216/216 [==============================] - 9s 43ms/step - loss: 0.1216 - f1: 0.7556 - val_loss: 0.1650 - val_f1: 0.6807\n",
            "Epoch 104/500\n",
            "216/216 [==============================] - 9s 42ms/step - loss: 0.1216 - f1: 0.7562 - val_loss: 0.1649 - val_f1: 0.6807\n",
            "Epoch 105/500\n",
            "216/216 [==============================] - 9s 42ms/step - loss: 0.1214 - f1: 0.7563 - val_loss: 0.1649 - val_f1: 0.6807\n",
            "Epoch 106/500\n",
            "216/216 [==============================] - 9s 42ms/step - loss: 0.1213 - f1: 0.7563 - val_loss: 0.1649 - val_f1: 0.6807\n",
            "Epoch 107/500\n",
            "216/216 [==============================] - 9s 42ms/step - loss: 0.1212 - f1: 0.7566 - val_loss: 0.1649 - val_f1: 0.6820\n",
            "Epoch 108/500\n",
            "216/216 [==============================] - 9s 42ms/step - loss: 0.1210 - f1: 0.7574 - val_loss: 0.1649 - val_f1: 0.6820\n",
            "Epoch 109/500\n",
            "216/216 [==============================] - 9s 42ms/step - loss: 0.1210 - f1: 0.7574 - val_loss: 0.1649 - val_f1: 0.6820\n",
            "Epoch 110/500\n",
            "216/216 [==============================] - 9s 42ms/step - loss: 0.1209 - f1: 0.7575 - val_loss: 0.1649 - val_f1: 0.6820\n",
            "Epoch 111/500\n",
            "216/216 [==============================] - 9s 42ms/step - loss: 0.1207 - f1: 0.7575 - val_loss: 0.1648 - val_f1: 0.6820\n",
            "Epoch 112/500\n",
            "216/216 [==============================] - 9s 42ms/step - loss: 0.1207 - f1: 0.7581 - val_loss: 0.1648 - val_f1: 0.6820\n",
            "Epoch 113/500\n",
            "216/216 [==============================] - 9s 42ms/step - loss: 0.1206 - f1: 0.7582 - val_loss: 0.1648 - val_f1: 0.6820\n",
            "Epoch 114/500\n",
            "216/216 [==============================] - 9s 42ms/step - loss: 0.1205 - f1: 0.7585 - val_loss: 0.1648 - val_f1: 0.6820\n",
            "Epoch 115/500\n",
            "216/216 [==============================] - 9s 43ms/step - loss: 0.1203 - f1: 0.7587 - val_loss: 0.1648 - val_f1: 0.6820\n",
            "Epoch 116/500\n",
            "216/216 [==============================] - 9s 42ms/step - loss: 0.1203 - f1: 0.7587 - val_loss: 0.1648 - val_f1: 0.6820\n",
            "Epoch 117/500\n",
            "216/216 [==============================] - 9s 42ms/step - loss: 0.1201 - f1: 0.7590 - val_loss: 0.1648 - val_f1: 0.6820\n",
            "Epoch 118/500\n",
            "216/216 [==============================] - 9s 42ms/step - loss: 0.1201 - f1: 0.7597 - val_loss: 0.1648 - val_f1: 0.6820\n",
            "Epoch 119/500\n",
            "216/216 [==============================] - 9s 42ms/step - loss: 0.1199 - f1: 0.7594 - val_loss: 0.1647 - val_f1: 0.6820\n",
            "Epoch 120/500\n",
            "216/216 [==============================] - 9s 42ms/step - loss: 0.1198 - f1: 0.7595 - val_loss: 0.1647 - val_f1: 0.6820\n",
            "Epoch 121/500\n",
            "216/216 [==============================] - 9s 43ms/step - loss: 0.1197 - f1: 0.7598 - val_loss: 0.1647 - val_f1: 0.6820\n",
            "Epoch 122/500\n",
            "216/216 [==============================] - 9s 43ms/step - loss: 0.1195 - f1: 0.7600 - val_loss: 0.1647 - val_f1: 0.6820\n",
            "Epoch 123/500\n",
            "216/216 [==============================] - 9s 42ms/step - loss: 0.1195 - f1: 0.7604 - val_loss: 0.1647 - val_f1: 0.6820\n",
            "Epoch 124/500\n",
            "216/216 [==============================] - 9s 42ms/step - loss: 0.1194 - f1: 0.7605 - val_loss: 0.1647 - val_f1: 0.6820\n",
            "Epoch 125/500\n",
            "216/216 [==============================] - 9s 42ms/step - loss: 0.1192 - f1: 0.7607 - val_loss: 0.1647 - val_f1: 0.6820\n",
            "Epoch 126/500\n",
            "216/216 [==============================] - 9s 42ms/step - loss: 0.1192 - f1: 0.7611 - val_loss: 0.1647 - val_f1: 0.6820\n",
            "Epoch 127/500\n",
            "216/216 [==============================] - 9s 43ms/step - loss: 0.1190 - f1: 0.7611 - val_loss: 0.1647 - val_f1: 0.6820\n",
            "Epoch 128/500\n",
            "216/216 [==============================] - 9s 42ms/step - loss: 0.1189 - f1: 0.7611 - val_loss: 0.1646 - val_f1: 0.6820\n",
            "Epoch 129/500\n",
            "216/216 [==============================] - 9s 42ms/step - loss: 0.1188 - f1: 0.7613 - val_loss: 0.1646 - val_f1: 0.6820\n",
            "Epoch 130/500\n",
            "216/216 [==============================] - 9s 42ms/step - loss: 0.1187 - f1: 0.7617 - val_loss: 0.1646 - val_f1: 0.6820\n",
            "Epoch 131/500\n",
            "216/216 [==============================] - 9s 42ms/step - loss: 0.1186 - f1: 0.7618 - val_loss: 0.1646 - val_f1: 0.6820\n",
            "Epoch 132/500\n",
            "216/216 [==============================] - 9s 42ms/step - loss: 0.1185 - f1: 0.7624 - val_loss: 0.1646 - val_f1: 0.6820\n",
            "Epoch 133/500\n",
            "216/216 [==============================] - 9s 42ms/step - loss: 0.1184 - f1: 0.7623 - val_loss: 0.1646 - val_f1: 0.6820\n",
            "Epoch 134/500\n",
            "216/216 [==============================] - 9s 42ms/step - loss: 0.1183 - f1: 0.7624 - val_loss: 0.1646 - val_f1: 0.6820\n",
            "Epoch 135/500\n",
            "216/216 [==============================] - 9s 43ms/step - loss: 0.1182 - f1: 0.7624 - val_loss: 0.1646 - val_f1: 0.6820\n",
            "Epoch 136/500\n",
            "216/216 [==============================] - 9s 43ms/step - loss: 0.1181 - f1: 0.7626 - val_loss: 0.1645 - val_f1: 0.6820\n",
            "Epoch 137/500\n",
            "216/216 [==============================] - 9s 43ms/step - loss: 0.1179 - f1: 0.7627 - val_loss: 0.1645 - val_f1: 0.6820\n",
            "Epoch 138/500\n",
            "216/216 [==============================] - 9s 42ms/step - loss: 0.1178 - f1: 0.7629 - val_loss: 0.1645 - val_f1: 0.6820\n",
            "Epoch 139/500\n",
            "216/216 [==============================] - 9s 42ms/step - loss: 0.1178 - f1: 0.7629 - val_loss: 0.1645 - val_f1: 0.6820\n",
            "Epoch 140/500\n",
            "216/216 [==============================] - 9s 43ms/step - loss: 0.1176 - f1: 0.7633 - val_loss: 0.1645 - val_f1: 0.6820\n",
            "Epoch 141/500\n",
            "216/216 [==============================] - 9s 42ms/step - loss: 0.1176 - f1: 0.7636 - val_loss: 0.1645 - val_f1: 0.6820\n",
            "Epoch 142/500\n",
            "216/216 [==============================] - 9s 43ms/step - loss: 0.1175 - f1: 0.7639 - val_loss: 0.1645 - val_f1: 0.6833\n",
            "Epoch 143/500\n",
            "216/216 [==============================] - 9s 42ms/step - loss: 0.1174 - f1: 0.7640 - val_loss: 0.1645 - val_f1: 0.6833\n",
            "Epoch 144/500\n",
            "216/216 [==============================] - 9s 43ms/step - loss: 0.1173 - f1: 0.7646 - val_loss: 0.1645 - val_f1: 0.6833\n",
            "Epoch 145/500\n",
            "216/216 [==============================] - 9s 42ms/step - loss: 0.1172 - f1: 0.7647 - val_loss: 0.1644 - val_f1: 0.6833\n",
            "Epoch 146/500\n",
            "216/216 [==============================] - 9s 43ms/step - loss: 0.1170 - f1: 0.7647 - val_loss: 0.1644 - val_f1: 0.6833\n",
            "Epoch 147/500\n",
            "216/216 [==============================] - 9s 42ms/step - loss: 0.1170 - f1: 0.7652 - val_loss: 0.1644 - val_f1: 0.6833\n",
            "Epoch 148/500\n",
            "216/216 [==============================] - 9s 43ms/step - loss: 0.1168 - f1: 0.7653 - val_loss: 0.1644 - val_f1: 0.6833\n",
            "Epoch 149/500\n",
            "216/216 [==============================] - 9s 43ms/step - loss: 0.1167 - f1: 0.7655 - val_loss: 0.1644 - val_f1: 0.6833\n",
            "Epoch 150/500\n",
            "216/216 [==============================] - 9s 42ms/step - loss: 0.1166 - f1: 0.7658 - val_loss: 0.1644 - val_f1: 0.6833\n",
            "Epoch 151/500\n",
            "216/216 [==============================] - 9s 42ms/step - loss: 0.1165 - f1: 0.7659 - val_loss: 0.1644 - val_f1: 0.6833\n",
            "Epoch 152/500\n",
            "216/216 [==============================] - 9s 42ms/step - loss: 0.1164 - f1: 0.7663 - val_loss: 0.1644 - val_f1: 0.6833\n",
            "Epoch 153/500\n",
            "216/216 [==============================] - 9s 42ms/step - loss: 0.1163 - f1: 0.7665 - val_loss: 0.1644 - val_f1: 0.6833\n",
            "Epoch 154/500\n",
            "216/216 [==============================] - 9s 42ms/step - loss: 0.1162 - f1: 0.7668 - val_loss: 0.1644 - val_f1: 0.6833\n",
            "Epoch 155/500\n",
            "216/216 [==============================] - 9s 43ms/step - loss: 0.1160 - f1: 0.7669 - val_loss: 0.1644 - val_f1: 0.6833\n",
            "Epoch 156/500\n",
            "216/216 [==============================] - 9s 43ms/step - loss: 0.1160 - f1: 0.7671 - val_loss: 0.1643 - val_f1: 0.6833\n",
            "Epoch 157/500\n",
            "216/216 [==============================] - 9s 42ms/step - loss: 0.1159 - f1: 0.7672 - val_loss: 0.1643 - val_f1: 0.6833\n",
            "Epoch 158/500\n",
            "216/216 [==============================] - 9s 42ms/step - loss: 0.1158 - f1: 0.7674 - val_loss: 0.1643 - val_f1: 0.6833\n",
            "Epoch 159/500\n",
            "216/216 [==============================] - 9s 42ms/step - loss: 0.1157 - f1: 0.7679 - val_loss: 0.1643 - val_f1: 0.6833\n",
            "Epoch 160/500\n",
            "216/216 [==============================] - 9s 42ms/step - loss: 0.1156 - f1: 0.7681 - val_loss: 0.1643 - val_f1: 0.6833\n",
            "Epoch 161/500\n",
            "216/216 [==============================] - 9s 42ms/step - loss: 0.1155 - f1: 0.7685 - val_loss: 0.1643 - val_f1: 0.6833\n",
            "Epoch 162/500\n",
            "216/216 [==============================] - 9s 42ms/step - loss: 0.1154 - f1: 0.7690 - val_loss: 0.1643 - val_f1: 0.6833\n",
            "Epoch 163/500\n",
            "216/216 [==============================] - 9s 42ms/step - loss: 0.1153 - f1: 0.7690 - val_loss: 0.1643 - val_f1: 0.6833\n",
            "Epoch 164/500\n",
            "216/216 [==============================] - 9s 42ms/step - loss: 0.1152 - f1: 0.7690 - val_loss: 0.1643 - val_f1: 0.6833\n",
            "Epoch 165/500\n",
            "216/216 [==============================] - 9s 43ms/step - loss: 0.1150 - f1: 0.7691 - val_loss: 0.1643 - val_f1: 0.6833\n",
            "Epoch 166/500\n",
            "216/216 [==============================] - 9s 42ms/step - loss: 0.1150 - f1: 0.7694 - val_loss: 0.1643 - val_f1: 0.6833\n",
            "Epoch 167/500\n",
            "216/216 [==============================] - 9s 42ms/step - loss: 0.1149 - f1: 0.7694 - val_loss: 0.1642 - val_f1: 0.6833\n",
            "Epoch 168/500\n",
            "216/216 [==============================] - 9s 42ms/step - loss: 0.1148 - f1: 0.7695 - val_loss: 0.1642 - val_f1: 0.6833\n",
            "Epoch 169/500\n",
            "216/216 [==============================] - 9s 42ms/step - loss: 0.1147 - f1: 0.7700 - val_loss: 0.1642 - val_f1: 0.6833\n",
            "Epoch 170/500\n",
            "216/216 [==============================] - 9s 42ms/step - loss: 0.1145 - f1: 0.7700 - val_loss: 0.1642 - val_f1: 0.6833\n",
            "Epoch 171/500\n",
            "216/216 [==============================] - 9s 42ms/step - loss: 0.1144 - f1: 0.7700 - val_loss: 0.1642 - val_f1: 0.6833\n",
            "Epoch 172/500\n",
            "216/216 [==============================] - 9s 43ms/step - loss: 0.1144 - f1: 0.7700 - val_loss: 0.1642 - val_f1: 0.6833\n",
            "Epoch 173/500\n",
            "216/216 [==============================] - 9s 43ms/step - loss: 0.1143 - f1: 0.7704 - val_loss: 0.1642 - val_f1: 0.6833\n",
            "Epoch 174/500\n",
            "216/216 [==============================] - 9s 42ms/step - loss: 0.1142 - f1: 0.7707 - val_loss: 0.1642 - val_f1: 0.6833\n",
            "Epoch 175/500\n",
            "216/216 [==============================] - 9s 42ms/step - loss: 0.1141 - f1: 0.7711 - val_loss: 0.1642 - val_f1: 0.6833\n",
            "Epoch 176/500\n",
            "216/216 [==============================] - 9s 42ms/step - loss: 0.1140 - f1: 0.7714 - val_loss: 0.1642 - val_f1: 0.6833\n",
            "Epoch 177/500\n",
            "216/216 [==============================] - 9s 42ms/step - loss: 0.1139 - f1: 0.7716 - val_loss: 0.1642 - val_f1: 0.6833\n",
            "Epoch 178/500\n",
            "216/216 [==============================] - 9s 43ms/step - loss: 0.1138 - f1: 0.7720 - val_loss: 0.1642 - val_f1: 0.6820\n",
            "Epoch 179/500\n",
            "216/216 [==============================] - 9s 43ms/step - loss: 0.1137 - f1: 0.7723 - val_loss: 0.1642 - val_f1: 0.6820\n",
            "Epoch 180/500\n",
            "216/216 [==============================] - 9s 43ms/step - loss: 0.1136 - f1: 0.7727 - val_loss: 0.1641 - val_f1: 0.6820\n",
            "Epoch 181/500\n",
            "216/216 [==============================] - 9s 42ms/step - loss: 0.1134 - f1: 0.7729 - val_loss: 0.1641 - val_f1: 0.6820\n",
            "Epoch 182/500\n",
            "216/216 [==============================] - 9s 43ms/step - loss: 0.1134 - f1: 0.7730 - val_loss: 0.1641 - val_f1: 0.6820\n",
            "Epoch 183/500\n",
            "216/216 [==============================] - 9s 43ms/step - loss: 0.1133 - f1: 0.7732 - val_loss: 0.1641 - val_f1: 0.6820\n",
            "Epoch 184/500\n",
            "216/216 [==============================] - 9s 42ms/step - loss: 0.1132 - f1: 0.7730 - val_loss: 0.1641 - val_f1: 0.6820\n",
            "Epoch 185/500\n",
            "216/216 [==============================] - 9s 42ms/step - loss: 0.1131 - f1: 0.7730 - val_loss: 0.1641 - val_f1: 0.6820\n",
            "Epoch 186/500\n",
            "216/216 [==============================] - 9s 42ms/step - loss: 0.1130 - f1: 0.7733 - val_loss: 0.1641 - val_f1: 0.6820\n",
            "Epoch 187/500\n",
            "216/216 [==============================] - 9s 42ms/step - loss: 0.1129 - f1: 0.7739 - val_loss: 0.1641 - val_f1: 0.6820\n",
            "Epoch 188/500\n",
            "216/216 [==============================] - 8s 35ms/step - loss: 0.1128 - f1: 0.7743 - val_loss: 0.1641 - val_f1: 0.6820\n",
            "Epoch 189/500\n",
            "216/216 [==============================] - 9s 42ms/step - loss: 0.1127 - f1: 0.7750 - val_loss: 0.1641 - val_f1: 0.6820\n",
            "Epoch 190/500\n",
            "216/216 [==============================] - 9s 42ms/step - loss: 0.1126 - f1: 0.7752 - val_loss: 0.1641 - val_f1: 0.6820\n",
            "Epoch 191/500\n",
            "216/216 [==============================] - 9s 42ms/step - loss: 0.1125 - f1: 0.7755 - val_loss: 0.1641 - val_f1: 0.6820\n",
            "Epoch 192/500\n",
            "216/216 [==============================] - 9s 42ms/step - loss: 0.1125 - f1: 0.7756 - val_loss: 0.1641 - val_f1: 0.6820\n",
            "Epoch 193/500\n",
            "216/216 [==============================] - 9s 42ms/step - loss: 0.1123 - f1: 0.7758 - val_loss: 0.1641 - val_f1: 0.6820\n",
            "Epoch 194/500\n",
            "216/216 [==============================] - 9s 42ms/step - loss: 0.1122 - f1: 0.7758 - val_loss: 0.1641 - val_f1: 0.6820\n",
            "Epoch 195/500\n",
            "216/216 [==============================] - 9s 42ms/step - loss: 0.1121 - f1: 0.7762 - val_loss: 0.1641 - val_f1: 0.6820\n",
            "Epoch 196/500\n",
            "216/216 [==============================] - 9s 42ms/step - loss: 0.1121 - f1: 0.7763 - val_loss: 0.1640 - val_f1: 0.6820\n",
            "Epoch 197/500\n",
            "216/216 [==============================] - 9s 43ms/step - loss: 0.1119 - f1: 0.7765 - val_loss: 0.1640 - val_f1: 0.6820\n",
            "Epoch 198/500\n",
            "216/216 [==============================] - 9s 43ms/step - loss: 0.1119 - f1: 0.7772 - val_loss: 0.1640 - val_f1: 0.6820\n",
            "Epoch 199/500\n",
            "216/216 [==============================] - 9s 42ms/step - loss: 0.1116 - f1: 0.7774 - val_loss: 0.1640 - val_f1: 0.6820\n",
            "Epoch 200/500\n",
            "216/216 [==============================] - 9s 42ms/step - loss: 0.1117 - f1: 0.7774 - val_loss: 0.1640 - val_f1: 0.6820\n",
            "Epoch 201/500\n",
            "216/216 [==============================] - 9s 43ms/step - loss: 0.1115 - f1: 0.7779 - val_loss: 0.1640 - val_f1: 0.6820\n",
            "Epoch 202/500\n",
            "216/216 [==============================] - 9s 42ms/step - loss: 0.1115 - f1: 0.7781 - val_loss: 0.1640 - val_f1: 0.6807\n",
            "Epoch 203/500\n",
            "216/216 [==============================] - 9s 43ms/step - loss: 0.1113 - f1: 0.7782 - val_loss: 0.1640 - val_f1: 0.6820\n",
            "Epoch 204/500\n",
            "216/216 [==============================] - 9s 43ms/step - loss: 0.1113 - f1: 0.7782 - val_loss: 0.1640 - val_f1: 0.6820\n",
            "Epoch 205/500\n",
            "216/216 [==============================] - 9s 42ms/step - loss: 0.1112 - f1: 0.7784 - val_loss: 0.1640 - val_f1: 0.6820\n",
            "Epoch 206/500\n",
            "216/216 [==============================] - 8s 36ms/step - loss: 0.1111 - f1: 0.7787 - val_loss: 0.1640 - val_f1: 0.6820\n",
            "Epoch 207/500\n",
            "216/216 [==============================] - 8s 35ms/step - loss: 0.1110 - f1: 0.7785 - val_loss: 0.1640 - val_f1: 0.6820\n",
            "Epoch 208/500\n",
            "216/216 [==============================] - 9s 42ms/step - loss: 0.1109 - f1: 0.7788 - val_loss: 0.1640 - val_f1: 0.6820\n",
            "Epoch 209/500\n",
            "216/216 [==============================] - 9s 42ms/step - loss: 0.1108 - f1: 0.7790 - val_loss: 0.1640 - val_f1: 0.6820\n",
            "Epoch 210/500\n",
            "216/216 [==============================] - 9s 42ms/step - loss: 0.1107 - f1: 0.7790 - val_loss: 0.1640 - val_f1: 0.6820\n",
            "Epoch 211/500\n",
            "216/216 [==============================] - 9s 42ms/step - loss: 0.1106 - f1: 0.7790 - val_loss: 0.1640 - val_f1: 0.6820\n",
            "Epoch 212/500\n",
            "216/216 [==============================] - 9s 42ms/step - loss: 0.1105 - f1: 0.7790 - val_loss: 0.1640 - val_f1: 0.6820\n",
            "Epoch 213/500\n",
            "216/216 [==============================] - 8s 36ms/step - loss: 0.1103 - f1: 0.7791 - val_loss: 0.1640 - val_f1: 0.6807\n",
            "Epoch 214/500\n",
            "216/216 [==============================] - 9s 42ms/step - loss: 0.1102 - f1: 0.7792 - val_loss: 0.1640 - val_f1: 0.6807\n",
            "Epoch 215/500\n",
            "216/216 [==============================] - 9s 42ms/step - loss: 0.1102 - f1: 0.7794 - val_loss: 0.1640 - val_f1: 0.6807\n",
            "Epoch 216/500\n",
            "216/216 [==============================] - 9s 42ms/step - loss: 0.1102 - f1: 0.7794 - val_loss: 0.1640 - val_f1: 0.6807\n",
            "Epoch 217/500\n",
            "216/216 [==============================] - 8s 36ms/step - loss: 0.1100 - f1: 0.7794 - val_loss: 0.1640 - val_f1: 0.6807\n",
            "Epoch 218/500\n",
            "216/216 [==============================] - 9s 42ms/step - loss: 0.1099 - f1: 0.7797 - val_loss: 0.1640 - val_f1: 0.6807\n",
            "Epoch 219/500\n",
            "216/216 [==============================] - 9s 43ms/step - loss: 0.1098 - f1: 0.7798 - val_loss: 0.1640 - val_f1: 0.6807\n",
            "Epoch 220/500\n",
            "216/216 [==============================] - 9s 42ms/step - loss: 0.1098 - f1: 0.7801 - val_loss: 0.1640 - val_f1: 0.6807\n",
            "Epoch 221/500\n",
            "216/216 [==============================] - 9s 41ms/step - loss: 0.1096 - f1: 0.7801 - val_loss: 0.1640 - val_f1: 0.6820\n",
            "Epoch 222/500\n",
            "216/216 [==============================] - 9s 42ms/step - loss: 0.1096 - f1: 0.7804 - val_loss: 0.1639 - val_f1: 0.6820\n",
            "Epoch 223/500\n",
            "216/216 [==============================] - 9s 42ms/step - loss: 0.1095 - f1: 0.7804 - val_loss: 0.1639 - val_f1: 0.6820\n",
            "Epoch 224/500\n",
            "216/216 [==============================] - 9s 42ms/step - loss: 0.1093 - f1: 0.7804 - val_loss: 0.1639 - val_f1: 0.6820\n",
            "Epoch 225/500\n",
            "216/216 [==============================] - 8s 36ms/step - loss: 0.1093 - f1: 0.7807 - val_loss: 0.1639 - val_f1: 0.6820\n",
            "Epoch 226/500\n",
            "216/216 [==============================] - 9s 43ms/step - loss: 0.1092 - f1: 0.7808 - val_loss: 0.1639 - val_f1: 0.6820\n",
            "Epoch 227/500\n",
            "216/216 [==============================] - 8s 35ms/step - loss: 0.1091 - f1: 0.7808 - val_loss: 0.1639 - val_f1: 0.6820\n",
            "Epoch 228/500\n",
            "216/216 [==============================] - 9s 42ms/step - loss: 0.1090 - f1: 0.7810 - val_loss: 0.1639 - val_f1: 0.6807\n",
            "Epoch 229/500\n",
            "216/216 [==============================] - 8s 35ms/step - loss: 0.1089 - f1: 0.7813 - val_loss: 0.1639 - val_f1: 0.6807\n",
            "Epoch 230/500\n",
            "216/216 [==============================] - 9s 42ms/step - loss: 0.1088 - f1: 0.7816 - val_loss: 0.1639 - val_f1: 0.6807\n",
            "Epoch 231/500\n",
            "216/216 [==============================] - 8s 36ms/step - loss: 0.1087 - f1: 0.7817 - val_loss: 0.1639 - val_f1: 0.6807\n",
            "Epoch 232/500\n",
            "216/216 [==============================] - 8s 35ms/step - loss: 0.1087 - f1: 0.7820 - val_loss: 0.1639 - val_f1: 0.6820\n",
            "Epoch 233/500\n",
            "216/216 [==============================] - 8s 35ms/step - loss: 0.1085 - f1: 0.7823 - val_loss: 0.1639 - val_f1: 0.6820\n",
            "Epoch 234/500\n",
            "216/216 [==============================] - 9s 42ms/step - loss: 0.1084 - f1: 0.7827 - val_loss: 0.1639 - val_f1: 0.6820\n",
            "Epoch 235/500\n",
            "216/216 [==============================] - 9s 42ms/step - loss: 0.1083 - f1: 0.7836 - val_loss: 0.1639 - val_f1: 0.6820\n",
            "Epoch 236/500\n",
            "216/216 [==============================] - 8s 35ms/step - loss: 0.1083 - f1: 0.7836 - val_loss: 0.1639 - val_f1: 0.6820\n",
            "Epoch 237/500\n",
            "216/216 [==============================] - 8s 36ms/step - loss: 0.1082 - f1: 0.7839 - val_loss: 0.1639 - val_f1: 0.6820\n",
            "Epoch 238/500\n",
            "216/216 [==============================] - 9s 42ms/step - loss: 0.1081 - f1: 0.7842 - val_loss: 0.1639 - val_f1: 0.6820\n",
            "Epoch 239/500\n",
            "216/216 [==============================] - 9s 43ms/step - loss: 0.1080 - f1: 0.7846 - val_loss: 0.1639 - val_f1: 0.6820\n",
            "Epoch 240/500\n",
            "216/216 [==============================] - 8s 35ms/step - loss: 0.1079 - f1: 0.7848 - val_loss: 0.1639 - val_f1: 0.6820\n",
            "Epoch 241/500\n",
            "216/216 [==============================] - 8s 36ms/step - loss: 0.1078 - f1: 0.7848 - val_loss: 0.1639 - val_f1: 0.6833\n",
            "Epoch 242/500\n",
            "216/216 [==============================] - 9s 42ms/step - loss: 0.1078 - f1: 0.7850 - val_loss: 0.1639 - val_f1: 0.6833\n",
            "Epoch 243/500\n",
            "216/216 [==============================] - 8s 35ms/step - loss: 0.1076 - f1: 0.7852 - val_loss: 0.1639 - val_f1: 0.6846\n",
            "Epoch 244/500\n",
            "216/216 [==============================] - 8s 35ms/step - loss: 0.1075 - f1: 0.7852 - val_loss: 0.1639 - val_f1: 0.6846\n",
            "Epoch 245/500\n",
            "216/216 [==============================] - 8s 35ms/step - loss: 0.1074 - f1: 0.7853 - val_loss: 0.1639 - val_f1: 0.6846\n",
            "Epoch 246/500\n",
            "216/216 [==============================] - 8s 35ms/step - loss: 0.1074 - f1: 0.7856 - val_loss: 0.1639 - val_f1: 0.6846\n",
            "Epoch 247/500\n",
            "216/216 [==============================] - 8s 35ms/step - loss: 0.1073 - f1: 0.7859 - val_loss: 0.1639 - val_f1: 0.6846\n",
            "Epoch 248/500\n",
            "216/216 [==============================] - 8s 35ms/step - loss: 0.1072 - f1: 0.7861 - val_loss: 0.1639 - val_f1: 0.6846\n",
            "Epoch 249/500\n",
            "216/216 [==============================] - 8s 35ms/step - loss: 0.1071 - f1: 0.7865 - val_loss: 0.1639 - val_f1: 0.6846\n",
            "Epoch 250/500\n",
            "216/216 [==============================] - 8s 35ms/step - loss: 0.1070 - f1: 0.7865 - val_loss: 0.1639 - val_f1: 0.6833\n",
            "Epoch 251/500\n",
            "216/216 [==============================] - 8s 36ms/step - loss: 0.1069 - f1: 0.7868 - val_loss: 0.1639 - val_f1: 0.6833\n",
            "Epoch 252/500\n",
            "216/216 [==============================] - 8s 35ms/step - loss: 0.1068 - f1: 0.7872 - val_loss: 0.1639 - val_f1: 0.6846\n",
            "Epoch 253/500\n",
            "216/216 [==============================] - 8s 35ms/step - loss: 0.1067 - f1: 0.7877 - val_loss: 0.1639 - val_f1: 0.6846\n",
            "Epoch 254/500\n",
            "216/216 [==============================] - 8s 35ms/step - loss: 0.1066 - f1: 0.7879 - val_loss: 0.1639 - val_f1: 0.6859\n",
            "Epoch 255/500\n",
            "216/216 [==============================] - 8s 35ms/step - loss: 0.1066 - f1: 0.7879 - val_loss: 0.1639 - val_f1: 0.6859\n",
            "Epoch 256/500\n",
            "216/216 [==============================] - 8s 35ms/step - loss: 0.1064 - f1: 0.7884 - val_loss: 0.1639 - val_f1: 0.6873\n",
            "Epoch 257/500\n",
            "216/216 [==============================] - 8s 35ms/step - loss: 0.1064 - f1: 0.7882 - val_loss: 0.1639 - val_f1: 0.6886\n",
            "Epoch 258/500\n",
            "216/216 [==============================] - 8s 35ms/step - loss: 0.1063 - f1: 0.7884 - val_loss: 0.1639 - val_f1: 0.6886\n",
            "Epoch 259/500\n",
            "216/216 [==============================] - 8s 35ms/step - loss: 0.1062 - f1: 0.7887 - val_loss: 0.1639 - val_f1: 0.6886\n",
            "Epoch 260/500\n",
            "216/216 [==============================] - 8s 35ms/step - loss: 0.1061 - f1: 0.7890 - val_loss: 0.1639 - val_f1: 0.6886\n",
            "Epoch 261/500\n",
            "216/216 [==============================] - 8s 35ms/step - loss: 0.1060 - f1: 0.7895 - val_loss: 0.1639 - val_f1: 0.6886\n",
            "Epoch 262/500\n",
            "216/216 [==============================] - 8s 35ms/step - loss: 0.1059 - f1: 0.7898 - val_loss: 0.1639 - val_f1: 0.6899\n",
            "Epoch 00262: early stopping\n"
          ],
          "name": "stdout"
        }
      ]
    },
    {
      "cell_type": "code",
      "metadata": {
        "id": "LS_WGy5KImgH",
        "colab_type": "code",
        "colab": {
          "base_uri": "https://localhost:8080/",
          "height": 839
        },
        "outputId": "827a0b1d-7af6-46e0-e9b1-dca94ccfdf34"
      },
      "source": [
        "history = history.history\n",
        "\n",
        "fig, (ax1, ax2) = plt.subplots(2, 1, sharex='col', figsize=(20, 14))\n",
        "\n",
        "ax1.plot(history['loss'], label='Training')\n",
        "ax1.plot(history['val_loss'], label='Validation')\n",
        "ax1.legend(loc='best')\n",
        "ax1.set_title('Loss')\n",
        "\n",
        "ax2.plot(history['f1'], label='Training')\n",
        "ax2.plot(history['val_f1'], label='Validation')\n",
        "ax2.legend(loc='best')\n",
        "ax2.set_title('F1 Score')\n",
        "\n",
        "plt.xlabel('Epochs')\n",
        "sns.despine()\n",
        "plt.show()"
      ],
      "execution_count": null,
      "outputs": [
        {
          "output_type": "display_data",
          "data": {
            "image/png": "[encoded data removed]",
            "text/plain": [
              "<Figure size 1440x1008 with 2 Axes>"
            ]
          },
          "metadata": {
            "tags": [],
            "needs_background": "light"
          }
        }
      ]
    },
    {
      "cell_type": "code",
      "metadata": {
        "id": "MbdFdrgZIr5e",
        "colab_type": "code",
        "colab": {
          "base_uri": "https://localhost:8080/",
          "height": 51
        },
        "outputId": "411905e8-ac3a-4fad-f396-23e099cb1bba"
      },
      "source": [
        "model.load_weights(filepath)\n",
        "model.evaluate(x_test, y_test, verbose=1)"
      ],
      "execution_count": null,
      "outputs": [
        {
          "output_type": "stream",
          "text": [
            "58/58 [==============================] - 0s 5ms/step - loss: 0.1380 - f1: 0.7447\n"
          ],
          "name": "stdout"
        },
        {
          "output_type": "execute_result",
          "data": {
            "text/plain": [
              "[0.13796909153461456, 0.7446925044059753]"
            ]
          },
          "metadata": {
            "tags": []
          },
          "execution_count": 50
        }
      ]
    },
    {
      "cell_type": "code",
      "metadata": {
        "id": "rLf3zsHMI1u6",
        "colab_type": "code",
        "colab": {}
      },
      "source": [
        "y_pred = model.predict(x_test)\n",
        "y_pred = y_pred.argmax(axis=1)"
      ],
      "execution_count": null,
      "outputs": []
    },
    {
      "cell_type": "code",
      "metadata": {
        "id": "Ve75gHU6I2Om",
        "colab_type": "code",
        "colab": {
          "base_uri": "https://localhost:8080/",
          "height": 204
        },
        "outputId": "23dc9433-10c3-4614-af2a-09043977efb7"
      },
      "source": [
        "print(classification_report(y_true, y_pred, target_names=labelEncoder.classes_))"
      ],
      "execution_count": null,
      "outputs": [
        {
          "output_type": "stream",
          "text": [
            "              precision    recall  f1-score   support\n",
            "\n",
            "       anger       0.41      0.04      0.08       161\n",
            "         joy       0.65      0.44      0.53       304\n",
            "     neutral       0.76      0.95      0.84      1287\n",
            "     sadness       0.55      0.07      0.12        85\n",
            "\n",
            "    accuracy                           0.74      1837\n",
            "   macro avg       0.59      0.38      0.39      1837\n",
            "weighted avg       0.70      0.74      0.69      1837\n",
            "\n"
          ],
          "name": "stdout"
        }
      ]
    }
  ]
}