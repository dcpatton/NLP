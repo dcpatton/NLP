{
 "cells": [
  {
   "cell_type": "markdown",
   "id": "44200e46",
   "metadata": {
    "execution": {
     "iopub.execute_input": "2022-12-14T15:48:44.715116Z",
     "iopub.status.busy": "2022-12-14T15:48:44.714611Z",
     "iopub.status.idle": "2022-12-14T15:48:53.560604Z",
     "shell.execute_reply": "2022-12-14T15:48:53.559200Z",
     "shell.execute_reply.started": "2022-12-14T15:48:44.715016Z"
    },
    "papermill": {
     "duration": 0.003915,
     "end_time": "2022-12-15T16:41:54.119933",
     "exception": false,
     "start_time": "2022-12-15T16:41:54.116018",
     "status": "completed"
    },
    "tags": []
   },
   "source": [
    "Classification of AG news data using the Universal Sentence Encoder\n",
    "\n",
    "https://www.tensorflow.org/datasets/catalog/ag_news_subset\n",
    "\n",
    "https://arxiv.org/abs/1803.11175 (Universal Sentence Encoder paper)"
   ]
  },
  {
   "cell_type": "code",
   "execution_count": 1,
   "id": "e176f1e5",
   "metadata": {
    "execution": {
     "iopub.execute_input": "2022-12-15T16:41:54.128114Z",
     "iopub.status.busy": "2022-12-15T16:41:54.127579Z",
     "iopub.status.idle": "2022-12-15T16:42:02.752393Z",
     "shell.execute_reply": "2022-12-15T16:42:02.751114Z"
    },
    "papermill": {
     "duration": 8.632148,
     "end_time": "2022-12-15T16:42:02.755228",
     "exception": false,
     "start_time": "2022-12-15T16:41:54.123080",
     "status": "completed"
    },
    "tags": []
   },
   "outputs": [
    {
     "name": "stdout",
     "output_type": "stream",
     "text": [
      "2.6.4\n",
      "4.3.0\n",
      "0.12.0\n"
     ]
    }
   ],
   "source": [
    "import tensorflow as tf\n",
    "import tensorflow_datasets as tfds\n",
    "import tensorflow_hub as hub\n",
    "import random\n",
    "seed=54\n",
    "random.seed(seed)\n",
    "tf.random.set_seed(seed)\n",
    "print(tf.__version__)\n",
    "print(tfds.__version__)\n",
    "print(hub.__version__)"
   ]
  },
  {
   "cell_type": "code",
   "execution_count": 2,
   "id": "74edcb86",
   "metadata": {
    "execution": {
     "iopub.execute_input": "2022-12-15T16:42:02.763193Z",
     "iopub.status.busy": "2022-12-15T16:42:02.762287Z",
     "iopub.status.idle": "2022-12-15T16:42:53.910746Z",
     "shell.execute_reply": "2022-12-15T16:42:53.909804Z"
    },
    "papermill": {
     "duration": 51.158783,
     "end_time": "2022-12-15T16:42:53.917099",
     "exception": false,
     "start_time": "2022-12-15T16:42:02.758316",
     "status": "completed"
    },
    "tags": []
   },
   "outputs": [
    {
     "name": "stderr",
     "output_type": "stream",
     "text": [
      "2022-12-15 16:42:03.542015: W tensorflow/core/platform/cloud/google_auth_provider.cc:184] All attempts to get a Google authentication bearer token failed, returning an empty token. Retrieving token from files failed with \"Not found: Could not locate the credentials file.\". Retrieving token from GCE failed with \"Failed precondition: Error executing an HTTP request: libcurl code 6 meaning 'Couldn't resolve host name', error details: Could not resolve host: metadata\".\n"
     ]
    },
    {
     "name": "stdout",
     "output_type": "stream",
     "text": [
      "\u001b[1mDownloading and preparing dataset 11.24 MiB (download: 11.24 MiB, generated: 35.79 MiB, total: 47.03 MiB) to /root/tensorflow_datasets/ag_news_subset/1.0.0...\u001b[0m\n",
      "\u001b[1mDataset ag_news_subset downloaded and prepared to /root/tensorflow_datasets/ag_news_subset/1.0.0. Subsequent calls will reuse this data.\u001b[0m\n"
     ]
    },
    {
     "name": "stderr",
     "output_type": "stream",
     "text": [
      "2022-12-15 16:42:53.770999: I tensorflow/core/common_runtime/process_util.cc:146] Creating new thread pool with default inter op setting: 2. Tune using inter_op_parallelism_threads for best performance.\n"
     ]
    }
   ],
   "source": [
    "tfds.disable_progress_bar()\n",
    "train_ds, test_ds = tfds.load('ag_news_subset', as_supervised=True, split=['train','test'])\n",
    "train_size = int(0.8 * train_ds.cardinality().numpy())\n",
    "val_ds = train_ds.skip(train_size)\n",
    "train_ds = train_ds.take(train_size) "
   ]
  },
  {
   "cell_type": "code",
   "execution_count": 3,
   "id": "1ec292ce",
   "metadata": {
    "execution": {
     "iopub.execute_input": "2022-12-15T16:42:53.926315Z",
     "iopub.status.busy": "2022-12-15T16:42:53.925178Z",
     "iopub.status.idle": "2022-12-15T16:42:53.936162Z",
     "shell.execute_reply": "2022-12-15T16:42:53.934936Z"
    },
    "papermill": {
     "duration": 0.01811,
     "end_time": "2022-12-15T16:42:53.938542",
     "exception": false,
     "start_time": "2022-12-15T16:42:53.920432",
     "status": "completed"
    },
    "tags": []
   },
   "outputs": [
    {
     "data": {
      "text/plain": [
       "(96000, 24000, 7600)"
      ]
     },
     "execution_count": 3,
     "metadata": {},
     "output_type": "execute_result"
    }
   ],
   "source": [
    "train_ds.cardinality().numpy(), val_ds.cardinality().numpy(), test_ds.cardinality().numpy()"
   ]
  },
  {
   "cell_type": "code",
   "execution_count": 4,
   "id": "35f24f0b",
   "metadata": {
    "execution": {
     "iopub.execute_input": "2022-12-15T16:42:53.947780Z",
     "iopub.status.busy": "2022-12-15T16:42:53.946591Z",
     "iopub.status.idle": "2022-12-15T16:42:53.987409Z",
     "shell.execute_reply": "2022-12-15T16:42:53.986120Z"
    },
    "papermill": {
     "duration": 0.048217,
     "end_time": "2022-12-15T16:42:53.990117",
     "exception": false,
     "start_time": "2022-12-15T16:42:53.941900",
     "status": "completed"
    },
    "tags": []
   },
   "outputs": [],
   "source": [
    "train_ds = train_ds.shuffle(1024)\n",
    "train_ds = train_ds.batch(64).prefetch(tf.data.experimental.AUTOTUNE)\n",
    "val_ds = val_ds.batch(64).prefetch(tf.data.experimental.AUTOTUNE)\n",
    "val_ds = val_ds.cache()\n",
    "test_ds = test_ds.batch(64).prefetch(tf.data.experimental.AUTOTUNE)"
   ]
  },
  {
   "cell_type": "code",
   "execution_count": 5,
   "id": "e6bd6a71",
   "metadata": {
    "execution": {
     "iopub.execute_input": "2022-12-15T16:42:53.999526Z",
     "iopub.status.busy": "2022-12-15T16:42:53.998428Z",
     "iopub.status.idle": "2022-12-15T16:43:34.851828Z",
     "shell.execute_reply": "2022-12-15T16:43:34.850454Z"
    },
    "papermill": {
     "duration": 40.860893,
     "end_time": "2022-12-15T16:43:34.854594",
     "exception": false,
     "start_time": "2022-12-15T16:42:53.993701",
     "status": "completed"
    },
    "tags": []
   },
   "outputs": [
    {
     "name": "stderr",
     "output_type": "stream",
     "text": [
      "2022-12-15 16:43:31.023266: I tensorflow/compiler/mlir/mlir_graph_optimization_pass.cc:185] None of the MLIR Optimization Passes are enabled (registered 2)\n"
     ]
    },
    {
     "name": "stdout",
     "output_type": "stream",
     "text": [
      "Model: \"sequential\"\n",
      "_________________________________________________________________\n",
      "Layer (type)                 Output Shape              Param #   \n",
      "=================================================================\n",
      "keras_layer (KerasLayer)     (None, 512)               256797824 \n",
      "_________________________________________________________________\n",
      "dense (Dense)                (None, 64)                32832     \n",
      "_________________________________________________________________\n",
      "dense_1 (Dense)              (None, 64)                4160      \n",
      "_________________________________________________________________\n",
      "dense_2 (Dense)              (None, 4)                 260       \n",
      "=================================================================\n",
      "Total params: 256,835,076\n",
      "Trainable params: 37,252\n",
      "Non-trainable params: 256,797,824\n",
      "_________________________________________________________________\n"
     ]
    }
   ],
   "source": [
    "hub_layer = hub.KerasLayer(\"https://tfhub.dev/google/universal-sentence-encoder/4\",\n",
    "                           input_shape=[], dtype=tf.string)\n",
    "\n",
    "model = tf.keras.Sequential()\n",
    "model.add(hub_layer)\n",
    "model.add(tf.keras.layers.Dense(64, activation='swish'))\n",
    "model.add(tf.keras.layers.Dense(64, activation='swish'))\n",
    "model.add(tf.keras.layers.Dense(4, activation='softmax'))\n",
    "model.summary()\n"
   ]
  },
  {
   "cell_type": "code",
   "execution_count": 6,
   "id": "4f5a315f",
   "metadata": {
    "execution": {
     "iopub.execute_input": "2022-12-15T16:43:34.863933Z",
     "iopub.status.busy": "2022-12-15T16:43:34.863544Z",
     "iopub.status.idle": "2022-12-15T17:01:20.438729Z",
     "shell.execute_reply": "2022-12-15T17:01:20.437295Z"
    },
    "papermill": {
     "duration": 1065.583234,
     "end_time": "2022-12-15T17:01:20.441432",
     "exception": false,
     "start_time": "2022-12-15T16:43:34.858198",
     "status": "completed"
    },
    "tags": []
   },
   "outputs": [
    {
     "name": "stdout",
     "output_type": "stream",
     "text": [
      "Epoch 1/500\n"
     ]
    },
    {
     "name": "stderr",
     "output_type": "stream",
     "text": [
      "2022-12-15 16:44:05.322185: W tensorflow/core/kernels/data/cache_dataset_ops.cc:768] The calling iterator did not fully read the dataset being cached. In order to avoid unexpected truncation of the dataset, the partially cached contents of the dataset  will be discarded. This can happen if you have an input pipeline similar to `dataset.cache().take(k).repeat()`. You should use `dataset.take(k).cache().repeat()` instead.\n"
     ]
    },
    {
     "name": "stdout",
     "output_type": "stream",
     "text": [
      "1500/1500 - 44s - loss: 0.3747 - acc: 0.8743 - val_loss: 0.3255 - val_acc: 0.8848\n",
      "Epoch 2/500\n",
      "1500/1500 - 32s - loss: 0.3180 - acc: 0.8877 - val_loss: 0.3168 - val_acc: 0.8869\n",
      "Epoch 3/500\n",
      "1500/1500 - 32s - loss: 0.3105 - acc: 0.8888 - val_loss: 0.3167 - val_acc: 0.8855\n",
      "Epoch 4/500\n",
      "1500/1500 - 32s - loss: 0.3042 - acc: 0.8904 - val_loss: 0.3118 - val_acc: 0.8868\n",
      "Epoch 5/500\n",
      "1500/1500 - 32s - loss: 0.2987 - acc: 0.8926 - val_loss: 0.3091 - val_acc: 0.8883\n",
      "Epoch 6/500\n",
      "1500/1500 - 32s - loss: 0.2940 - acc: 0.8943 - val_loss: 0.3116 - val_acc: 0.8883\n",
      "Epoch 7/500\n",
      "1500/1500 - 32s - loss: 0.2898 - acc: 0.8948 - val_loss: 0.3055 - val_acc: 0.8908\n",
      "Epoch 8/500\n",
      "1500/1500 - 32s - loss: 0.2861 - acc: 0.8964 - val_loss: 0.3034 - val_acc: 0.8914\n",
      "Epoch 9/500\n",
      "1500/1500 - 32s - loss: 0.2818 - acc: 0.8979 - val_loss: 0.2966 - val_acc: 0.8936\n",
      "Epoch 10/500\n",
      "1500/1500 - 32s - loss: 0.2777 - acc: 0.8990 - val_loss: 0.2963 - val_acc: 0.8938\n",
      "Epoch 11/500\n",
      "1500/1500 - 32s - loss: 0.2734 - acc: 0.9005 - val_loss: 0.2971 - val_acc: 0.8931\n",
      "Epoch 12/500\n",
      "1500/1500 - 31s - loss: 0.2691 - acc: 0.9024 - val_loss: 0.2944 - val_acc: 0.8937\n",
      "Epoch 13/500\n",
      "1500/1500 - 32s - loss: 0.2643 - acc: 0.9040 - val_loss: 0.2919 - val_acc: 0.8950\n",
      "Epoch 14/500\n",
      "1500/1500 - 31s - loss: 0.2598 - acc: 0.9060 - val_loss: 0.2887 - val_acc: 0.8972\n",
      "Epoch 15/500\n",
      "1500/1500 - 31s - loss: 0.2552 - acc: 0.9077 - val_loss: 0.2881 - val_acc: 0.8971\n",
      "Epoch 16/500\n",
      "1500/1500 - 32s - loss: 0.2510 - acc: 0.9096 - val_loss: 0.2882 - val_acc: 0.8972\n",
      "Epoch 17/500\n",
      "1500/1500 - 32s - loss: 0.2463 - acc: 0.9105 - val_loss: 0.2866 - val_acc: 0.8982\n",
      "Epoch 18/500\n",
      "1500/1500 - 32s - loss: 0.2421 - acc: 0.9122 - val_loss: 0.2871 - val_acc: 0.8980\n",
      "Epoch 19/500\n",
      "1500/1500 - 31s - loss: 0.2374 - acc: 0.9141 - val_loss: 0.2864 - val_acc: 0.8976\n",
      "Epoch 20/500\n",
      "1500/1500 - 31s - loss: 0.2331 - acc: 0.9154 - val_loss: 0.2868 - val_acc: 0.8977\n",
      "Epoch 21/500\n",
      "1500/1500 - 32s - loss: 0.2287 - acc: 0.9172 - val_loss: 0.2886 - val_acc: 0.8981\n",
      "Epoch 22/500\n",
      "1500/1500 - 31s - loss: 0.2243 - acc: 0.9185 - val_loss: 0.2876 - val_acc: 0.8992\n",
      "Epoch 23/500\n",
      "1500/1500 - 31s - loss: 0.2202 - acc: 0.9204 - val_loss: 0.2904 - val_acc: 0.8974\n",
      "Epoch 24/500\n",
      "1500/1500 - 31s - loss: 0.2158 - acc: 0.9222 - val_loss: 0.2917 - val_acc: 0.8980\n",
      "Epoch 25/500\n",
      "1500/1500 - 32s - loss: 0.2119 - acc: 0.9235 - val_loss: 0.2923 - val_acc: 0.8988\n",
      "Epoch 26/500\n",
      "1500/1500 - 31s - loss: 0.2078 - acc: 0.9247 - val_loss: 0.2962 - val_acc: 0.8984\n",
      "Epoch 27/500\n",
      "1500/1500 - 31s - loss: 0.2038 - acc: 0.9267 - val_loss: 0.2987 - val_acc: 0.8975\n",
      "Epoch 28/500\n",
      "1500/1500 - 31s - loss: 0.1993 - acc: 0.9283 - val_loss: 0.3005 - val_acc: 0.8985\n",
      "Restoring model weights from the end of the best epoch.\n",
      "Epoch 00028: early stopping\n"
     ]
    }
   ],
   "source": [
    "model.compile(optimizer=tf.keras.optimizers.Adam(learning_rate=1e-3),\n",
    "              loss='sparse_categorical_crossentropy',\n",
    "              metrics=['acc'])\n",
    "es = tf.keras.callbacks.EarlyStopping(patience=9, verbose=1, restore_best_weights=True)\n",
    "history = model.fit(train_ds, epochs=500, callbacks=[es], verbose=2, validation_data=val_ds)"
   ]
  },
  {
   "cell_type": "code",
   "execution_count": 7,
   "id": "b39a1c85",
   "metadata": {
    "execution": {
     "iopub.execute_input": "2022-12-15T17:01:20.457972Z",
     "iopub.status.busy": "2022-12-15T17:01:20.457051Z",
     "iopub.status.idle": "2022-12-15T17:01:22.971240Z",
     "shell.execute_reply": "2022-12-15T17:01:22.969987Z"
    },
    "papermill": {
     "duration": 2.525332,
     "end_time": "2022-12-15T17:01:22.974030",
     "exception": false,
     "start_time": "2022-12-15T17:01:20.448698",
     "status": "completed"
    },
    "tags": []
   },
   "outputs": [
    {
     "name": "stdout",
     "output_type": "stream",
     "text": [
      "119/119 [==============================] - 2s 20ms/step - loss: 0.3008 - acc: 0.8986\n"
     ]
    },
    {
     "data": {
      "text/plain": [
       "[0.30084723234176636, 0.898552656173706]"
      ]
     },
     "execution_count": 7,
     "metadata": {},
     "output_type": "execute_result"
    }
   ],
   "source": [
    "model.evaluate(test_ds)"
   ]
  }
 ],
 "metadata": {
  "kernelspec": {
   "display_name": "Python 3",
   "language": "python",
   "name": "python3"
  },
  "language_info": {
   "codemirror_mode": {
    "name": "ipython",
    "version": 3
   },
   "file_extension": ".py",
   "mimetype": "text/x-python",
   "name": "python",
   "nbconvert_exporter": "python",
   "pygments_lexer": "ipython3",
   "version": "3.7.12"
  },
  "papermill": {
   "default_parameters": {},
   "duration": 1182.596416,
   "end_time": "2022-12-15T17:01:26.559490",
   "environment_variables": {},
   "exception": null,
   "input_path": "__notebook__.ipynb",
   "output_path": "__notebook__.ipynb",
   "parameters": {},
   "start_time": "2022-12-15T16:41:43.963074",
   "version": "2.3.4"
  }
 },
 "nbformat": 4,
 "nbformat_minor": 5
}
