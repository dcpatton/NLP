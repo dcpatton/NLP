{
  "nbformat": 4,
  "nbformat_minor": 0,
  "metadata": {
    "colab": {
      "name": "Friends_Albert.ipynb",
      "provenance": [],
      "collapsed_sections": [],
      "authorship_tag": "ABX9TyPe8hAThtTy9DPwXzKgr6Rm",
      "include_colab_link": true
    },
    "kernelspec": {
      "name": "python3",
      "display_name": "Python 3"
    },
    "accelerator": "GPU"
  },
  "cells": [
    {
      "cell_type": "markdown",
      "metadata": {
        "id": "view-in-github",
        "colab_type": "text"
      },
      "source": [
        "<a href=\"https://colab.research.google.com/github/dcpatton/NLP/blob/master/Friends_Albert.ipynb\" target=\"_parent\"><img src=\"https://colab.research.google.com/assets/colab-badge.svg\" alt=\"Open In Colab\"/></a>"
      ]
    },
    {
      "cell_type": "code",
      "metadata": {
        "id": "Pcb8ok5tXZ6w",
        "colab_type": "code",
        "colab": {
          "base_uri": "https://localhost:8080/",
          "height": 34
        },
        "outputId": "c0a9029d-efcd-4064-f87c-693b5bae1344"
      },
      "source": [
        "import tensorflow as tf\n",
        "import tensorflow_hub as hub\n",
        "import random\n",
        "\n",
        "print(tf.__version__)\n",
        "\n",
        "seed = 51\n",
        "\n",
        "tf.random.set_seed(seed)\n",
        "random.seed(seed)"
      ],
      "execution_count": 1,
      "outputs": [
        {
          "output_type": "stream",
          "text": [
            "2.3.0\n"
          ],
          "name": "stdout"
        }
      ]
    },
    {
      "cell_type": "markdown",
      "metadata": {
        "id": "81wwUJpeZcP-",
        "colab_type": "text"
      },
      "source": [
        "# Load and prep data"
      ]
    },
    {
      "cell_type": "code",
      "metadata": {
        "id": "ig2mn5ZJZWNf",
        "colab_type": "code",
        "colab": {
          "resources": {
            "http://localhost:8080/nbextensions/google.colab/files.js": {
              "data": "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",
              "ok": true,
              "headers": [
                [
                  "content-type",
                  "application/javascript"
                ]
              ],
              "status": 200,
              "status_text": ""
            }
          },
          "base_uri": "https://localhost:8080/",
          "height": 140
        },
        "outputId": "868ac530-f0b4-4e91-9489-68bb57d1a402"
      },
      "source": [
        "from google.colab import files\n",
        "uploaded = files.upload()"
      ],
      "execution_count": 2,
      "outputs": [
        {
          "output_type": "display_data",
          "data": {
            "text/html": [
              "\n",
              "     <input type=\"file\" id=\"files-7d04f843-8662-4f33-ab52-3e49194c7ad7\" name=\"files[]\" multiple disabled\n",
              "        style=\"border:none\" />\n",
              "     <output id=\"result-7d04f843-8662-4f33-ab52-3e49194c7ad7\">\n",
              "      Upload widget is only available when the cell has been executed in the\n",
              "      current browser session. Please rerun this cell to enable.\n",
              "      </output>\n",
              "      <script src=\"/nbextensions/google.colab/files.js\"></script> "
            ],
            "text/plain": [
              "<IPython.core.display.HTML object>"
            ]
          },
          "metadata": {
            "tags": []
          }
        },
        {
          "output_type": "stream",
          "text": [
            "Saving friends_test.json to friends_test.json\n",
            "Saving friends_dev.json to friends_dev.json\n",
            "Saving friends_train.json to friends_train.json\n"
          ],
          "name": "stdout"
        }
      ]
    },
    {
      "cell_type": "markdown",
      "metadata": {
        "id": "bjs7PpQaeaYg",
        "colab_type": "text"
      },
      "source": [
        "# Albert"
      ]
    },
    {
      "cell_type": "code",
      "metadata": {
        "id": "DXywVqIEr6Tc",
        "colab_type": "code",
        "colab": {
          "base_uri": "https://localhost:8080/",
          "height": 34
        },
        "outputId": "bd82987e-a7f4-42c6-c4e4-eb5da8dc1ebb"
      },
      "source": [
        "!pip install sentencepiece -q"
      ],
      "execution_count": 3,
      "outputs": [
        {
          "output_type": "stream",
          "text": [
            "\u001b[?25l\r\u001b[K     |▎                               | 10kB 28.2MB/s eta 0:00:01\r\u001b[K     |▋                               | 20kB 2.9MB/s eta 0:00:01\r\u001b[K     |█                               | 30kB 3.9MB/s eta 0:00:01\r\u001b[K     |█▏                              | 40kB 4.2MB/s eta 0:00:01\r\u001b[K     |█▌                              | 51kB 3.4MB/s eta 0:00:01\r\u001b[K     |█▉                              | 61kB 3.8MB/s eta 0:00:01\r\u001b[K     |██▏                             | 71kB 4.1MB/s eta 0:00:01\r\u001b[K     |██▍                             | 81kB 4.4MB/s eta 0:00:01\r\u001b[K     |██▊                             | 92kB 4.8MB/s eta 0:00:01\r\u001b[K     |███                             | 102kB 4.5MB/s eta 0:00:01\r\u001b[K     |███▍                            | 112kB 4.5MB/s eta 0:00:01\r\u001b[K     |███▋                            | 122kB 4.5MB/s eta 0:00:01\r\u001b[K     |████                            | 133kB 4.5MB/s eta 0:00:01\r\u001b[K     |████▎                           | 143kB 4.5MB/s eta 0:00:01\r\u001b[K     |████▋                           | 153kB 4.5MB/s eta 0:00:01\r\u001b[K     |████▉                           | 163kB 4.5MB/s eta 0:00:01\r\u001b[K     |█████▏                          | 174kB 4.5MB/s eta 0:00:01\r\u001b[K     |█████▌                          | 184kB 4.5MB/s eta 0:00:01\r\u001b[K     |█████▉                          | 194kB 4.5MB/s eta 0:00:01\r\u001b[K     |██████                          | 204kB 4.5MB/s eta 0:00:01\r\u001b[K     |██████▍                         | 215kB 4.5MB/s eta 0:00:01\r\u001b[K     |██████▊                         | 225kB 4.5MB/s eta 0:00:01\r\u001b[K     |███████                         | 235kB 4.5MB/s eta 0:00:01\r\u001b[K     |███████▎                        | 245kB 4.5MB/s eta 0:00:01\r\u001b[K     |███████▋                        | 256kB 4.5MB/s eta 0:00:01\r\u001b[K     |████████                        | 266kB 4.5MB/s eta 0:00:01\r\u001b[K     |████████▎                       | 276kB 4.5MB/s eta 0:00:01\r\u001b[K     |████████▌                       | 286kB 4.5MB/s eta 0:00:01\r\u001b[K     |████████▉                       | 296kB 4.5MB/s eta 0:00:01\r\u001b[K     |█████████▏                      | 307kB 4.5MB/s eta 0:00:01\r\u001b[K     |█████████▌                      | 317kB 4.5MB/s eta 0:00:01\r\u001b[K     |█████████▊                      | 327kB 4.5MB/s eta 0:00:01\r\u001b[K     |██████████                      | 337kB 4.5MB/s eta 0:00:01\r\u001b[K     |██████████▍                     | 348kB 4.5MB/s eta 0:00:01\r\u001b[K     |██████████▊                     | 358kB 4.5MB/s eta 0:00:01\r\u001b[K     |███████████                     | 368kB 4.5MB/s eta 0:00:01\r\u001b[K     |███████████▎                    | 378kB 4.5MB/s eta 0:00:01\r\u001b[K     |███████████▋                    | 389kB 4.5MB/s eta 0:00:01\r\u001b[K     |████████████                    | 399kB 4.5MB/s eta 0:00:01\r\u001b[K     |████████████▏                   | 409kB 4.5MB/s eta 0:00:01\r\u001b[K     |████████████▌                   | 419kB 4.5MB/s eta 0:00:01\r\u001b[K     |████████████▉                   | 430kB 4.5MB/s eta 0:00:01\r\u001b[K     |█████████████▏                  | 440kB 4.5MB/s eta 0:00:01\r\u001b[K     |█████████████▍                  | 450kB 4.5MB/s eta 0:00:01\r\u001b[K     |█████████████▊                  | 460kB 4.5MB/s eta 0:00:01\r\u001b[K     |██████████████                  | 471kB 4.5MB/s eta 0:00:01\r\u001b[K     |██████████████▍                 | 481kB 4.5MB/s eta 0:00:01\r\u001b[K     |██████████████▋                 | 491kB 4.5MB/s eta 0:00:01\r\u001b[K     |███████████████                 | 501kB 4.5MB/s eta 0:00:01\r\u001b[K     |███████████████▎                | 512kB 4.5MB/s eta 0:00:01\r\u001b[K     |███████████████▋                | 522kB 4.5MB/s eta 0:00:01\r\u001b[K     |███████████████▉                | 532kB 4.5MB/s eta 0:00:01\r\u001b[K     |████████████████▏               | 542kB 4.5MB/s eta 0:00:01\r\u001b[K     |████████████████▌               | 552kB 4.5MB/s eta 0:00:01\r\u001b[K     |████████████████▉               | 563kB 4.5MB/s eta 0:00:01\r\u001b[K     |█████████████████               | 573kB 4.5MB/s eta 0:00:01\r\u001b[K     |█████████████████▍              | 583kB 4.5MB/s eta 0:00:01\r\u001b[K     |█████████████████▊              | 593kB 4.5MB/s eta 0:00:01\r\u001b[K     |██████████████████              | 604kB 4.5MB/s eta 0:00:01\r\u001b[K     |██████████████████▎             | 614kB 4.5MB/s eta 0:00:01\r\u001b[K     |██████████████████▋             | 624kB 4.5MB/s eta 0:00:01\r\u001b[K     |███████████████████             | 634kB 4.5MB/s eta 0:00:01\r\u001b[K     |███████████████████▎            | 645kB 4.5MB/s eta 0:00:01\r\u001b[K     |███████████████████▌            | 655kB 4.5MB/s eta 0:00:01\r\u001b[K     |███████████████████▉            | 665kB 4.5MB/s eta 0:00:01\r\u001b[K     |████████████████████▏           | 675kB 4.5MB/s eta 0:00:01\r\u001b[K     |████████████████████▌           | 686kB 4.5MB/s eta 0:00:01\r\u001b[K     |████████████████████▊           | 696kB 4.5MB/s eta 0:00:01\r\u001b[K     |█████████████████████           | 706kB 4.5MB/s eta 0:00:01\r\u001b[K     |█████████████████████▍          | 716kB 4.5MB/s eta 0:00:01\r\u001b[K     |█████████████████████▋          | 727kB 4.5MB/s eta 0:00:01\r\u001b[K     |██████████████████████          | 737kB 4.5MB/s eta 0:00:01\r\u001b[K     |██████████████████████▎         | 747kB 4.5MB/s eta 0:00:01\r\u001b[K     |██████████████████████▋         | 757kB 4.5MB/s eta 0:00:01\r\u001b[K     |██████████████████████▉         | 768kB 4.5MB/s eta 0:00:01\r\u001b[K     |███████████████████████▏        | 778kB 4.5MB/s eta 0:00:01\r\u001b[K     |███████████████████████▌        | 788kB 4.5MB/s eta 0:00:01\r\u001b[K     |███████████████████████▉        | 798kB 4.5MB/s eta 0:00:01\r\u001b[K     |████████████████████████        | 808kB 4.5MB/s eta 0:00:01\r\u001b[K     |████████████████████████▍       | 819kB 4.5MB/s eta 0:00:01\r\u001b[K     |████████████████████████▊       | 829kB 4.5MB/s eta 0:00:01\r\u001b[K     |█████████████████████████       | 839kB 4.5MB/s eta 0:00:01\r\u001b[K     |█████████████████████████▎      | 849kB 4.5MB/s eta 0:00:01\r\u001b[K     |█████████████████████████▋      | 860kB 4.5MB/s eta 0:00:01\r\u001b[K     |██████████████████████████      | 870kB 4.5MB/s eta 0:00:01\r\u001b[K     |██████████████████████████▎     | 880kB 4.5MB/s eta 0:00:01\r\u001b[K     |██████████████████████████▌     | 890kB 4.5MB/s eta 0:00:01\r\u001b[K     |██████████████████████████▉     | 901kB 4.5MB/s eta 0:00:01\r\u001b[K     |███████████████████████████▏    | 911kB 4.5MB/s eta 0:00:01\r\u001b[K     |███████████████████████████▌    | 921kB 4.5MB/s eta 0:00:01\r\u001b[K     |███████████████████████████▊    | 931kB 4.5MB/s eta 0:00:01\r\u001b[K     |████████████████████████████    | 942kB 4.5MB/s eta 0:00:01\r\u001b[K     |████████████████████████████▍   | 952kB 4.5MB/s eta 0:00:01\r\u001b[K     |████████████████████████████▊   | 962kB 4.5MB/s eta 0:00:01\r\u001b[K     |█████████████████████████████   | 972kB 4.5MB/s eta 0:00:01\r\u001b[K     |█████████████████████████████▎  | 983kB 4.5MB/s eta 0:00:01\r\u001b[K     |█████████████████████████████▋  | 993kB 4.5MB/s eta 0:00:01\r\u001b[K     |██████████████████████████████  | 1.0MB 4.5MB/s eta 0:00:01\r\u001b[K     |██████████████████████████████▏ | 1.0MB 4.5MB/s eta 0:00:01\r\u001b[K     |██████████████████████████████▌ | 1.0MB 4.5MB/s eta 0:00:01\r\u001b[K     |██████████████████████████████▉ | 1.0MB 4.5MB/s eta 0:00:01\r\u001b[K     |███████████████████████████████▏| 1.0MB 4.5MB/s eta 0:00:01\r\u001b[K     |███████████████████████████████▍| 1.1MB 4.5MB/s eta 0:00:01\r\u001b[K     |███████████████████████████████▊| 1.1MB 4.5MB/s eta 0:00:01\r\u001b[K     |████████████████████████████████| 1.1MB 4.5MB/s \n",
            "\u001b[?25h"
          ],
          "name": "stdout"
        }
      ]
    },
    {
      "cell_type": "code",
      "metadata": {
        "id": "vbRNkNRgp4Tu",
        "colab_type": "code",
        "colab": {
          "base_uri": "https://localhost:8080/",
          "height": 34
        },
        "outputId": "3994557e-8a25-4f36-e1ca-057cb83ea0b8"
      },
      "source": [
        "!wget -nv https://raw.githubusercontent.com/tensorflow/models/master/official/nlp/bert/tokenization.py"
      ],
      "execution_count": 4,
      "outputs": [
        {
          "output_type": "stream",
          "text": [
            "2020-08-04 23:40:55 URL:https://raw.githubusercontent.com/tensorflow/models/master/official/nlp/bert/tokenization.py [16775/16775] -> \"tokenization.py\" [1]\n"
          ],
          "name": "stdout"
        }
      ]
    },
    {
      "cell_type": "code",
      "metadata": {
        "id": "aoHCgKQjsjfu",
        "colab_type": "code",
        "colab": {}
      },
      "source": [
        "from numpy import array\n",
        "\n",
        "def albert_encode(texts):\n",
        "    all_tokens = []\n",
        "    all_masks = []\n",
        "    all_segments = []\n",
        "\n",
        "    for text in texts:\n",
        "      text = tokenizer.tokenize(text)\n",
        "      text = text[:max_seq_length-2]\n",
        "      input_sequence = [\"[CLS]\"] + text + [\"[SEP]\"]\n",
        "      input_sequence = text\n",
        "      pad_len = max_seq_length - len(input_sequence)\n",
        "      tokens = tokenizer.convert_tokens_to_ids(input_sequence)\n",
        "      tokens += [0] * pad_len\n",
        "      pad_masks = [1] * len(input_sequence) + [0] * pad_len\n",
        "      segment_ids = [0] * max_seq_length\n",
        "      all_tokens.append(tokens)\n",
        "      all_masks.append(pad_masks)\n",
        "      all_segments.append(segment_ids)\n",
        "\n",
        "    return [array(all_tokens), array(all_masks), array(all_segments)]"
      ],
      "execution_count": 5,
      "outputs": []
    },
    {
      "cell_type": "code",
      "metadata": {
        "id": "92NPOX43sld8",
        "colab_type": "code",
        "colab": {}
      },
      "source": [
        "def prep_data(df):\n",
        "    \n",
        "    texts = []\n",
        "    labels = []\n",
        "\n",
        "    for _,row in df.iterrows():\n",
        "      texts.append(row.utterance)\n",
        "      labels.append(row.label)\n",
        "\n",
        "    return albert_encode(texts), array(labels)"
      ],
      "execution_count": 6,
      "outputs": []
    },
    {
      "cell_type": "markdown",
      "metadata": {
        "id": "KJF4yk5_rF23",
        "colab_type": "text"
      },
      "source": [
        "# Competition prediction task\n",
        "\n",
        "\n",
        "\n",
        "> In the competition they only predict samples with joy, sadness, anger, and neutral. All others are discarded. \n",
        "\n"
      ]
    },
    {
      "cell_type": "code",
      "metadata": {
        "id": "xB2RgdeDrG7W",
        "colab_type": "code",
        "colab": {
          "base_uri": "https://localhost:8080/",
          "height": 102
        },
        "outputId": "c61bf230-67e4-42d8-9a13-c643088aeb38"
      },
      "source": [
        "import pandas as pd\n",
        "\n",
        "allowed_emotions = ['joy', 'sadness', 'anger', 'neutral']\n",
        "\n",
        "df = pd.read_json('friends_train.json')\n",
        "utterances = []\n",
        "emotions = []\n",
        "for _, row in df.iterrows():\n",
        "  for i in range(len(df.columns)):\n",
        "    if row[i] is not None and row[i]['emotion'] in allowed_emotions:\n",
        "      speaker = row[i]['speaker']\n",
        "      utterance = row[i]['utterance'].replace('\\x92', '`')\n",
        "      utterances.append(speaker + ' says: ' + utterance)\n",
        "      emotions.append(row[i]['emotion'])\n",
        "\n",
        "train_df = pd.DataFrame(list(zip(utterances, emotions)), \n",
        "               columns =['utterance', 'emotion']) \n",
        "\n",
        "df = pd.read_json('friends_dev.json')\n",
        "utterances = []\n",
        "emotions = []\n",
        "for _, row in df.iterrows():\n",
        "  for i in range(len(df.columns)):\n",
        "    if row[i] is not None and row[i]['emotion'] in allowed_emotions:\n",
        "      speaker = row[i]['speaker']\n",
        "      utterance = row[i]['utterance'].replace('\\x92', '`')\n",
        "      utterances.append(speaker + ' says: ' + utterance)\n",
        "      emotions.append(row[i]['emotion'])\n",
        "\n",
        "val_df = pd.DataFrame(list(zip(utterances, emotions)), \n",
        "               columns =['utterance', 'emotion'])\n",
        "\n",
        "df = pd.read_json('friends_test.json')\n",
        "utterances = []\n",
        "emotions = []\n",
        "for _, row in df.iterrows():\n",
        "  for i in range(len(df.columns)):\n",
        "    if row[i] is not None and row[i]['emotion'] in allowed_emotions:\n",
        "      speaker = row[i]['speaker']\n",
        "      utterance = row[i]['utterance'].replace('\\x92', '`')\n",
        "      utterances.append(speaker + ' says: ' + utterance)\n",
        "      emotions.append(row[i]['emotion'])\n",
        "\n",
        "test_df = pd.DataFrame(list(zip(utterances, emotions)), \n",
        "               columns =['utterance', 'emotion'])\n",
        "test_df['emotion'].value_counts()"
      ],
      "execution_count": 7,
      "outputs": [
        {
          "output_type": "execute_result",
          "data": {
            "text/plain": [
              "neutral    1287\n",
              "joy         304\n",
              "anger       161\n",
              "sadness      85\n",
              "Name: emotion, dtype: int64"
            ]
          },
          "metadata": {
            "tags": []
          },
          "execution_count": 7
        }
      ]
    },
    {
      "cell_type": "code",
      "metadata": {
        "id": "GyONQX4IrKle",
        "colab_type": "code",
        "colab": {}
      },
      "source": [
        "from sklearn.model_selection import train_test_split\n",
        "# lets combine + shuffle train and val and then split again.\n",
        "combined_df = pd.concat([train_df, val_df])\n",
        "train_df, val_df = train_test_split(combined_df, test_size=0.2, shuffle=True, \n",
        "                                    stratify=combined_df['emotion'], random_state=seed)"
      ],
      "execution_count": 8,
      "outputs": []
    },
    {
      "cell_type": "code",
      "metadata": {
        "id": "OXexTi-ZrQvk",
        "colab_type": "code",
        "colab": {
          "base_uri": "https://localhost:8080/",
          "height": 34
        },
        "outputId": "734563d3-6dcc-4604-fcdc-2544c9bb9ce3"
      },
      "source": [
        "max_len = -1\n",
        "for _,row in combined_df.iterrows():\n",
        "  length = len(row.utterance)\n",
        "  if length > max_len:\n",
        "    max_len = length\n",
        "\n",
        "max_len"
      ],
      "execution_count": 9,
      "outputs": [
        {
          "output_type": "execute_result",
          "data": {
            "text/plain": [
              "256"
            ]
          },
          "metadata": {
            "tags": []
          },
          "execution_count": 9
        }
      ]
    },
    {
      "cell_type": "code",
      "metadata": {
        "id": "cbdkH7_vrXHs",
        "colab_type": "code",
        "colab": {
          "base_uri": "https://localhost:8080/",
          "height": 323
        },
        "outputId": "31da1b60-3a82-4a7b-9bf4-b5e36cf8caa6"
      },
      "source": [
        "# create the labels as integers\n",
        "from sklearn.preprocessing import LabelEncoder\n",
        "labelEncoder = LabelEncoder()\n",
        "train_df['label'] = labelEncoder.fit_transform(train_df['emotion'].values)\n",
        "train_df.drop(['emotion'], axis='columns', inplace=True)\n",
        "\n",
        "val_df['label'] = labelEncoder.transform(val_df['emotion'].values)\n",
        "val_df.drop(['emotion'], axis='columns', inplace=True)\n",
        "\n",
        "test_df['label'] = labelEncoder.transform(test_df['emotion'].values)\n",
        "test_df.drop(['emotion'], axis='columns', inplace=True)\n",
        "\n",
        "num_classes=len(labelEncoder.classes_)\n",
        "labelEncoder.classes_"
      ],
      "execution_count": 10,
      "outputs": [
        {
          "output_type": "stream",
          "text": [
            "/usr/local/lib/python3.6/dist-packages/ipykernel_launcher.py:4: SettingWithCopyWarning: \n",
            "A value is trying to be set on a copy of a slice from a DataFrame.\n",
            "Try using .loc[row_indexer,col_indexer] = value instead\n",
            "\n",
            "See the caveats in the documentation: https://pandas.pydata.org/pandas-docs/stable/user_guide/indexing.html#returning-a-view-versus-a-copy\n",
            "  after removing the cwd from sys.path.\n",
            "/usr/local/lib/python3.6/dist-packages/pandas/core/frame.py:3997: SettingWithCopyWarning: \n",
            "A value is trying to be set on a copy of a slice from a DataFrame\n",
            "\n",
            "See the caveats in the documentation: https://pandas.pydata.org/pandas-docs/stable/user_guide/indexing.html#returning-a-view-versus-a-copy\n",
            "  errors=errors,\n",
            "/usr/local/lib/python3.6/dist-packages/ipykernel_launcher.py:7: SettingWithCopyWarning: \n",
            "A value is trying to be set on a copy of a slice from a DataFrame.\n",
            "Try using .loc[row_indexer,col_indexer] = value instead\n",
            "\n",
            "See the caveats in the documentation: https://pandas.pydata.org/pandas-docs/stable/user_guide/indexing.html#returning-a-view-versus-a-copy\n",
            "  import sys\n"
          ],
          "name": "stderr"
        },
        {
          "output_type": "execute_result",
          "data": {
            "text/plain": [
              "array(['anger', 'joy', 'neutral', 'sadness'], dtype=object)"
            ]
          },
          "metadata": {
            "tags": []
          },
          "execution_count": 10
        }
      ]
    },
    {
      "cell_type": "code",
      "metadata": {
        "id": "yRJ3rf7Lrv5P",
        "colab_type": "code",
        "colab": {}
      },
      "source": [
        "# max_seq_length = 128\n",
        "max_seq_length = max_len\n",
        "input_word_ids = tf.keras.layers.Input(shape=(max_seq_length,), dtype=tf.int32,\n",
        "                                       name=\"input_word_ids\")\n",
        "input_mask = tf.keras.layers.Input(shape=(max_seq_length,), dtype=tf.int32,\n",
        "                                   name=\"input_mask\")\n",
        "segment_ids = tf.keras.layers.Input(shape=(max_seq_length,), dtype=tf.int32,\n",
        "                                    name=\"segment_ids\")\n",
        "albert_layer = hub.KerasLayer(\"https://tfhub.dev/tensorflow/albert_en_base/1\",\n",
        "                              trainable=False)\n",
        "pooled_output, sequence_output = albert_layer([input_word_ids, input_mask, segment_ids])"
      ],
      "execution_count": 11,
      "outputs": []
    },
    {
      "cell_type": "code",
      "metadata": {
        "id": "DuTs_AEjVGpv",
        "colab_type": "code",
        "colab": {}
      },
      "source": [
        "import tokenization\n",
        "import sentencepiece"
      ],
      "execution_count": 12,
      "outputs": []
    },
    {
      "cell_type": "code",
      "metadata": {
        "id": "9CF0CiH2sIAr",
        "colab_type": "code",
        "colab": {}
      },
      "source": [
        "sp_model_file = albert_layer.resolved_object.sp_model_file.asset_path.numpy()\n",
        "tokenizer = tokenization.FullSentencePieceTokenizer(sp_model_file)"
      ],
      "execution_count": 13,
      "outputs": []
    },
    {
      "cell_type": "code",
      "metadata": {
        "id": "i8NICU90rlj1",
        "colab_type": "code",
        "colab": {}
      },
      "source": [
        "x_train, y_train = prep_data(train_df)\n",
        "x_val, y_val = prep_data(val_df)\n",
        "x_test, y_test = prep_data(test_df)\n",
        "\n",
        "y_true = y_test\n",
        "\n",
        "y_train = tf.keras.utils.to_categorical(y_train, num_classes=num_classes)\n",
        "y_val = tf.keras.utils.to_categorical(y_val, num_classes=num_classes)\n",
        "y_test = tf.keras.utils.to_categorical(y_test, num_classes=num_classes)"
      ],
      "execution_count": 14,
      "outputs": []
    },
    {
      "cell_type": "code",
      "metadata": {
        "id": "UJum7xMhsO2I",
        "colab_type": "code",
        "colab": {
          "base_uri": "https://localhost:8080/",
          "height": 391
        },
        "outputId": "883bfc03-5b7e-451d-850a-c2bf62cce8b7"
      },
      "source": [
        "from tensorflow.keras.layers import Dense\n",
        "from tensorflow.keras.models import Model\n",
        "\n",
        "m = Dense(32, activation='relu')(pooled_output)\n",
        "out = Dense(num_classes, activation='softmax')(m)\n",
        "model = Model(inputs=[input_word_ids, input_mask, segment_ids], outputs=[out])\n",
        "\n",
        "model.summary()"
      ],
      "execution_count": 15,
      "outputs": [
        {
          "output_type": "stream",
          "text": [
            "Model: \"functional_1\"\n",
            "__________________________________________________________________________________________________\n",
            "Layer (type)                    Output Shape         Param #     Connected to                     \n",
            "==================================================================================================\n",
            "input_word_ids (InputLayer)     [(None, 256)]        0                                            \n",
            "__________________________________________________________________________________________________\n",
            "input_mask (InputLayer)         [(None, 256)]        0                                            \n",
            "__________________________________________________________________________________________________\n",
            "segment_ids (InputLayer)        [(None, 256)]        0                                            \n",
            "__________________________________________________________________________________________________\n",
            "keras_layer (KerasLayer)        [(None, 768), (None, 11683584    input_word_ids[0][0]             \n",
            "                                                                 input_mask[0][0]                 \n",
            "                                                                 segment_ids[0][0]                \n",
            "__________________________________________________________________________________________________\n",
            "dense (Dense)                   (None, 32)           24608       keras_layer[0][0]                \n",
            "__________________________________________________________________________________________________\n",
            "dense_1 (Dense)                 (None, 4)            132         dense[0][0]                      \n",
            "==================================================================================================\n",
            "Total params: 11,708,324\n",
            "Trainable params: 24,740\n",
            "Non-trainable params: 11,683,584\n",
            "__________________________________________________________________________________________________\n"
          ],
          "name": "stdout"
        }
      ]
    },
    {
      "cell_type": "code",
      "metadata": {
        "id": "Lirf7mqKscfu",
        "colab_type": "code",
        "colab": {}
      },
      "source": [
        "!pip install focal-loss -q"
      ],
      "execution_count": 16,
      "outputs": []
    },
    {
      "cell_type": "code",
      "metadata": {
        "id": "1e14Uci3saJx",
        "colab_type": "code",
        "colab": {}
      },
      "source": [
        "import tensorflow_addons as tfa\n",
        "# radam = tfa.optimizers.RectifiedAdam()\n",
        "radam = tfa.optimizers.RectifiedAdam(\n",
        "    lr=1e-3,\n",
        "    # total_steps=10000,\n",
        "    total_steps=100,\n",
        "    warmup_proportion=0.1,\n",
        "    min_lr=1e-5,\n",
        ")\n",
        "ranger = tfa.optimizers.Lookahead(radam, sync_period=6, slow_step_size=0.5)\n",
        "\n",
        "from focal_loss import SparseCategoricalFocalLoss\n",
        "# loss_func = SparseCategoricalFocalLoss(gamma=2)\n",
        "loss_func = SparseCategoricalFocalLoss(gamma=[9, 8, 3, 9], from_logits=True)\n",
        "\n",
        "total = 161+304+1287+85\n",
        "weight_for_0 = (1 / 161)*(total)/4.0 \n",
        "weight_for_1 = (1 / 304)*(total)/4.0\n",
        "weight_for_2 = (1 / 1287)*(total)/4.0\n",
        "weight_for_3 = (1 / 85)*(total)/4.0\n",
        "class_weight = {0: weight_for_0, 1: weight_for_1, 2: weight_for_2, 3: weight_for_3}"
      ],
      "execution_count": 17,
      "outputs": []
    },
    {
      "cell_type": "code",
      "metadata": {
        "id": "vZwqFEZPsrsl",
        "colab_type": "code",
        "colab": {}
      },
      "source": [
        "f1_score = tfa.metrics.F1Score(num_classes, average='micro', name='f1')\n",
        "\n",
        "# model.compile(optimizer='adam', loss='categorical_crossentropy', \n",
        "              # metrics=[f1_score])\n",
        "model.compile(optimizer=tf.keras.optimizers.Adam(learning_rate=0.001), \n",
        "              loss=tfa.losses.SigmoidFocalCrossEntropy(), \n",
        "              metrics=[f1_score])\n",
        "# model.compile(optimizer=radam, loss='sparse_categorical_crossentropy', \n",
        "              # metrics=[tf.keras.metrics.SparseCategoricalAccuracy(name='acc')])"
      ],
      "execution_count": 18,
      "outputs": []
    },
    {
      "cell_type": "code",
      "metadata": {
        "id": "naqFH4z42lZG",
        "colab_type": "code",
        "colab": {}
      },
      "source": [
        "class MyCallback(tf.keras.callbacks.Callback):\n",
        "  def on_epoch_begin(self, epoch, logs=None):\n",
        "    print('Using learning_rate = ' + str(self.model.optimizer.learning_rate.numpy()))"
      ],
      "execution_count": 19,
      "outputs": []
    },
    {
      "cell_type": "code",
      "metadata": {
        "id": "sJCJ5xiMs1lf",
        "colab_type": "code",
        "colab": {
          "base_uri": "https://localhost:8080/",
          "height": 748
        },
        "outputId": "9b1303fc-7207-4e30-ecb5-b4aebef8853d"
      },
      "source": [
        "filepath = 'model.h5'\n",
        "mc = tf.keras.callbacks.ModelCheckpoint( filepath, monitor='val_loss', verbose=0, \n",
        "                                        save_best_only=True, save_weights_only=True, \n",
        "                                        mode='auto')\n",
        "es = tf.keras.callbacks.EarlyStopping(monitor='val_loss', min_delta=0, patience=20, \n",
        "                                      verbose=1, mode='auto', restore_best_weights=False)\n",
        "\n",
        "history = model.fit(x_train, y_train, epochs=100, verbose=1, \n",
        "                    validation_data=(x_val, y_val), callbacks=[mc, es],\n",
        "                    # class_weight = class_weight\n",
        "                    )"
      ],
      "execution_count": 20,
      "outputs": [
        {
          "output_type": "stream",
          "text": [
            "Epoch 1/100\n",
            "192/192 [==============================] - 76s 396ms/step - loss: 0.1736 - f1: 0.6687 - val_loss: 0.1613 - val_f1: 0.6926\n",
            "Epoch 2/100\n",
            "192/192 [==============================] - 75s 393ms/step - loss: 0.1579 - f1: 0.6963 - val_loss: 0.1579 - val_f1: 0.7030\n",
            "Epoch 3/100\n",
            "192/192 [==============================] - 75s 393ms/step - loss: 0.1549 - f1: 0.7002 - val_loss: 0.1556 - val_f1: 0.7095\n",
            "Epoch 4/100\n",
            "192/192 [==============================] - 75s 393ms/step - loss: 0.1522 - f1: 0.7040 - val_loss: 0.1553 - val_f1: 0.7063\n",
            "Epoch 5/100\n",
            "192/192 [==============================] - 75s 393ms/step - loss: 0.1502 - f1: 0.7038 - val_loss: 0.1549 - val_f1: 0.7121\n",
            "Epoch 6/100\n",
            "192/192 [==============================] - 75s 393ms/step - loss: 0.1497 - f1: 0.7061 - val_loss: 0.1567 - val_f1: 0.7095\n",
            "Epoch 7/100\n",
            "192/192 [==============================] - 75s 393ms/step - loss: 0.1467 - f1: 0.7130 - val_loss: 0.1542 - val_f1: 0.7050\n",
            "Epoch 8/100\n",
            "192/192 [==============================] - 75s 393ms/step - loss: 0.1470 - f1: 0.7107 - val_loss: 0.1589 - val_f1: 0.6906\n",
            "Epoch 9/100\n",
            "192/192 [==============================] - 75s 393ms/step - loss: 0.1458 - f1: 0.7134 - val_loss: 0.1550 - val_f1: 0.7161\n",
            "Epoch 10/100\n",
            "192/192 [==============================] - 76s 393ms/step - loss: 0.1459 - f1: 0.7120 - val_loss: 0.1524 - val_f1: 0.7115\n",
            "Epoch 11/100\n",
            "192/192 [==============================] - 75s 393ms/step - loss: 0.1453 - f1: 0.7139 - val_loss: 0.1579 - val_f1: 0.6952\n",
            "Epoch 12/100\n",
            "192/192 [==============================] - 76s 393ms/step - loss: 0.1451 - f1: 0.7148 - val_loss: 0.1516 - val_f1: 0.7141\n",
            "Epoch 13/100\n",
            "192/192 [==============================] - 75s 393ms/step - loss: 0.1455 - f1: 0.7121 - val_loss: 0.1604 - val_f1: 0.6978\n",
            "Epoch 14/100\n",
            "192/192 [==============================] - 76s 393ms/step - loss: 0.1439 - f1: 0.7161 - val_loss: 0.1513 - val_f1: 0.7089\n",
            "Epoch 15/100\n",
            "192/192 [==============================] - 75s 393ms/step - loss: 0.1436 - f1: 0.7179 - val_loss: 0.1550 - val_f1: 0.7154\n",
            "Epoch 16/100\n",
            "192/192 [==============================] - 75s 393ms/step - loss: 0.1435 - f1: 0.7169 - val_loss: 0.1558 - val_f1: 0.6965\n",
            "Epoch 17/100\n",
            "192/192 [==============================] - 75s 393ms/step - loss: 0.1425 - f1: 0.7237 - val_loss: 0.1529 - val_f1: 0.7167\n",
            "Epoch 18/100\n",
            "192/192 [==============================] - 76s 393ms/step - loss: 0.1417 - f1: 0.7187 - val_loss: 0.1538 - val_f1: 0.7154\n",
            "Epoch 19/100\n",
            "192/192 [==============================] - 75s 393ms/step - loss: 0.1404 - f1: 0.7192 - val_loss: 0.1531 - val_f1: 0.7102\n",
            "Epoch 20/100\n",
            "192/192 [==============================] - 75s 393ms/step - loss: 0.1413 - f1: 0.7252 - val_loss: 0.1573 - val_f1: 0.6978\n",
            "Epoch 21/100\n",
            "192/192 [==============================] - 75s 393ms/step - loss: 0.1407 - f1: 0.7252 - val_loss: 0.1526 - val_f1: 0.7174\n",
            "Epoch 00021: early stopping\n"
          ],
          "name": "stdout"
        }
      ]
    },
    {
      "cell_type": "code",
      "metadata": {
        "id": "EbzW9kTXs4l3",
        "colab_type": "code",
        "colab": {
          "base_uri": "https://localhost:8080/",
          "height": 893
        },
        "outputId": "7c993f50-cf33-4b36-9e41-e1d5b23c04eb"
      },
      "source": [
        "import matplotlib.pyplot as plt\n",
        "import seaborn as sns\n",
        "\n",
        "history = history.history\n",
        "\n",
        "fig, (ax1, ax2) = plt.subplots(2, 1, sharex='col', figsize=(20, 14))\n",
        "\n",
        "ax1.plot(history['loss'], label='Training')\n",
        "ax1.plot(history['val_loss'], label='Validation')\n",
        "ax1.legend(loc='best')\n",
        "ax1.set_title('Loss')\n",
        "\n",
        "ax2.plot(history['f1'], label='Training')\n",
        "ax2.plot(history['val_f1'], label='Validation')\n",
        "ax2.legend(loc='best')\n",
        "ax2.set_title('F1 Score')\n",
        "\n",
        "plt.xlabel('Epochs')\n",
        "sns.despine()\n",
        "plt.show()"
      ],
      "execution_count": 21,
      "outputs": [
        {
          "output_type": "stream",
          "text": [
            "/usr/local/lib/python3.6/dist-packages/statsmodels/tools/_testing.py:19: FutureWarning: pandas.util.testing is deprecated. Use the functions in the public API at pandas.testing instead.\n",
            "  import pandas.util.testing as tm\n"
          ],
          "name": "stderr"
        },
        {
          "output_type": "display_data",
          "data": {
            "image/png": "[encoded data removed]",
            "text/plain": [
              "<Figure size 1440x1008 with 2 Axes>"
            ]
          },
          "metadata": {
            "tags": [],
            "needs_background": "light"
          }
        }
      ]
    },
    {
      "cell_type": "code",
      "metadata": {
        "id": "0ACjxYH6F8wr",
        "colab_type": "code",
        "colab": {
          "base_uri": "https://localhost:8080/",
          "height": 391
        },
        "outputId": "c2d3a281-15b6-4fbd-8723-528decac4f96"
      },
      "source": [
        "model.load_weights(filepath)\n",
        "model.get_layer(name='keras_layer').trainable = True\n",
        "model.summary()"
      ],
      "execution_count": 22,
      "outputs": [
        {
          "output_type": "stream",
          "text": [
            "Model: \"functional_1\"\n",
            "__________________________________________________________________________________________________\n",
            "Layer (type)                    Output Shape         Param #     Connected to                     \n",
            "==================================================================================================\n",
            "input_word_ids (InputLayer)     [(None, 256)]        0                                            \n",
            "__________________________________________________________________________________________________\n",
            "input_mask (InputLayer)         [(None, 256)]        0                                            \n",
            "__________________________________________________________________________________________________\n",
            "segment_ids (InputLayer)        [(None, 256)]        0                                            \n",
            "__________________________________________________________________________________________________\n",
            "keras_layer (KerasLayer)        [(None, 768), (None, 11683584    input_word_ids[0][0]             \n",
            "                                                                 input_mask[0][0]                 \n",
            "                                                                 segment_ids[0][0]                \n",
            "__________________________________________________________________________________________________\n",
            "dense (Dense)                   (None, 32)           24608       keras_layer[0][0]                \n",
            "__________________________________________________________________________________________________\n",
            "dense_1 (Dense)                 (None, 4)            132         dense[0][0]                      \n",
            "==================================================================================================\n",
            "Total params: 11,708,324\n",
            "Trainable params: 11,708,324\n",
            "Non-trainable params: 0\n",
            "__________________________________________________________________________________________________\n"
          ],
          "name": "stdout"
        }
      ]
    },
    {
      "cell_type": "code",
      "metadata": {
        "id": "4g3zOGbXGNNc",
        "colab_type": "code",
        "colab": {}
      },
      "source": [
        "model.compile(optimizer=tf.keras.optimizers.Adam(learning_rate=1e-6), \n",
        "              loss=tfa.losses.SigmoidFocalCrossEntropy(), \n",
        "              metrics=[f1_score])"
      ],
      "execution_count": 23,
      "outputs": []
    },
    {
      "cell_type": "code",
      "metadata": {
        "id": "s7WPBZZpGl9I",
        "colab_type": "code",
        "colab": {
          "base_uri": "https://localhost:8080/",
          "height": 1000
        },
        "outputId": "a76fd1f8-20ba-4eff-a782-681f13d2efb3"
      },
      "source": [
        "history = model.fit(x_train, y_train, epochs=100, verbose=1, \n",
        "                    validation_data=(x_val, y_val), callbacks=[mc, es],\n",
        "                    # class_weight = class_weight\n",
        "                    )"
      ],
      "execution_count": 24,
      "outputs": [
        {
          "output_type": "stream",
          "text": [
            "Epoch 1/100\n",
            "192/192 [==============================] - 193s 1s/step - loss: 0.1547 - f1: 0.7072 - val_loss: 0.1491 - val_f1: 0.7350\n",
            "Epoch 2/100\n",
            "192/192 [==============================] - 193s 1s/step - loss: 0.1447 - f1: 0.7347 - val_loss: 0.1423 - val_f1: 0.7513\n",
            "Epoch 3/100\n",
            "192/192 [==============================] - 193s 1s/step - loss: 0.1370 - f1: 0.7562 - val_loss: 0.1376 - val_f1: 0.7591\n",
            "Epoch 4/100\n",
            "192/192 [==============================] - 193s 1s/step - loss: 0.1318 - f1: 0.7637 - val_loss: 0.1342 - val_f1: 0.7624\n",
            "Epoch 5/100\n",
            "192/192 [==============================] - 193s 1s/step - loss: 0.1273 - f1: 0.7706 - val_loss: 0.1343 - val_f1: 0.7676\n",
            "Epoch 6/100\n",
            "192/192 [==============================] - 193s 1s/step - loss: 0.1237 - f1: 0.7735 - val_loss: 0.1327 - val_f1: 0.7676\n",
            "Epoch 7/100\n",
            "192/192 [==============================] - 193s 1s/step - loss: 0.1199 - f1: 0.7797 - val_loss: 0.1325 - val_f1: 0.7676\n",
            "Epoch 8/100\n",
            "192/192 [==============================] - 193s 1s/step - loss: 0.1167 - f1: 0.7826 - val_loss: 0.1317 - val_f1: 0.7683\n",
            "Epoch 9/100\n",
            "192/192 [==============================] - 193s 1s/step - loss: 0.1132 - f1: 0.7869 - val_loss: 0.1302 - val_f1: 0.7689\n",
            "Epoch 10/100\n",
            "192/192 [==============================] - 193s 1s/step - loss: 0.1090 - f1: 0.7901 - val_loss: 0.1329 - val_f1: 0.7676\n",
            "Epoch 11/100\n",
            "192/192 [==============================] - 193s 1s/step - loss: 0.1052 - f1: 0.8014 - val_loss: 0.1312 - val_f1: 0.7650\n",
            "Epoch 12/100\n",
            "192/192 [==============================] - 193s 1s/step - loss: 0.1020 - f1: 0.8037 - val_loss: 0.1360 - val_f1: 0.7728\n",
            "Epoch 13/100\n",
            "192/192 [==============================] - 193s 1s/step - loss: 0.0978 - f1: 0.8122 - val_loss: 0.1356 - val_f1: 0.7709\n",
            "Epoch 14/100\n",
            "192/192 [==============================] - 193s 1s/step - loss: 0.0926 - f1: 0.8216 - val_loss: 0.1364 - val_f1: 0.7722\n",
            "Epoch 15/100\n",
            "192/192 [==============================] - 193s 1s/step - loss: 0.0888 - f1: 0.8309 - val_loss: 0.1377 - val_f1: 0.7676\n",
            "Epoch 16/100\n",
            "192/192 [==============================] - 193s 1s/step - loss: 0.0841 - f1: 0.8362 - val_loss: 0.1383 - val_f1: 0.7624\n",
            "Epoch 17/100\n",
            "192/192 [==============================] - 193s 1s/step - loss: 0.0799 - f1: 0.8450 - val_loss: 0.1424 - val_f1: 0.7644\n",
            "Epoch 18/100\n",
            "192/192 [==============================] - 193s 1s/step - loss: 0.0755 - f1: 0.8528 - val_loss: 0.1456 - val_f1: 0.7683\n",
            "Epoch 19/100\n",
            "122/192 [==================>...........] - ETA: 1:04 - loss: 0.0699 - f1: 0.8612"
          ],
          "name": "stdout"
        },
        {
          "output_type": "error",
          "ename": "KeyboardInterrupt",
          "evalue": "ignored",
          "traceback": [
            "\u001b[0;31m---------------------------------------------------------------------------\u001b[0m",
            "\u001b[0;31mKeyboardInterrupt\u001b[0m                         Traceback (most recent call last)",
            "\u001b[0;32m<ipython-input-24-ad876722d392>\u001b[0m in \u001b[0;36m<module>\u001b[0;34m()\u001b[0m\n\u001b[1;32m      1\u001b[0m history = model.fit(x_train, y_train, epochs=100, verbose=1, \n\u001b[0;32m----> 2\u001b[0;31m                     \u001b[0mvalidation_data\u001b[0m\u001b[0;34m=\u001b[0m\u001b[0;34m(\u001b[0m\u001b[0mx_val\u001b[0m\u001b[0;34m,\u001b[0m \u001b[0my_val\u001b[0m\u001b[0;34m)\u001b[0m\u001b[0;34m,\u001b[0m \u001b[0mcallbacks\u001b[0m\u001b[0;34m=\u001b[0m\u001b[0;34m[\u001b[0m\u001b[0mmc\u001b[0m\u001b[0;34m,\u001b[0m \u001b[0mes\u001b[0m\u001b[0;34m]\u001b[0m\u001b[0;34m,\u001b[0m\u001b[0;34m\u001b[0m\u001b[0;34m\u001b[0m\u001b[0m\n\u001b[0m\u001b[1;32m      3\u001b[0m                     \u001b[0;31m# class_weight = class_weight\u001b[0m\u001b[0;34m\u001b[0m\u001b[0;34m\u001b[0m\u001b[0;34m\u001b[0m\u001b[0m\n\u001b[1;32m      4\u001b[0m                     )\n",
            "\u001b[0;32m/usr/local/lib/python3.6/dist-packages/tensorflow/python/keras/engine/training.py\u001b[0m in \u001b[0;36m_method_wrapper\u001b[0;34m(self, *args, **kwargs)\u001b[0m\n\u001b[1;32m    106\u001b[0m   \u001b[0;32mdef\u001b[0m \u001b[0m_method_wrapper\u001b[0m\u001b[0;34m(\u001b[0m\u001b[0mself\u001b[0m\u001b[0;34m,\u001b[0m \u001b[0;34m*\u001b[0m\u001b[0margs\u001b[0m\u001b[0;34m,\u001b[0m \u001b[0;34m**\u001b[0m\u001b[0mkwargs\u001b[0m\u001b[0;34m)\u001b[0m\u001b[0;34m:\u001b[0m\u001b[0;34m\u001b[0m\u001b[0;34m\u001b[0m\u001b[0m\n\u001b[1;32m    107\u001b[0m     \u001b[0;32mif\u001b[0m \u001b[0;32mnot\u001b[0m \u001b[0mself\u001b[0m\u001b[0;34m.\u001b[0m\u001b[0m_in_multi_worker_mode\u001b[0m\u001b[0;34m(\u001b[0m\u001b[0;34m)\u001b[0m\u001b[0;34m:\u001b[0m  \u001b[0;31m# pylint: disable=protected-access\u001b[0m\u001b[0;34m\u001b[0m\u001b[0;34m\u001b[0m\u001b[0m\n\u001b[0;32m--> 108\u001b[0;31m       \u001b[0;32mreturn\u001b[0m \u001b[0mmethod\u001b[0m\u001b[0;34m(\u001b[0m\u001b[0mself\u001b[0m\u001b[0;34m,\u001b[0m \u001b[0;34m*\u001b[0m\u001b[0margs\u001b[0m\u001b[0;34m,\u001b[0m \u001b[0;34m**\u001b[0m\u001b[0mkwargs\u001b[0m\u001b[0;34m)\u001b[0m\u001b[0;34m\u001b[0m\u001b[0;34m\u001b[0m\u001b[0m\n\u001b[0m\u001b[1;32m    109\u001b[0m \u001b[0;34m\u001b[0m\u001b[0m\n\u001b[1;32m    110\u001b[0m     \u001b[0;31m# Running inside `run_distribute_coordinator` already.\u001b[0m\u001b[0;34m\u001b[0m\u001b[0;34m\u001b[0m\u001b[0;34m\u001b[0m\u001b[0m\n",
            "\u001b[0;32m/usr/local/lib/python3.6/dist-packages/tensorflow/python/keras/engine/training.py\u001b[0m in \u001b[0;36mfit\u001b[0;34m(self, x, y, batch_size, epochs, verbose, callbacks, validation_split, validation_data, shuffle, class_weight, sample_weight, initial_epoch, steps_per_epoch, validation_steps, validation_batch_size, validation_freq, max_queue_size, workers, use_multiprocessing)\u001b[0m\n\u001b[1;32m   1096\u001b[0m                 batch_size=batch_size):\n\u001b[1;32m   1097\u001b[0m               \u001b[0mcallbacks\u001b[0m\u001b[0;34m.\u001b[0m\u001b[0mon_train_batch_begin\u001b[0m\u001b[0;34m(\u001b[0m\u001b[0mstep\u001b[0m\u001b[0;34m)\u001b[0m\u001b[0;34m\u001b[0m\u001b[0;34m\u001b[0m\u001b[0m\n\u001b[0;32m-> 1098\u001b[0;31m               \u001b[0mtmp_logs\u001b[0m \u001b[0;34m=\u001b[0m \u001b[0mtrain_function\u001b[0m\u001b[0;34m(\u001b[0m\u001b[0miterator\u001b[0m\u001b[0;34m)\u001b[0m\u001b[0;34m\u001b[0m\u001b[0;34m\u001b[0m\u001b[0m\n\u001b[0m\u001b[1;32m   1099\u001b[0m               \u001b[0;32mif\u001b[0m \u001b[0mdata_handler\u001b[0m\u001b[0;34m.\u001b[0m\u001b[0mshould_sync\u001b[0m\u001b[0;34m:\u001b[0m\u001b[0;34m\u001b[0m\u001b[0;34m\u001b[0m\u001b[0m\n\u001b[1;32m   1100\u001b[0m                 \u001b[0mcontext\u001b[0m\u001b[0;34m.\u001b[0m\u001b[0masync_wait\u001b[0m\u001b[0;34m(\u001b[0m\u001b[0;34m)\u001b[0m\u001b[0;34m\u001b[0m\u001b[0;34m\u001b[0m\u001b[0m\n",
            "\u001b[0;32m/usr/local/lib/python3.6/dist-packages/tensorflow/python/eager/def_function.py\u001b[0m in \u001b[0;36m__call__\u001b[0;34m(self, *args, **kwds)\u001b[0m\n\u001b[1;32m    778\u001b[0m       \u001b[0;32melse\u001b[0m\u001b[0;34m:\u001b[0m\u001b[0;34m\u001b[0m\u001b[0;34m\u001b[0m\u001b[0m\n\u001b[1;32m    779\u001b[0m         \u001b[0mcompiler\u001b[0m \u001b[0;34m=\u001b[0m \u001b[0;34m\"nonXla\"\u001b[0m\u001b[0;34m\u001b[0m\u001b[0;34m\u001b[0m\u001b[0m\n\u001b[0;32m--> 780\u001b[0;31m         \u001b[0mresult\u001b[0m \u001b[0;34m=\u001b[0m \u001b[0mself\u001b[0m\u001b[0;34m.\u001b[0m\u001b[0m_call\u001b[0m\u001b[0;34m(\u001b[0m\u001b[0;34m*\u001b[0m\u001b[0margs\u001b[0m\u001b[0;34m,\u001b[0m \u001b[0;34m**\u001b[0m\u001b[0mkwds\u001b[0m\u001b[0;34m)\u001b[0m\u001b[0;34m\u001b[0m\u001b[0;34m\u001b[0m\u001b[0m\n\u001b[0m\u001b[1;32m    781\u001b[0m \u001b[0;34m\u001b[0m\u001b[0m\n\u001b[1;32m    782\u001b[0m       \u001b[0mnew_tracing_count\u001b[0m \u001b[0;34m=\u001b[0m \u001b[0mself\u001b[0m\u001b[0;34m.\u001b[0m\u001b[0m_get_tracing_count\u001b[0m\u001b[0;34m(\u001b[0m\u001b[0;34m)\u001b[0m\u001b[0;34m\u001b[0m\u001b[0;34m\u001b[0m\u001b[0m\n",
            "\u001b[0;32m/usr/local/lib/python3.6/dist-packages/tensorflow/python/eager/def_function.py\u001b[0m in \u001b[0;36m_call\u001b[0;34m(self, *args, **kwds)\u001b[0m\n\u001b[1;32m    805\u001b[0m       \u001b[0;31m# In this case we have created variables on the first call, so we run the\u001b[0m\u001b[0;34m\u001b[0m\u001b[0;34m\u001b[0m\u001b[0;34m\u001b[0m\u001b[0m\n\u001b[1;32m    806\u001b[0m       \u001b[0;31m# defunned version which is guaranteed to never create variables.\u001b[0m\u001b[0;34m\u001b[0m\u001b[0;34m\u001b[0m\u001b[0;34m\u001b[0m\u001b[0m\n\u001b[0;32m--> 807\u001b[0;31m       \u001b[0;32mreturn\u001b[0m \u001b[0mself\u001b[0m\u001b[0;34m.\u001b[0m\u001b[0m_stateless_fn\u001b[0m\u001b[0;34m(\u001b[0m\u001b[0;34m*\u001b[0m\u001b[0margs\u001b[0m\u001b[0;34m,\u001b[0m \u001b[0;34m**\u001b[0m\u001b[0mkwds\u001b[0m\u001b[0;34m)\u001b[0m  \u001b[0;31m# pylint: disable=not-callable\u001b[0m\u001b[0;34m\u001b[0m\u001b[0;34m\u001b[0m\u001b[0m\n\u001b[0m\u001b[1;32m    808\u001b[0m     \u001b[0;32melif\u001b[0m \u001b[0mself\u001b[0m\u001b[0;34m.\u001b[0m\u001b[0m_stateful_fn\u001b[0m \u001b[0;32mis\u001b[0m \u001b[0;32mnot\u001b[0m \u001b[0;32mNone\u001b[0m\u001b[0;34m:\u001b[0m\u001b[0;34m\u001b[0m\u001b[0;34m\u001b[0m\u001b[0m\n\u001b[1;32m    809\u001b[0m       \u001b[0;31m# Release the lock early so that multiple threads can perform the call\u001b[0m\u001b[0;34m\u001b[0m\u001b[0;34m\u001b[0m\u001b[0;34m\u001b[0m\u001b[0m\n",
            "\u001b[0;32m/usr/local/lib/python3.6/dist-packages/tensorflow/python/eager/function.py\u001b[0m in \u001b[0;36m__call__\u001b[0;34m(self, *args, **kwargs)\u001b[0m\n\u001b[1;32m   2827\u001b[0m     \u001b[0;32mwith\u001b[0m \u001b[0mself\u001b[0m\u001b[0;34m.\u001b[0m\u001b[0m_lock\u001b[0m\u001b[0;34m:\u001b[0m\u001b[0;34m\u001b[0m\u001b[0;34m\u001b[0m\u001b[0m\n\u001b[1;32m   2828\u001b[0m       \u001b[0mgraph_function\u001b[0m\u001b[0;34m,\u001b[0m \u001b[0margs\u001b[0m\u001b[0;34m,\u001b[0m \u001b[0mkwargs\u001b[0m \u001b[0;34m=\u001b[0m \u001b[0mself\u001b[0m\u001b[0;34m.\u001b[0m\u001b[0m_maybe_define_function\u001b[0m\u001b[0;34m(\u001b[0m\u001b[0margs\u001b[0m\u001b[0;34m,\u001b[0m \u001b[0mkwargs\u001b[0m\u001b[0;34m)\u001b[0m\u001b[0;34m\u001b[0m\u001b[0;34m\u001b[0m\u001b[0m\n\u001b[0;32m-> 2829\u001b[0;31m     \u001b[0;32mreturn\u001b[0m \u001b[0mgraph_function\u001b[0m\u001b[0;34m.\u001b[0m\u001b[0m_filtered_call\u001b[0m\u001b[0;34m(\u001b[0m\u001b[0margs\u001b[0m\u001b[0;34m,\u001b[0m \u001b[0mkwargs\u001b[0m\u001b[0;34m)\u001b[0m  \u001b[0;31m# pylint: disable=protected-access\u001b[0m\u001b[0;34m\u001b[0m\u001b[0;34m\u001b[0m\u001b[0m\n\u001b[0m\u001b[1;32m   2830\u001b[0m \u001b[0;34m\u001b[0m\u001b[0m\n\u001b[1;32m   2831\u001b[0m   \u001b[0;34m@\u001b[0m\u001b[0mproperty\u001b[0m\u001b[0;34m\u001b[0m\u001b[0;34m\u001b[0m\u001b[0m\n",
            "\u001b[0;32m/usr/local/lib/python3.6/dist-packages/tensorflow/python/eager/function.py\u001b[0m in \u001b[0;36m_filtered_call\u001b[0;34m(self, args, kwargs, cancellation_manager)\u001b[0m\n\u001b[1;32m   1846\u001b[0m                            resource_variable_ops.BaseResourceVariable))],\n\u001b[1;32m   1847\u001b[0m         \u001b[0mcaptured_inputs\u001b[0m\u001b[0;34m=\u001b[0m\u001b[0mself\u001b[0m\u001b[0;34m.\u001b[0m\u001b[0mcaptured_inputs\u001b[0m\u001b[0;34m,\u001b[0m\u001b[0;34m\u001b[0m\u001b[0;34m\u001b[0m\u001b[0m\n\u001b[0;32m-> 1848\u001b[0;31m         cancellation_manager=cancellation_manager)\n\u001b[0m\u001b[1;32m   1849\u001b[0m \u001b[0;34m\u001b[0m\u001b[0m\n\u001b[1;32m   1850\u001b[0m   \u001b[0;32mdef\u001b[0m \u001b[0m_call_flat\u001b[0m\u001b[0;34m(\u001b[0m\u001b[0mself\u001b[0m\u001b[0;34m,\u001b[0m \u001b[0margs\u001b[0m\u001b[0;34m,\u001b[0m \u001b[0mcaptured_inputs\u001b[0m\u001b[0;34m,\u001b[0m \u001b[0mcancellation_manager\u001b[0m\u001b[0;34m=\u001b[0m\u001b[0;32mNone\u001b[0m\u001b[0;34m)\u001b[0m\u001b[0;34m:\u001b[0m\u001b[0;34m\u001b[0m\u001b[0;34m\u001b[0m\u001b[0m\n",
            "\u001b[0;32m/usr/local/lib/python3.6/dist-packages/tensorflow/python/eager/function.py\u001b[0m in \u001b[0;36m_call_flat\u001b[0;34m(self, args, captured_inputs, cancellation_manager)\u001b[0m\n\u001b[1;32m   1922\u001b[0m       \u001b[0;31m# No tape is watching; skip to running the function.\u001b[0m\u001b[0;34m\u001b[0m\u001b[0;34m\u001b[0m\u001b[0;34m\u001b[0m\u001b[0m\n\u001b[1;32m   1923\u001b[0m       return self._build_call_outputs(self._inference_function.call(\n\u001b[0;32m-> 1924\u001b[0;31m           ctx, args, cancellation_manager=cancellation_manager))\n\u001b[0m\u001b[1;32m   1925\u001b[0m     forward_backward = self._select_forward_and_backward_functions(\n\u001b[1;32m   1926\u001b[0m         \u001b[0margs\u001b[0m\u001b[0;34m,\u001b[0m\u001b[0;34m\u001b[0m\u001b[0;34m\u001b[0m\u001b[0m\n",
            "\u001b[0;32m/usr/local/lib/python3.6/dist-packages/tensorflow/python/eager/function.py\u001b[0m in \u001b[0;36mcall\u001b[0;34m(self, ctx, args, cancellation_manager)\u001b[0m\n\u001b[1;32m    548\u001b[0m               \u001b[0minputs\u001b[0m\u001b[0;34m=\u001b[0m\u001b[0margs\u001b[0m\u001b[0;34m,\u001b[0m\u001b[0;34m\u001b[0m\u001b[0;34m\u001b[0m\u001b[0m\n\u001b[1;32m    549\u001b[0m               \u001b[0mattrs\u001b[0m\u001b[0;34m=\u001b[0m\u001b[0mattrs\u001b[0m\u001b[0;34m,\u001b[0m\u001b[0;34m\u001b[0m\u001b[0;34m\u001b[0m\u001b[0m\n\u001b[0;32m--> 550\u001b[0;31m               ctx=ctx)\n\u001b[0m\u001b[1;32m    551\u001b[0m         \u001b[0;32melse\u001b[0m\u001b[0;34m:\u001b[0m\u001b[0;34m\u001b[0m\u001b[0;34m\u001b[0m\u001b[0m\n\u001b[1;32m    552\u001b[0m           outputs = execute.execute_with_cancellation(\n",
            "\u001b[0;32m/usr/local/lib/python3.6/dist-packages/tensorflow/python/eager/execute.py\u001b[0m in \u001b[0;36mquick_execute\u001b[0;34m(op_name, num_outputs, inputs, attrs, ctx, name)\u001b[0m\n\u001b[1;32m     58\u001b[0m     \u001b[0mctx\u001b[0m\u001b[0;34m.\u001b[0m\u001b[0mensure_initialized\u001b[0m\u001b[0;34m(\u001b[0m\u001b[0;34m)\u001b[0m\u001b[0;34m\u001b[0m\u001b[0;34m\u001b[0m\u001b[0m\n\u001b[1;32m     59\u001b[0m     tensors = pywrap_tfe.TFE_Py_Execute(ctx._handle, device_name, op_name,\n\u001b[0;32m---> 60\u001b[0;31m                                         inputs, attrs, num_outputs)\n\u001b[0m\u001b[1;32m     61\u001b[0m   \u001b[0;32mexcept\u001b[0m \u001b[0mcore\u001b[0m\u001b[0;34m.\u001b[0m\u001b[0m_NotOkStatusException\u001b[0m \u001b[0;32mas\u001b[0m \u001b[0me\u001b[0m\u001b[0;34m:\u001b[0m\u001b[0;34m\u001b[0m\u001b[0;34m\u001b[0m\u001b[0m\n\u001b[1;32m     62\u001b[0m     \u001b[0;32mif\u001b[0m \u001b[0mname\u001b[0m \u001b[0;32mis\u001b[0m \u001b[0;32mnot\u001b[0m \u001b[0;32mNone\u001b[0m\u001b[0;34m:\u001b[0m\u001b[0;34m\u001b[0m\u001b[0;34m\u001b[0m\u001b[0m\n",
            "\u001b[0;31mKeyboardInterrupt\u001b[0m: "
          ]
        }
      ]
    },
    {
      "cell_type": "code",
      "metadata": {
        "id": "eOG8Vu70GuyB",
        "colab_type": "code",
        "colab": {}
      },
      "source": [
        "history = history.history\n",
        "\n",
        "fig, (ax1, ax2) = plt.subplots(2, 1, sharex='col', figsize=(20, 14))\n",
        "\n",
        "ax1.plot(history['loss'], label='Training')\n",
        "ax1.plot(history['val_loss'], label='Validation')\n",
        "ax1.legend(loc='best')\n",
        "ax1.set_title('Loss')\n",
        "\n",
        "ax2.plot(history['f1'], label='Training')\n",
        "ax2.plot(history['val_f1'], label='Validation')\n",
        "ax2.legend(loc='best')\n",
        "ax2.set_title('F1 Score')\n",
        "\n",
        "plt.xlabel('Epochs')\n",
        "sns.despine()\n",
        "plt.show()"
      ],
      "execution_count": null,
      "outputs": []
    },
    {
      "cell_type": "code",
      "metadata": {
        "id": "QdKwCZsjs8yr",
        "colab_type": "code",
        "colab": {}
      },
      "source": [
        "model.load_weights(filepath)\n",
        "model.evaluate(x_test, y_test, verbose=1)"
      ],
      "execution_count": null,
      "outputs": []
    },
    {
      "cell_type": "markdown",
      "metadata": {
        "id": "eD5N7Ncqs9ae",
        "colab_type": "text"
      },
      "source": [
        "* Adam, trainable=False                        : loss: 0.8156 - f1: 0.7213\n",
        "* Adam, trainable=True                         : loss: 0.9203 - f1: 0.7006\n",
        "* Adam with class weights, tr=False            : loss: 1.1690 - f1: 0.4970\n",
        "* Adam with class weights, tr=True             : loss: 1.3971 - f1: 0.0463\n",
        "* Adam with SigmoidFocalCrossEntropy, tr=False : loss: 0.1511 - f1: 0.7175\n",
        "* Adam with SigmoidFocalCrossEntropy, tr=True  : loss: 0.1640 - f1: 0.7006\n",
        "* RAdam with SFCE, tr=False                    : loss: 0.1480 - f1: 0.7191\n",
        "* RAdam with SFCE, tr=True                     : loss: 0.1634 - f1: 0.7006\n",
        "* RAdam with warmup, SFCE, tr=False            : loss: 0.1511 - f1: 0.7175\n",
        "* RAdam with warmup, SFCE, tr=True             : \n",
        "\n",
        "* Adam with fine-tuning                        : **loss: 0.1671 - f1: 0.7654**\n",
        "\n",
        "Go with original spits!\n",
        "\n",
        "1D droput?\n",
        "\n",
        "SWA?\n",
        "switch to monitor val_loss\n",
        "\n",
        "Oversampling the minority classes"
      ]
    },
    {
      "cell_type": "code",
      "metadata": {
        "id": "K5YrT1oIB1m3",
        "colab_type": "code",
        "colab": {}
      },
      "source": [
        "y_pred = model.predict(x_test)\n",
        "y_pred = y_pred.argmax(axis=1)"
      ],
      "execution_count": null,
      "outputs": []
    },
    {
      "cell_type": "code",
      "metadata": {
        "id": "wONv9FqDBoid",
        "colab_type": "code",
        "colab": {}
      },
      "source": [
        "from sklearn.metrics import classification_report\n",
        "print(classification_report(y_true, y_pred, target_names=labelEncoder.classes_))"
      ],
      "execution_count": null,
      "outputs": []
    }
  ]
}