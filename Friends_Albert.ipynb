{
  "nbformat": 4,
  "nbformat_minor": 0,
  "metadata": {
    "colab": {
      "name": "Friends_Albert.ipynb",
      "provenance": [],
      "collapsed_sections": [],
      "authorship_tag": "ABX9TyPhuGKGvKsenzPL1HZKeCQ4",
      "include_colab_link": true
    },
    "kernelspec": {
      "name": "python3",
      "display_name": "Python 3"
    },
    "accelerator": "GPU"
  },
  "cells": [
    {
      "cell_type": "markdown",
      "metadata": {
        "id": "view-in-github",
        "colab_type": "text"
      },
      "source": [
        "<a href=\"https://colab.research.google.com/github/dcpatton/NLP/blob/master/Friends_Albert.ipynb\" target=\"_parent\"><img src=\"https://colab.research.google.com/assets/colab-badge.svg\" alt=\"Open In Colab\"/></a>"
      ]
    },
    {
      "cell_type": "markdown",
      "metadata": {
        "id": "VNI2g8JNcZIM",
        "colab_type": "text"
      },
      "source": [
        "**TODO**:\n",
        "\n",
        "*   Better text augmentation\n",
        "*   Add speaker as input2\n",
        "*   Add the annotation as an output target\n",
        "*   Ensemble model\n"
      ]
    },
    {
      "cell_type": "code",
      "metadata": {
        "id": "Pcb8ok5tXZ6w",
        "colab_type": "code",
        "colab": {
          "base_uri": "https://localhost:8080/",
          "height": 34
        },
        "outputId": "801c80c8-c656-4a5d-b38c-e380ba1a4e07"
      },
      "source": [
        "import tensorflow as tf\n",
        "import tensorflow_hub as hub\n",
        "import random\n",
        "\n",
        "print(tf.__version__)\n",
        "\n",
        "seed = 51\n",
        "\n",
        "tf.random.set_seed(seed)\n",
        "random.seed(seed)"
      ],
      "execution_count": 1,
      "outputs": [
        {
          "output_type": "stream",
          "text": [
            "2.3.0\n"
          ],
          "name": "stdout"
        }
      ]
    },
    {
      "cell_type": "markdown",
      "metadata": {
        "id": "81wwUJpeZcP-",
        "colab_type": "text"
      },
      "source": [
        "# Load and prep data"
      ]
    },
    {
      "cell_type": "code",
      "metadata": {
        "id": "ig2mn5ZJZWNf",
        "colab_type": "code",
        "colab": {
          "resources": {
            "http://localhost:8080/nbextensions/google.colab/files.js": {
              "data": "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",
              "ok": true,
              "headers": [
                [
                  "content-type",
                  "application/javascript"
                ]
              ],
              "status": 200,
              "status_text": ""
            }
          },
          "base_uri": "https://localhost:8080/",
          "height": 140
        },
        "outputId": "f86c8bcf-8c30-42d0-bb1b-3ada055610bf"
      },
      "source": [
        "from google.colab import files\n",
        "uploaded = files.upload()"
      ],
      "execution_count": 2,
      "outputs": [
        {
          "output_type": "display_data",
          "data": {
            "text/html": [
              "\n",
              "     <input type=\"file\" id=\"files-b047a250-8389-41d6-8249-88e4f62c3746\" name=\"files[]\" multiple disabled\n",
              "        style=\"border:none\" />\n",
              "     <output id=\"result-b047a250-8389-41d6-8249-88e4f62c3746\">\n",
              "      Upload widget is only available when the cell has been executed in the\n",
              "      current browser session. Please rerun this cell to enable.\n",
              "      </output>\n",
              "      <script src=\"/nbextensions/google.colab/files.js\"></script> "
            ],
            "text/plain": [
              "<IPython.core.display.HTML object>"
            ]
          },
          "metadata": {
            "tags": []
          }
        },
        {
          "output_type": "stream",
          "text": [
            "Saving friends_test.json to friends_test.json\n",
            "Saving friends_dev.json to friends_dev.json\n",
            "Saving friends_train.json to friends_train.json\n"
          ],
          "name": "stdout"
        }
      ]
    },
    {
      "cell_type": "markdown",
      "metadata": {
        "id": "bjs7PpQaeaYg",
        "colab_type": "text"
      },
      "source": [
        "# Albert"
      ]
    },
    {
      "cell_type": "code",
      "metadata": {
        "id": "DXywVqIEr6Tc",
        "colab_type": "code",
        "colab": {
          "base_uri": "https://localhost:8080/",
          "height": 34
        },
        "outputId": "1b6731ff-86e0-49a4-eb48-e24eda549928"
      },
      "source": [
        "!pip install sentencepiece -q"
      ],
      "execution_count": 3,
      "outputs": [
        {
          "output_type": "stream",
          "text": [
            "\u001b[?25l\r\u001b[K     |▎                               | 10kB 24.4MB/s eta 0:00:01\r\u001b[K     |▋                               | 20kB 6.4MB/s eta 0:00:01\r\u001b[K     |█                               | 30kB 7.5MB/s eta 0:00:01\r\u001b[K     |█▏                              | 40kB 8.4MB/s eta 0:00:01\r\u001b[K     |█▌                              | 51kB 7.3MB/s eta 0:00:01\r\u001b[K     |█▉                              | 61kB 8.3MB/s eta 0:00:01\r\u001b[K     |██▏                             | 71kB 8.4MB/s eta 0:00:01\r\u001b[K     |██▍                             | 81kB 8.7MB/s eta 0:00:01\r\u001b[K     |██▊                             | 92kB 8.2MB/s eta 0:00:01\r\u001b[K     |███                             | 102kB 8.5MB/s eta 0:00:01\r\u001b[K     |███▍                            | 112kB 8.5MB/s eta 0:00:01\r\u001b[K     |███▋                            | 122kB 8.5MB/s eta 0:00:01\r\u001b[K     |████                            | 133kB 8.5MB/s eta 0:00:01\r\u001b[K     |████▎                           | 143kB 8.5MB/s eta 0:00:01\r\u001b[K     |████▋                           | 153kB 8.5MB/s eta 0:00:01\r\u001b[K     |████▉                           | 163kB 8.5MB/s eta 0:00:01\r\u001b[K     |█████▏                          | 174kB 8.5MB/s eta 0:00:01\r\u001b[K     |█████▌                          | 184kB 8.5MB/s eta 0:00:01\r\u001b[K     |█████▉                          | 194kB 8.5MB/s eta 0:00:01\r\u001b[K     |██████                          | 204kB 8.5MB/s eta 0:00:01\r\u001b[K     |██████▍                         | 215kB 8.5MB/s eta 0:00:01\r\u001b[K     |██████▊                         | 225kB 8.5MB/s eta 0:00:01\r\u001b[K     |███████                         | 235kB 8.5MB/s eta 0:00:01\r\u001b[K     |███████▎                        | 245kB 8.5MB/s eta 0:00:01\r\u001b[K     |███████▋                        | 256kB 8.5MB/s eta 0:00:01\r\u001b[K     |████████                        | 266kB 8.5MB/s eta 0:00:01\r\u001b[K     |████████▎                       | 276kB 8.5MB/s eta 0:00:01\r\u001b[K     |████████▌                       | 286kB 8.5MB/s eta 0:00:01\r\u001b[K     |████████▉                       | 296kB 8.5MB/s eta 0:00:01\r\u001b[K     |█████████▏                      | 307kB 8.5MB/s eta 0:00:01\r\u001b[K     |█████████▌                      | 317kB 8.5MB/s eta 0:00:01\r\u001b[K     |█████████▊                      | 327kB 8.5MB/s eta 0:00:01\r\u001b[K     |██████████                      | 337kB 8.5MB/s eta 0:00:01\r\u001b[K     |██████████▍                     | 348kB 8.5MB/s eta 0:00:01\r\u001b[K     |██████████▊                     | 358kB 8.5MB/s eta 0:00:01\r\u001b[K     |███████████                     | 368kB 8.5MB/s eta 0:00:01\r\u001b[K     |███████████▎                    | 378kB 8.5MB/s eta 0:00:01\r\u001b[K     |███████████▋                    | 389kB 8.5MB/s eta 0:00:01\r\u001b[K     |████████████                    | 399kB 8.5MB/s eta 0:00:01\r\u001b[K     |████████████▏                   | 409kB 8.5MB/s eta 0:00:01\r\u001b[K     |████████████▌                   | 419kB 8.5MB/s eta 0:00:01\r\u001b[K     |████████████▉                   | 430kB 8.5MB/s eta 0:00:01\r\u001b[K     |█████████████▏                  | 440kB 8.5MB/s eta 0:00:01\r\u001b[K     |█████████████▍                  | 450kB 8.5MB/s eta 0:00:01\r\u001b[K     |█████████████▊                  | 460kB 8.5MB/s eta 0:00:01\r\u001b[K     |██████████████                  | 471kB 8.5MB/s eta 0:00:01\r\u001b[K     |██████████████▍                 | 481kB 8.5MB/s eta 0:00:01\r\u001b[K     |██████████████▋                 | 491kB 8.5MB/s eta 0:00:01\r\u001b[K     |███████████████                 | 501kB 8.5MB/s eta 0:00:01\r\u001b[K     |███████████████▎                | 512kB 8.5MB/s eta 0:00:01\r\u001b[K     |███████████████▋                | 522kB 8.5MB/s eta 0:00:01\r\u001b[K     |███████████████▉                | 532kB 8.5MB/s eta 0:00:01\r\u001b[K     |████████████████▏               | 542kB 8.5MB/s eta 0:00:01\r\u001b[K     |████████████████▌               | 552kB 8.5MB/s eta 0:00:01\r\u001b[K     |████████████████▉               | 563kB 8.5MB/s eta 0:00:01\r\u001b[K     |█████████████████               | 573kB 8.5MB/s eta 0:00:01\r\u001b[K     |█████████████████▍              | 583kB 8.5MB/s eta 0:00:01\r\u001b[K     |█████████████████▊              | 593kB 8.5MB/s eta 0:00:01\r\u001b[K     |██████████████████              | 604kB 8.5MB/s eta 0:00:01\r\u001b[K     |██████████████████▎             | 614kB 8.5MB/s eta 0:00:01\r\u001b[K     |██████████████████▋             | 624kB 8.5MB/s eta 0:00:01\r\u001b[K     |███████████████████             | 634kB 8.5MB/s eta 0:00:01\r\u001b[K     |███████████████████▎            | 645kB 8.5MB/s eta 0:00:01\r\u001b[K     |███████████████████▌            | 655kB 8.5MB/s eta 0:00:01\r\u001b[K     |███████████████████▉            | 665kB 8.5MB/s eta 0:00:01\r\u001b[K     |████████████████████▏           | 675kB 8.5MB/s eta 0:00:01\r\u001b[K     |████████████████████▌           | 686kB 8.5MB/s eta 0:00:01\r\u001b[K     |████████████████████▊           | 696kB 8.5MB/s eta 0:00:01\r\u001b[K     |█████████████████████           | 706kB 8.5MB/s eta 0:00:01\r\u001b[K     |█████████████████████▍          | 716kB 8.5MB/s eta 0:00:01\r\u001b[K     |█████████████████████▋          | 727kB 8.5MB/s eta 0:00:01\r\u001b[K     |██████████████████████          | 737kB 8.5MB/s eta 0:00:01\r\u001b[K     |██████████████████████▎         | 747kB 8.5MB/s eta 0:00:01\r\u001b[K     |██████████████████████▋         | 757kB 8.5MB/s eta 0:00:01\r\u001b[K     |██████████████████████▉         | 768kB 8.5MB/s eta 0:00:01\r\u001b[K     |███████████████████████▏        | 778kB 8.5MB/s eta 0:00:01\r\u001b[K     |███████████████████████▌        | 788kB 8.5MB/s eta 0:00:01\r\u001b[K     |███████████████████████▉        | 798kB 8.5MB/s eta 0:00:01\r\u001b[K     |████████████████████████        | 808kB 8.5MB/s eta 0:00:01\r\u001b[K     |████████████████████████▍       | 819kB 8.5MB/s eta 0:00:01\r\u001b[K     |████████████████████████▊       | 829kB 8.5MB/s eta 0:00:01\r\u001b[K     |█████████████████████████       | 839kB 8.5MB/s eta 0:00:01\r\u001b[K     |█████████████████████████▎      | 849kB 8.5MB/s eta 0:00:01\r\u001b[K     |█████████████████████████▋      | 860kB 8.5MB/s eta 0:00:01\r\u001b[K     |██████████████████████████      | 870kB 8.5MB/s eta 0:00:01\r\u001b[K     |██████████████████████████▎     | 880kB 8.5MB/s eta 0:00:01\r\u001b[K     |██████████████████████████▌     | 890kB 8.5MB/s eta 0:00:01\r\u001b[K     |██████████████████████████▉     | 901kB 8.5MB/s eta 0:00:01\r\u001b[K     |███████████████████████████▏    | 911kB 8.5MB/s eta 0:00:01\r\u001b[K     |███████████████████████████▌    | 921kB 8.5MB/s eta 0:00:01\r\u001b[K     |███████████████████████████▊    | 931kB 8.5MB/s eta 0:00:01\r\u001b[K     |████████████████████████████    | 942kB 8.5MB/s eta 0:00:01\r\u001b[K     |████████████████████████████▍   | 952kB 8.5MB/s eta 0:00:01\r\u001b[K     |████████████████████████████▊   | 962kB 8.5MB/s eta 0:00:01\r\u001b[K     |█████████████████████████████   | 972kB 8.5MB/s eta 0:00:01\r\u001b[K     |█████████████████████████████▎  | 983kB 8.5MB/s eta 0:00:01\r\u001b[K     |█████████████████████████████▋  | 993kB 8.5MB/s eta 0:00:01\r\u001b[K     |██████████████████████████████  | 1.0MB 8.5MB/s eta 0:00:01\r\u001b[K     |██████████████████████████████▏ | 1.0MB 8.5MB/s eta 0:00:01\r\u001b[K     |██████████████████████████████▌ | 1.0MB 8.5MB/s eta 0:00:01\r\u001b[K     |██████████████████████████████▉ | 1.0MB 8.5MB/s eta 0:00:01\r\u001b[K     |███████████████████████████████▏| 1.0MB 8.5MB/s eta 0:00:01\r\u001b[K     |███████████████████████████████▍| 1.1MB 8.5MB/s eta 0:00:01\r\u001b[K     |███████████████████████████████▊| 1.1MB 8.5MB/s eta 0:00:01\r\u001b[K     |████████████████████████████████| 1.1MB 8.5MB/s \n",
            "\u001b[?25h"
          ],
          "name": "stdout"
        }
      ]
    },
    {
      "cell_type": "code",
      "metadata": {
        "id": "vbRNkNRgp4Tu",
        "colab_type": "code",
        "colab": {
          "base_uri": "https://localhost:8080/",
          "height": 34
        },
        "outputId": "98aac751-847b-44a1-b3ad-14578bc7bf9f"
      },
      "source": [
        "!wget -nv https://raw.githubusercontent.com/tensorflow/models/master/official/nlp/bert/tokenization.py"
      ],
      "execution_count": 4,
      "outputs": [
        {
          "output_type": "stream",
          "text": [
            "2020-08-07 11:37:56 URL:https://raw.githubusercontent.com/tensorflow/models/master/official/nlp/bert/tokenization.py [16775/16775] -> \"tokenization.py\" [1]\n"
          ],
          "name": "stdout"
        }
      ]
    },
    {
      "cell_type": "code",
      "metadata": {
        "id": "aoHCgKQjsjfu",
        "colab_type": "code",
        "colab": {}
      },
      "source": [
        "from numpy import array\n",
        "\n",
        "def albert_encode(texts):\n",
        "    all_tokens = []\n",
        "    all_masks = []\n",
        "    all_segments = []\n",
        "\n",
        "    for text in texts:\n",
        "      text = tokenizer.tokenize(text)\n",
        "      text = text[:max_seq_length-2]\n",
        "      input_sequence = [\"[CLS]\"] + text + [\"[SEP]\"]\n",
        "      input_sequence = text\n",
        "      pad_len = max_seq_length - len(input_sequence)\n",
        "      tokens = tokenizer.convert_tokens_to_ids(input_sequence)\n",
        "      tokens += [0] * pad_len\n",
        "      pad_masks = [1] * len(input_sequence) + [0] * pad_len\n",
        "      segment_ids = [0] * max_seq_length\n",
        "      all_tokens.append(tokens)\n",
        "      all_masks.append(pad_masks)\n",
        "      all_segments.append(segment_ids)\n",
        "\n",
        "    return [array(all_tokens), array(all_masks), array(all_segments)]"
      ],
      "execution_count": 5,
      "outputs": []
    },
    {
      "cell_type": "code",
      "metadata": {
        "id": "92NPOX43sld8",
        "colab_type": "code",
        "colab": {}
      },
      "source": [
        "def prep_data(df):\n",
        "    \n",
        "    texts = []\n",
        "    labels = []\n",
        "\n",
        "    for _,row in df.iterrows():\n",
        "      texts.append(row.utterance)\n",
        "      labels.append(row.label)\n",
        "\n",
        "    return albert_encode(texts), array(labels)"
      ],
      "execution_count": 6,
      "outputs": []
    },
    {
      "cell_type": "markdown",
      "metadata": {
        "id": "KJF4yk5_rF23",
        "colab_type": "text"
      },
      "source": [
        "# Competition prediction task\n",
        "\n",
        "\n",
        "\n",
        "> In the competition they only predict samples with joy, sadness, anger, and neutral. All others are discarded. \n",
        "\n"
      ]
    },
    {
      "cell_type": "code",
      "metadata": {
        "id": "xB2RgdeDrG7W",
        "colab_type": "code",
        "colab": {
          "base_uri": "https://localhost:8080/",
          "height": 102
        },
        "outputId": "efbd31c4-e187-4155-aef2-ed6b682984b1"
      },
      "source": [
        "import pandas as pd\n",
        "\n",
        "allowed_emotions = ['joy', 'sadness', 'anger', 'neutral']\n",
        "\n",
        "df = pd.read_json('friends_train.json')\n",
        "utterances = []\n",
        "emotions = []\n",
        "for _, row in df.iterrows():\n",
        "  for i in range(len(df.columns)):\n",
        "    if row[i] is not None and row[i]['emotion'] in allowed_emotions:\n",
        "      speaker = row[i]['speaker']\n",
        "      utterance = row[i]['utterance'].replace('\\x92', '`')\n",
        "      utterances.append(utterance)\n",
        "      # utterances.append(speaker + ' says: ' + utterance)\n",
        "      emotions.append(row[i]['emotion'])\n",
        "\n",
        "train_df = pd.DataFrame(list(zip(utterances, emotions)), \n",
        "               columns =['utterance', 'emotion']) \n",
        "\n",
        "df = pd.read_json('friends_dev.json')\n",
        "utterances = []\n",
        "emotions = []\n",
        "for _, row in df.iterrows():\n",
        "  for i in range(len(df.columns)):\n",
        "    if row[i] is not None and row[i]['emotion'] in allowed_emotions:\n",
        "      speaker = row[i]['speaker']\n",
        "      utterance = row[i]['utterance'].replace('\\x92', '`')\n",
        "      utterances.append(utterance)\n",
        "      # utterances.append(speaker + ' says: ' + utterance)\n",
        "      emotions.append(row[i]['emotion'])\n",
        "\n",
        "val_df = pd.DataFrame(list(zip(utterances, emotions)), \n",
        "               columns =['utterance', 'emotion'])\n",
        "\n",
        "df = pd.read_json('friends_test.json')\n",
        "utterances = []\n",
        "emotions = []\n",
        "for _, row in df.iterrows():\n",
        "  for i in range(len(df.columns)):\n",
        "    if row[i] is not None and row[i]['emotion'] in allowed_emotions:\n",
        "      speaker = row[i]['speaker']\n",
        "      utterance = row[i]['utterance'].replace('\\x92', '`')\n",
        "      utterances.append(utterance)\n",
        "      # utterances.append(speaker + ' says: ' + utterance)\n",
        "      emotions.append(row[i]['emotion'])\n",
        "\n",
        "test_df = pd.DataFrame(list(zip(utterances, emotions)), \n",
        "               columns =['utterance', 'emotion'])\n",
        "test_df['emotion'].value_counts()"
      ],
      "execution_count": 7,
      "outputs": [
        {
          "output_type": "execute_result",
          "data": {
            "text/plain": [
              "neutral    1287\n",
              "joy         304\n",
              "anger       161\n",
              "sadness      85\n",
              "Name: emotion, dtype: int64"
            ]
          },
          "metadata": {
            "tags": []
          },
          "execution_count": 7
        }
      ]
    },
    {
      "cell_type": "markdown",
      "metadata": {
        "id": "frpI5dQXNBU8",
        "colab_type": "text"
      },
      "source": [
        "Reduce the number of neutral samples:"
      ]
    },
    {
      "cell_type": "code",
      "metadata": {
        "id": "GyONQX4IrKle",
        "colab_type": "code",
        "colab": {}
      },
      "source": [
        "import numpy as np\n",
        "from sklearn.model_selection import train_test_split\n",
        "# lets combine + shuffle train and val and then split again.\n",
        "combined_df = pd.concat([train_df, val_df])\n",
        "combined_df = combined_df.sample(frac=1).reset_index(False)\n",
        "# indices = []\n",
        "# for idx, row in combined_df.iterrows():\n",
        "#   if row.emotion == 'neutral':\n",
        "#     indices.append(idx)\n",
        "\n",
        "# n = 5243-1400\n",
        "# combined_df.drop(indices[:n], axis='index', inplace=True)\n",
        "# train_df, val_df = train_test_split(combined_df, test_size=0.2, shuffle=True, \n",
        "#                                     stratify=combined_df['emotion'], random_state=seed)\n",
        "# print(train_df['emotion'].value_counts())"
      ],
      "execution_count": 8,
      "outputs": []
    },
    {
      "cell_type": "markdown",
      "metadata": {
        "id": "5cGY6AEjdZyC",
        "colab_type": "text"
      },
      "source": [
        "# Text augmentation"
      ]
    },
    {
      "cell_type": "code",
      "metadata": {
        "id": "HmXJyhtrdZTn",
        "colab_type": "code",
        "colab": {
          "base_uri": "https://localhost:8080/",
          "height": 34
        },
        "outputId": "bf4ba7a8-f9f2-4276-dbe0-ae471e8e3f4d"
      },
      "source": [
        "!pip install nlpaug -q\n",
        "import nlpaug.augmenter.word as naw"
      ],
      "execution_count": 9,
      "outputs": [
        {
          "output_type": "stream",
          "text": [
            "\u001b[?25l\r\u001b[K     |███▎                            | 10kB 28.1MB/s eta 0:00:01\r\u001b[K     |██████▌                         | 20kB 5.9MB/s eta 0:00:01\r\u001b[K     |█████████▊                      | 30kB 5.1MB/s eta 0:00:01\r\u001b[K     |█████████████                   | 40kB 5.4MB/s eta 0:00:01\r\u001b[K     |████████████████▏               | 51kB 5.6MB/s eta 0:00:01\r\u001b[K     |███████████████████▍            | 61kB 5.4MB/s eta 0:00:01\r\u001b[K     |██████████████████████▋         | 71kB 5.6MB/s eta 0:00:01\r\u001b[K     |█████████████████████████▉      | 81kB 5.6MB/s eta 0:00:01\r\u001b[K     |█████████████████████████████   | 92kB 5.8MB/s eta 0:00:01\r\u001b[K     |████████████████████████████████| 102kB 4.2MB/s \n",
            "\u001b[?25h"
          ],
          "name": "stdout"
        }
      ]
    },
    {
      "cell_type": "code",
      "metadata": {
        "id": "ZmgPAln3frfD",
        "colab_type": "code",
        "colab": {
          "base_uri": "https://localhost:8080/",
          "height": 119
        },
        "outputId": "18aeee93-647e-4436-fde4-ccea9b0a9855"
      },
      "source": [
        "import nltk\n",
        "nltk.download('wordnet')\n",
        "nltk.download('averaged_perceptron_tagger')"
      ],
      "execution_count": 10,
      "outputs": [
        {
          "output_type": "stream",
          "text": [
            "[nltk_data] Downloading package wordnet to /root/nltk_data...\n",
            "[nltk_data]   Unzipping corpora/wordnet.zip.\n",
            "[nltk_data] Downloading package averaged_perceptron_tagger to\n",
            "[nltk_data]     /root/nltk_data...\n",
            "[nltk_data]   Unzipping taggers/averaged_perceptron_tagger.zip.\n"
          ],
          "name": "stdout"
        },
        {
          "output_type": "execute_result",
          "data": {
            "text/plain": [
              "True"
            ]
          },
          "metadata": {
            "tags": []
          },
          "execution_count": 10
        }
      ]
    },
    {
      "cell_type": "code",
      "metadata": {
        "id": "vpMRVj2KeJcx",
        "colab_type": "code",
        "colab": {
          "base_uri": "https://localhost:8080/",
          "height": 102
        },
        "outputId": "19640081-6530-4d4f-b91b-90f6a64da88f"
      },
      "source": [
        "text = train_df.head(1)['utterance'].values[0]\n",
        "aug = naw.SynonymAug(aug_src='wordnet')\n",
        "augmented_text = aug.augment(text)\n",
        "augmented_text2 = aug.augment(text)\n",
        "print(\"Original:\")\n",
        "print(text)\n",
        "print(\"Augmented Text:\")\n",
        "print(augmented_text)\n",
        "print(augmented_text2)"
      ],
      "execution_count": 11,
      "outputs": [
        {
          "output_type": "stream",
          "text": [
            "Original:\n",
            "also I was the point person on my company`s transition from the KL-5 to GR-6 system.\n",
            "Augmented Text:\n",
            "also I was the dot person on my ship's company ` s transition from the KL - 5 to GR - 6 system .\n",
            "also I was the point person on my company ` s transition from the KL - little phoebe to GR - half a dozen organisation .\n"
          ],
          "name": "stdout"
        }
      ]
    },
    {
      "cell_type": "code",
      "metadata": {
        "id": "no3WDOSFiALy",
        "colab_type": "code",
        "colab": {}
      },
      "source": [
        "aug = naw.SynonymAug(aug_src='wordnet')\n",
        "utterances = []\n",
        "emotions = []\n",
        "for _,row in train_df.iterrows():\n",
        "    utterances.append(row.utterance)\n",
        "    emotions.append(row.emotion)\n",
        "    if row.emotion == 'sadness' or row.emotion == 'anger':  # add one augmented sample for anger\n",
        "      augmented = aug.augment(utterance)\n",
        "      utterances.append(augmented)\n",
        "      emotions.append(row.emotion)\n",
        "    if row.emotion == 'sadness':  # add two for sadness\n",
        "      augmented = aug.augment(utterance)\n",
        "      utterances.append(augmented)\n",
        "      emotions.append(row.emotion)\n",
        "\n",
        "train_df = pd.DataFrame(list(zip(utterances, emotions)), \n",
        "               columns =['utterance', 'emotion']) "
      ],
      "execution_count": 12,
      "outputs": []
    },
    {
      "cell_type": "code",
      "metadata": {
        "id": "OXexTi-ZrQvk",
        "colab_type": "code",
        "colab": {
          "base_uri": "https://localhost:8080/",
          "height": 34
        },
        "outputId": "eee0566c-24ca-4af0-9369-9da118130a63"
      },
      "source": [
        "max_len = -1\n",
        "for _,row in combined_df.iterrows():\n",
        "  length = len(row.utterance)\n",
        "  if length > max_len:\n",
        "    max_len = length\n",
        "\n",
        "max_len"
      ],
      "execution_count": 13,
      "outputs": [
        {
          "output_type": "execute_result",
          "data": {
            "text/plain": [
              "241"
            ]
          },
          "metadata": {
            "tags": []
          },
          "execution_count": 13
        }
      ]
    },
    {
      "cell_type": "code",
      "metadata": {
        "id": "cbdkH7_vrXHs",
        "colab_type": "code",
        "colab": {
          "base_uri": "https://localhost:8080/",
          "height": 34
        },
        "outputId": "3a893aa2-2349-45fb-876b-cd74bbf08008"
      },
      "source": [
        "# create the labels as integers\n",
        "from sklearn.preprocessing import LabelEncoder\n",
        "labelEncoder = LabelEncoder()\n",
        "train_df['label'] = labelEncoder.fit_transform(train_df['emotion'].values)\n",
        "train_df.drop(['emotion'], axis='columns', inplace=True)\n",
        "\n",
        "val_df['label'] = labelEncoder.transform(val_df['emotion'].values)\n",
        "val_df.drop(['emotion'], axis='columns', inplace=True)\n",
        "\n",
        "test_df['label'] = labelEncoder.transform(test_df['emotion'].values)\n",
        "test_df.drop(['emotion'], axis='columns', inplace=True)\n",
        "\n",
        "num_classes=len(labelEncoder.classes_)\n",
        "labelEncoder.classes_"
      ],
      "execution_count": 14,
      "outputs": [
        {
          "output_type": "execute_result",
          "data": {
            "text/plain": [
              "array(['anger', 'joy', 'neutral', 'sadness'], dtype=object)"
            ]
          },
          "metadata": {
            "tags": []
          },
          "execution_count": 14
        }
      ]
    },
    {
      "cell_type": "markdown",
      "metadata": {
        "id": "bvIKITEoU7Wz",
        "colab_type": "text"
      },
      "source": [
        "# Model"
      ]
    },
    {
      "cell_type": "code",
      "metadata": {
        "id": "yRJ3rf7Lrv5P",
        "colab_type": "code",
        "colab": {}
      },
      "source": [
        "max_seq_length = max_len\n",
        "input_word_ids = tf.keras.layers.Input(shape=(max_seq_length,), dtype=tf.int32,\n",
        "                                       name=\"input_word_ids\")\n",
        "input_mask = tf.keras.layers.Input(shape=(max_seq_length,), dtype=tf.int32,\n",
        "                                   name=\"input_mask\")\n",
        "segment_ids = tf.keras.layers.Input(shape=(max_seq_length,), dtype=tf.int32,\n",
        "                                    name=\"segment_ids\")\n",
        "albert_layer = hub.KerasLayer(\"https://tfhub.dev/tensorflow/albert_en_base/1\",\n",
        "                              trainable=False)\n",
        "pooled_output, sequence_output = albert_layer([input_word_ids, input_mask, segment_ids])"
      ],
      "execution_count": 15,
      "outputs": []
    },
    {
      "cell_type": "code",
      "metadata": {
        "id": "DuTs_AEjVGpv",
        "colab_type": "code",
        "colab": {}
      },
      "source": [
        "import tokenization\n",
        "import sentencepiece"
      ],
      "execution_count": 16,
      "outputs": []
    },
    {
      "cell_type": "code",
      "metadata": {
        "id": "9CF0CiH2sIAr",
        "colab_type": "code",
        "colab": {}
      },
      "source": [
        "sp_model_file = albert_layer.resolved_object.sp_model_file.asset_path.numpy()\n",
        "tokenizer = tokenization.FullSentencePieceTokenizer(sp_model_file)"
      ],
      "execution_count": 17,
      "outputs": []
    },
    {
      "cell_type": "code",
      "metadata": {
        "id": "i8NICU90rlj1",
        "colab_type": "code",
        "colab": {}
      },
      "source": [
        "x_train, y_train = prep_data(train_df)\n",
        "x_val, y_val = prep_data(val_df)\n",
        "x_test, y_test = prep_data(test_df)\n",
        "\n",
        "y_true = y_test\n",
        "\n",
        "y_train = tf.keras.utils.to_categorical(y_train, num_classes=num_classes)\n",
        "y_val = tf.keras.utils.to_categorical(y_val, num_classes=num_classes)\n",
        "y_test = tf.keras.utils.to_categorical(y_test, num_classes=num_classes)"
      ],
      "execution_count": 18,
      "outputs": []
    },
    {
      "cell_type": "code",
      "metadata": {
        "id": "UJum7xMhsO2I",
        "colab_type": "code",
        "colab": {
          "base_uri": "https://localhost:8080/",
          "height": 391
        },
        "outputId": "722245b3-5a87-4a09-ad0a-8a61a45e6465"
      },
      "source": [
        "from tensorflow.keras.layers import Dense, Dropout\n",
        "from tensorflow.keras.models import Model\n",
        "\n",
        "m = Dense(16, activation='relu')(pooled_output)\n",
        "out = Dense(num_classes, activation='softmax')(m)\n",
        "model = Model(inputs=[input_word_ids, input_mask, segment_ids], outputs=[out])\n",
        "\n",
        "model.summary()"
      ],
      "execution_count": 19,
      "outputs": [
        {
          "output_type": "stream",
          "text": [
            "Model: \"functional_1\"\n",
            "__________________________________________________________________________________________________\n",
            "Layer (type)                    Output Shape         Param #     Connected to                     \n",
            "==================================================================================================\n",
            "input_word_ids (InputLayer)     [(None, 241)]        0                                            \n",
            "__________________________________________________________________________________________________\n",
            "input_mask (InputLayer)         [(None, 241)]        0                                            \n",
            "__________________________________________________________________________________________________\n",
            "segment_ids (InputLayer)        [(None, 241)]        0                                            \n",
            "__________________________________________________________________________________________________\n",
            "keras_layer (KerasLayer)        [(None, 768), (None, 11683584    input_word_ids[0][0]             \n",
            "                                                                 input_mask[0][0]                 \n",
            "                                                                 segment_ids[0][0]                \n",
            "__________________________________________________________________________________________________\n",
            "dense (Dense)                   (None, 16)           12304       keras_layer[0][0]                \n",
            "__________________________________________________________________________________________________\n",
            "dense_1 (Dense)                 (None, 4)            68          dense[0][0]                      \n",
            "==================================================================================================\n",
            "Total params: 11,695,956\n",
            "Trainable params: 12,372\n",
            "Non-trainable params: 11,683,584\n",
            "__________________________________________________________________________________________________\n"
          ],
          "name": "stdout"
        }
      ]
    },
    {
      "cell_type": "code",
      "metadata": {
        "id": "1e14Uci3saJx",
        "colab_type": "code",
        "colab": {}
      },
      "source": [
        "import tensorflow_addons as tfa\n",
        "\n",
        "total = 161+304+1287+85\n",
        "weight_for_0 = (1 / 161)*(total)/4.0 \n",
        "weight_for_1 = (1 / 304)*(total)/4.0\n",
        "weight_for_2 = (1 / 1287)*(total)/4.0\n",
        "weight_for_3 = (1 / 85)*(total)/4.0\n",
        "class_weight = {0: weight_for_0, 1: weight_for_1, 2: weight_for_2, 3: weight_for_3}"
      ],
      "execution_count": 20,
      "outputs": []
    },
    {
      "cell_type": "code",
      "metadata": {
        "id": "vZwqFEZPsrsl",
        "colab_type": "code",
        "colab": {}
      },
      "source": [
        "f1_score = tfa.metrics.F1Score(num_classes, average='micro', name='f1')\n",
        "\n",
        "model.compile(optimizer=tf.keras.optimizers.Adam(learning_rate=0.001), \n",
        "              loss='categorical_crossentropy', \n",
        "              metrics=[f1_score])"
      ],
      "execution_count": 21,
      "outputs": []
    },
    {
      "cell_type": "code",
      "metadata": {
        "id": "naqFH4z42lZG",
        "colab_type": "code",
        "colab": {}
      },
      "source": [
        "class MyCallback(tf.keras.callbacks.Callback):\n",
        "  def on_epoch_begin(self, epoch, logs=None):\n",
        "    print('Using learning_rate = ' + str(self.model.optimizer.learning_rate.numpy()))"
      ],
      "execution_count": 22,
      "outputs": []
    },
    {
      "cell_type": "markdown",
      "metadata": {
        "id": "WoGuYUCDVERc",
        "colab_type": "text"
      },
      "source": [
        "# Train"
      ]
    },
    {
      "cell_type": "code",
      "metadata": {
        "id": "sJCJ5xiMs1lf",
        "colab_type": "code",
        "colab": {
          "base_uri": "https://localhost:8080/",
          "height": 442
        },
        "outputId": "ff3128fa-7a08-4239-d581-e2c28da15d40"
      },
      "source": [
        "filepath = 'model.h5'\n",
        "mc = tf.keras.callbacks.ModelCheckpoint( filepath, monitor='val_loss', verbose=0, \n",
        "                                        save_best_only=True, save_weights_only=True, \n",
        "                                        mode='auto')\n",
        "es = tf.keras.callbacks.EarlyStopping(monitor='val_loss', min_delta=0, patience=10, \n",
        "                                      verbose=1, mode='auto', restore_best_weights=False)\n",
        "\n",
        "history = model.fit(x_train, y_train, epochs=100, verbose=1, \n",
        "                    validation_data=(x_val, y_val), callbacks=[mc, es],\n",
        "                    # class_weight = class_weight\n",
        "                    )"
      ],
      "execution_count": 23,
      "outputs": [
        {
          "output_type": "stream",
          "text": [
            "Epoch 1/100\n",
            "254/254 [==============================] - 86s 337ms/step - loss: 1.0193 - f1: 0.6145 - val_loss: 0.9688 - val_f1: 0.6491\n",
            "Epoch 2/100\n",
            "254/254 [==============================] - 85s 335ms/step - loss: 0.8890 - f1: 0.6658 - val_loss: 0.9547 - val_f1: 0.6675\n",
            "Epoch 3/100\n",
            "254/254 [==============================] - 85s 334ms/step - loss: 0.8625 - f1: 0.6749 - val_loss: 0.9708 - val_f1: 0.6557\n",
            "Epoch 4/100\n",
            "254/254 [==============================] - 85s 334ms/step - loss: 0.8447 - f1: 0.6702 - val_loss: 0.9608 - val_f1: 0.6439\n",
            "Epoch 5/100\n",
            "254/254 [==============================] - 85s 334ms/step - loss: 0.8280 - f1: 0.6876 - val_loss: 0.9665 - val_f1: 0.6426\n",
            "Epoch 6/100\n",
            "254/254 [==============================] - 85s 334ms/step - loss: 0.8228 - f1: 0.6887 - val_loss: 1.0057 - val_f1: 0.6610\n",
            "Epoch 7/100\n",
            "254/254 [==============================] - 85s 334ms/step - loss: 0.8068 - f1: 0.6899 - val_loss: 0.9626 - val_f1: 0.6531\n",
            "Epoch 8/100\n",
            "254/254 [==============================] - 85s 334ms/step - loss: 0.8017 - f1: 0.6946 - val_loss: 0.9761 - val_f1: 0.6689\n",
            "Epoch 9/100\n",
            "254/254 [==============================] - 85s 334ms/step - loss: 0.8038 - f1: 0.6930 - val_loss: 0.9707 - val_f1: 0.6649\n",
            "Epoch 10/100\n",
            "254/254 [==============================] - 85s 334ms/step - loss: 0.7873 - f1: 0.7025 - val_loss: 0.9774 - val_f1: 0.6597\n",
            "Epoch 11/100\n",
            "254/254 [==============================] - 85s 334ms/step - loss: 0.7842 - f1: 0.7008 - val_loss: 0.9621 - val_f1: 0.6557\n",
            "Epoch 12/100\n",
            "254/254 [==============================] - 85s 334ms/step - loss: 0.7872 - f1: 0.6967 - val_loss: 0.9715 - val_f1: 0.6531\n",
            "Epoch 00012: early stopping\n"
          ],
          "name": "stdout"
        }
      ]
    },
    {
      "cell_type": "code",
      "metadata": {
        "id": "EbzW9kTXs4l3",
        "colab_type": "code",
        "colab": {
          "base_uri": "https://localhost:8080/",
          "height": 893
        },
        "outputId": "c7fbf4e9-aa24-41b5-8823-15bacd08e8b3"
      },
      "source": [
        "import matplotlib.pyplot as plt\n",
        "import seaborn as sns\n",
        "\n",
        "history = history.history\n",
        "\n",
        "fig, (ax1, ax2) = plt.subplots(2, 1, sharex='col', figsize=(20, 14))\n",
        "\n",
        "ax1.plot(history['loss'], label='Training')\n",
        "ax1.plot(history['val_loss'], label='Validation')\n",
        "ax1.legend(loc='best')\n",
        "ax1.set_title('Loss')\n",
        "\n",
        "ax2.plot(history['f1'], label='Training')\n",
        "ax2.plot(history['val_f1'], label='Validation')\n",
        "ax2.legend(loc='best')\n",
        "ax2.set_title('F1 Score')\n",
        "\n",
        "plt.xlabel('Epochs')\n",
        "sns.despine()\n",
        "plt.show()"
      ],
      "execution_count": 24,
      "outputs": [
        {
          "output_type": "stream",
          "text": [
            "/usr/local/lib/python3.6/dist-packages/statsmodels/tools/_testing.py:19: FutureWarning: pandas.util.testing is deprecated. Use the functions in the public API at pandas.testing instead.\n",
            "  import pandas.util.testing as tm\n"
          ],
          "name": "stderr"
        },
        {
          "output_type": "display_data",
          "data": {
            "image/png": "[encoded data removed]",
            "text/plain": [
              "<Figure size 1440x1008 with 2 Axes>"
            ]
          },
          "metadata": {
            "tags": [],
            "needs_background": "light"
          }
        }
      ]
    },
    {
      "cell_type": "markdown",
      "metadata": {
        "id": "rDVWX79hVJzc",
        "colab_type": "text"
      },
      "source": [
        "# Fine tune"
      ]
    },
    {
      "cell_type": "code",
      "metadata": {
        "id": "0ACjxYH6F8wr",
        "colab_type": "code",
        "colab": {
          "base_uri": "https://localhost:8080/",
          "height": 391
        },
        "outputId": "98e3e069-44bc-477e-dd69-27064e16b202"
      },
      "source": [
        "model.load_weights(filepath)\n",
        "model.get_layer(name='keras_layer').trainable = True\n",
        "model.summary()"
      ],
      "execution_count": 25,
      "outputs": [
        {
          "output_type": "stream",
          "text": [
            "Model: \"functional_1\"\n",
            "__________________________________________________________________________________________________\n",
            "Layer (type)                    Output Shape         Param #     Connected to                     \n",
            "==================================================================================================\n",
            "input_word_ids (InputLayer)     [(None, 241)]        0                                            \n",
            "__________________________________________________________________________________________________\n",
            "input_mask (InputLayer)         [(None, 241)]        0                                            \n",
            "__________________________________________________________________________________________________\n",
            "segment_ids (InputLayer)        [(None, 241)]        0                                            \n",
            "__________________________________________________________________________________________________\n",
            "keras_layer (KerasLayer)        [(None, 768), (None, 11683584    input_word_ids[0][0]             \n",
            "                                                                 input_mask[0][0]                 \n",
            "                                                                 segment_ids[0][0]                \n",
            "__________________________________________________________________________________________________\n",
            "dense (Dense)                   (None, 16)           12304       keras_layer[0][0]                \n",
            "__________________________________________________________________________________________________\n",
            "dense_1 (Dense)                 (None, 4)            68          dense[0][0]                      \n",
            "==================================================================================================\n",
            "Total params: 11,695,956\n",
            "Trainable params: 11,695,956\n",
            "Non-trainable params: 0\n",
            "__________________________________________________________________________________________________\n"
          ],
          "name": "stdout"
        }
      ]
    },
    {
      "cell_type": "code",
      "metadata": {
        "id": "4g3zOGbXGNNc",
        "colab_type": "code",
        "colab": {}
      },
      "source": [
        "model.compile(optimizer=tf.keras.optimizers.Adam(learning_rate=1e-6), \n",
        "              loss='categorical_crossentropy', \n",
        "              metrics=[f1_score])"
      ],
      "execution_count": 26,
      "outputs": []
    },
    {
      "cell_type": "code",
      "metadata": {
        "id": "s7WPBZZpGl9I",
        "colab_type": "code",
        "colab": {
          "base_uri": "https://localhost:8080/",
          "height": 646
        },
        "outputId": "194702c9-3bfc-4707-ea7a-17f3beacc036"
      },
      "source": [
        "history = model.fit(x_train, y_train, epochs=100, verbose=1, \n",
        "                    validation_data=(x_val, y_val), callbacks=[mc, es],\n",
        "                    # class_weight = class_weight\n",
        "                    )"
      ],
      "execution_count": 27,
      "outputs": [
        {
          "output_type": "stream",
          "text": [
            "Epoch 1/100\n",
            "254/254 [==============================] - 233s 917ms/step - loss: 0.8023 - f1: 0.6963 - val_loss: 0.9148 - val_f1: 0.6951\n",
            "Epoch 2/100\n",
            "254/254 [==============================] - 232s 915ms/step - loss: 0.7340 - f1: 0.7260 - val_loss: 0.8705 - val_f1: 0.7109\n",
            "Epoch 3/100\n",
            "254/254 [==============================] - 232s 915ms/step - loss: 0.7005 - f1: 0.7365 - val_loss: 0.8537 - val_f1: 0.7188\n",
            "Epoch 4/100\n",
            "254/254 [==============================] - 232s 914ms/step - loss: 0.6751 - f1: 0.7439 - val_loss: 0.8636 - val_f1: 0.7083\n",
            "Epoch 5/100\n",
            "254/254 [==============================] - 232s 914ms/step - loss: 0.6487 - f1: 0.7499 - val_loss: 0.8369 - val_f1: 0.7135\n",
            "Epoch 6/100\n",
            "254/254 [==============================] - 232s 914ms/step - loss: 0.6222 - f1: 0.7597 - val_loss: 0.8686 - val_f1: 0.7201\n",
            "Epoch 7/100\n",
            "254/254 [==============================] - 232s 914ms/step - loss: 0.6006 - f1: 0.7658 - val_loss: 0.8407 - val_f1: 0.7254\n",
            "Epoch 8/100\n",
            "254/254 [==============================] - 232s 914ms/step - loss: 0.5777 - f1: 0.7714 - val_loss: 0.8329 - val_f1: 0.7346\n",
            "Epoch 9/100\n",
            "254/254 [==============================] - 232s 914ms/step - loss: 0.5527 - f1: 0.7803 - val_loss: 0.8590 - val_f1: 0.7254\n",
            "Epoch 10/100\n",
            "254/254 [==============================] - 232s 914ms/step - loss: 0.5279 - f1: 0.7925 - val_loss: 0.8807 - val_f1: 0.7227\n",
            "Epoch 11/100\n",
            "254/254 [==============================] - 232s 914ms/step - loss: 0.5011 - f1: 0.7995 - val_loss: 0.8766 - val_f1: 0.7293\n",
            "Epoch 12/100\n",
            "254/254 [==============================] - 232s 914ms/step - loss: 0.4869 - f1: 0.8052 - val_loss: 0.8722 - val_f1: 0.7267\n",
            "Epoch 13/100\n",
            "254/254 [==============================] - 232s 914ms/step - loss: 0.4523 - f1: 0.8211 - val_loss: 0.9058 - val_f1: 0.7201\n",
            "Epoch 14/100\n",
            "254/254 [==============================] - 232s 914ms/step - loss: 0.4286 - f1: 0.8284 - val_loss: 0.9222 - val_f1: 0.7254\n",
            "Epoch 15/100\n",
            "254/254 [==============================] - 232s 914ms/step - loss: 0.4036 - f1: 0.8406 - val_loss: 0.9275 - val_f1: 0.7188\n",
            "Epoch 16/100\n",
            "254/254 [==============================] - 232s 914ms/step - loss: 0.3825 - f1: 0.8500 - val_loss: 0.9464 - val_f1: 0.7227\n",
            "Epoch 17/100\n",
            "254/254 [==============================] - 232s 915ms/step - loss: 0.3601 - f1: 0.8630 - val_loss: 0.9431 - val_f1: 0.7148\n",
            "Epoch 18/100\n",
            "254/254 [==============================] - 232s 914ms/step - loss: 0.3452 - f1: 0.8724 - val_loss: 0.9559 - val_f1: 0.7017\n",
            "Epoch 00018: early stopping\n"
          ],
          "name": "stdout"
        }
      ]
    },
    {
      "cell_type": "code",
      "metadata": {
        "id": "eOG8Vu70GuyB",
        "colab_type": "code",
        "colab": {
          "base_uri": "https://localhost:8080/",
          "height": 839
        },
        "outputId": "fe773546-44e0-4791-8c14-d17ee1464bea"
      },
      "source": [
        "history = history.history\n",
        "\n",
        "fig, (ax1, ax2) = plt.subplots(2, 1, sharex='col', figsize=(20, 14))\n",
        "\n",
        "ax1.plot(history['loss'], label='Training')\n",
        "ax1.plot(history['val_loss'], label='Validation')\n",
        "ax1.legend(loc='best')\n",
        "ax1.set_title('Loss')\n",
        "\n",
        "ax2.plot(history['f1'], label='Training')\n",
        "ax2.plot(history['val_f1'], label='Validation')\n",
        "ax2.legend(loc='best')\n",
        "ax2.set_title('F1 Score')\n",
        "\n",
        "plt.xlabel('Epochs')\n",
        "sns.despine()\n",
        "plt.show()"
      ],
      "execution_count": 28,
      "outputs": [
        {
          "output_type": "display_data",
          "data": {
            "image/png": "[encoded data removed]",
            "text/plain": [
              "<Figure size 1440x1008 with 2 Axes>"
            ]
          },
          "metadata": {
            "tags": [],
            "needs_background": "light"
          }
        }
      ]
    },
    {
      "cell_type": "code",
      "metadata": {
        "id": "QdKwCZsjs8yr",
        "colab_type": "code",
        "colab": {
          "base_uri": "https://localhost:8080/",
          "height": 51
        },
        "outputId": "ef57e4a2-34d8-42c3-c32c-360c9f19db58"
      },
      "source": [
        "model.load_weights(filepath)\n",
        "model.evaluate(x_test, y_test, verbose=1)"
      ],
      "execution_count": 29,
      "outputs": [
        {
          "output_type": "stream",
          "text": [
            "58/58 [==============================] - 17s 299ms/step - loss: 0.6735 - f1: 0.7741\n"
          ],
          "name": "stdout"
        },
        {
          "output_type": "execute_result",
          "data": {
            "text/plain": [
              "[0.673490047454834, 0.7740882039070129]"
            ]
          },
          "metadata": {
            "tags": []
          },
          "execution_count": 29
        }
      ]
    },
    {
      "cell_type": "markdown",
      "metadata": {
        "id": "eD5N7Ncqs9ae",
        "colab_type": "text"
      },
      "source": [
        "* Adam with fine-tuning                        : **loss: 0.1261 - f1: 0.7763**\n",
        "* with original split                          : loss: 0.1281 - f1: 0.7670\n",
        "* original split with no Dense layer           : loss: 0.6591 - f1: 0.7735\n",
        "* Adam with original split, no SFCE            : loss: 0.6968 - f1: 0.7703\n",
        "* with text augmentation                       : **loss: 0.6735 - f1: 0.7741**\n",
        "* ensemble model                               :\n"
      ]
    },
    {
      "cell_type": "code",
      "metadata": {
        "id": "K5YrT1oIB1m3",
        "colab_type": "code",
        "colab": {}
      },
      "source": [
        "y_pred = model.predict(x_test)\n",
        "y_pred = y_pred.argmax(axis=1)"
      ],
      "execution_count": 30,
      "outputs": []
    },
    {
      "cell_type": "markdown",
      "metadata": {
        "id": "lu0IrBm1VPdE",
        "colab_type": "text"
      },
      "source": [
        "Check the F1 score for each class"
      ]
    },
    {
      "cell_type": "code",
      "metadata": {
        "id": "wONv9FqDBoid",
        "colab_type": "code",
        "colab": {
          "base_uri": "https://localhost:8080/",
          "height": 204
        },
        "outputId": "bf6f5c2b-e3e0-42be-bcea-5bb8a084370b"
      },
      "source": [
        "from sklearn.metrics import classification_report\n",
        "print(classification_report(y_true, y_pred, target_names=labelEncoder.classes_))"
      ],
      "execution_count": 31,
      "outputs": [
        {
          "output_type": "stream",
          "text": [
            "              precision    recall  f1-score   support\n",
            "\n",
            "       anger       0.48      0.25      0.33       161\n",
            "         joy       0.56      0.55      0.55       304\n",
            "     neutral       0.84      0.94      0.89      1287\n",
            "     sadness       0.00      0.00      0.00        85\n",
            "\n",
            "    accuracy                           0.77      1837\n",
            "   macro avg       0.47      0.44      0.44      1837\n",
            "weighted avg       0.72      0.77      0.74      1837\n",
            "\n"
          ],
          "name": "stdout"
        }
      ]
    },
    {
      "cell_type": "markdown",
      "metadata": {
        "id": "rBxb_A4CCJAM",
        "colab_type": "text"
      },
      "source": [
        "Text augmentation helped with anger.\n",
        "\n",
        "```\n",
        "                precision    recall  f1-score   support\n",
        "\n",
        "       anger       0.48      0.25      0.33       161\n",
        "         joy       0.56      0.55      0.55       304\n",
        "     neutral       0.84      0.94      0.89      1287\n",
        "     sadness       0.00      0.00      0.00        85\n",
        "\n",
        "    accuracy                           0.77      1837\n",
        "   macro avg       0.47      0.44      0.44      1837\n",
        "weighted avg       0.72      0.77      0.74      1837\n",
        "```\n",
        "\n"
      ]
    }
  ]
}